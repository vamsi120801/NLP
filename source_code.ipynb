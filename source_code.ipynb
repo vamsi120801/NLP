{
 "cells": [
  {
   "cell_type": "code",
   "execution_count": 22,
   "id": "4f450cfb",
   "metadata": {},
   "outputs": [],
   "source": [
    "# importing the libraries\n",
    "import pandas as pd\n",
    "import numpy as np\n",
    "import seaborn as sns\n",
    "import matplotlib.pyplot as plt\n",
    "import nltk, re, string\n",
    "from string import punctuation\n",
    "from nltk.stem import WordNetLemmatizer, PorterStemmer\n",
    "from nltk.corpus import stopwords\n",
    "from nltk.tokenize import word_tokenize\n",
    "from nltk.util import ngrams\n",
    "from wordcloud import WordCloud\n",
    "from sklearn.feature_extraction.text import CountVectorizer, TfidfVectorizer\n",
    "import itertools\n",
    "from sklearn import metrics\n",
    "from sklearn.naive_bayes import MultinomialNB\n",
    "from sklearn.model_selection import train_test_split\n",
    "from sklearn.metrics import accuracy_score, precision_score, recall_score\n",
    "from textblob import TextBlob"
   ]
  },
  {
   "cell_type": "code",
   "execution_count": 2,
   "id": "80e50df9",
   "metadata": {},
   "outputs": [],
   "source": [
    "df = pd.read_csv(\"C:/Users/Adithya/OneDrive/Documents/Projects/Project-2/financial_sentiment_data.csv\", index_col = False)"
   ]
  },
  {
   "cell_type": "code",
   "execution_count": 3,
   "id": "018c7b56",
   "metadata": {},
   "outputs": [
    {
     "data": {
      "text/html": [
       "<div>\n",
       "<style scoped>\n",
       "    .dataframe tbody tr th:only-of-type {\n",
       "        vertical-align: middle;\n",
       "    }\n",
       "\n",
       "    .dataframe tbody tr th {\n",
       "        vertical-align: top;\n",
       "    }\n",
       "\n",
       "    .dataframe thead th {\n",
       "        text-align: right;\n",
       "    }\n",
       "</style>\n",
       "<table border=\"1\" class=\"dataframe\">\n",
       "  <thead>\n",
       "    <tr style=\"text-align: right;\">\n",
       "      <th></th>\n",
       "      <th>Sentence</th>\n",
       "      <th>Sentiment</th>\n",
       "    </tr>\n",
       "  </thead>\n",
       "  <tbody>\n",
       "    <tr>\n",
       "      <th>1825</th>\n",
       "      <td>Proha Plc ( Euronext :7327 ) announced today (...</td>\n",
       "      <td>neutral</td>\n",
       "    </tr>\n",
       "    <tr>\n",
       "      <th>1859</th>\n",
       "      <td>SSH Communications Security Corporation is hea...</td>\n",
       "      <td>neutral</td>\n",
       "    </tr>\n",
       "    <tr>\n",
       "      <th>2672</th>\n",
       "      <td>Ahlstrom 's share is quoted on the NASDAQ OMX ...</td>\n",
       "      <td>neutral</td>\n",
       "    </tr>\n",
       "    <tr>\n",
       "      <th>3272</th>\n",
       "      <td>The company serves customers in various indust...</td>\n",
       "      <td>neutral</td>\n",
       "    </tr>\n",
       "    <tr>\n",
       "      <th>3986</th>\n",
       "      <td>The issuer is solely responsible for the conte...</td>\n",
       "      <td>neutral</td>\n",
       "    </tr>\n",
       "    <tr>\n",
       "      <th>5342</th>\n",
       "      <td>The report profiles 614 companies including ma...</td>\n",
       "      <td>neutral</td>\n",
       "    </tr>\n",
       "  </tbody>\n",
       "</table>\n",
       "</div>"
      ],
      "text/plain": [
       "                                               Sentence Sentiment\n",
       "1825  Proha Plc ( Euronext :7327 ) announced today (...   neutral\n",
       "1859  SSH Communications Security Corporation is hea...   neutral\n",
       "2672  Ahlstrom 's share is quoted on the NASDAQ OMX ...   neutral\n",
       "3272  The company serves customers in various indust...   neutral\n",
       "3986  The issuer is solely responsible for the conte...   neutral\n",
       "5342  The report profiles 614 companies including ma...   neutral"
      ]
     },
     "execution_count": 3,
     "metadata": {},
     "output_type": "execute_result"
    }
   ],
   "source": [
    "#showing the duplicated data\n",
    "df[df.duplicated()]"
   ]
  },
  {
   "cell_type": "code",
   "execution_count": 4,
   "id": "a6b92004",
   "metadata": {},
   "outputs": [],
   "source": [
    "df.drop_duplicates(inplace=True)"
   ]
  },
  {
   "cell_type": "code",
   "execution_count": 5,
   "id": "42c43efa",
   "metadata": {},
   "outputs": [],
   "source": [
    "# Group the DataFrame by \"Sentence\" and count the number of occurrences of each sentence\n",
    "df_grouped = df.groupby(\"Sentence\").agg({\"Sentiment\": \"nunique\"}).reset_index()"
   ]
  },
  {
   "cell_type": "code",
   "execution_count": 6,
   "id": "00efa097",
   "metadata": {},
   "outputs": [],
   "source": [
    "df_duplicates = df_grouped[df_grouped[\"Sentiment\"] > 1]"
   ]
  },
  {
   "cell_type": "code",
   "execution_count": 7,
   "id": "aaa988a3",
   "metadata": {},
   "outputs": [],
   "source": [
    "# Merge the filtered DataFrame with the original DataFrame to obtain the repeated sentences and their corresponding sentiments\n",
    "df_repeated = pd.merge(df, df_duplicates, on=\"Sentence\", how=\"inner\")"
   ]
  },
  {
   "cell_type": "code",
   "execution_count": 8,
   "id": "dbc39f24",
   "metadata": {},
   "outputs": [],
   "source": [
    "# Remove the repeated sentences from the original DataFrame\n",
    "df.drop_duplicates(subset=\"Sentence\", keep=False, inplace=True)"
   ]
  },
  {
   "cell_type": "code",
   "execution_count": 9,
   "id": "d62bad85",
   "metadata": {},
   "outputs": [],
   "source": [
    "df_repeated.drop(\"Sentiment_x\",axis=1, inplace=True)"
   ]
  },
  {
   "cell_type": "code",
   "execution_count": 10,
   "id": "7e6b5d54",
   "metadata": {},
   "outputs": [],
   "source": [
    "df_repeated.drop(\"Sentiment_y\",axis=1, inplace=True)"
   ]
  },
  {
   "cell_type": "code",
   "execution_count": 11,
   "id": "ddd9bf40",
   "metadata": {},
   "outputs": [],
   "source": [
    "df_repeated.drop_duplicates(inplace=True)"
   ]
  },
  {
   "cell_type": "code",
   "execution_count": 12,
   "id": "a29f6eb9",
   "metadata": {},
   "outputs": [
    {
     "data": {
      "text/html": [
       "<div>\n",
       "<style scoped>\n",
       "    .dataframe tbody tr th:only-of-type {\n",
       "        vertical-align: middle;\n",
       "    }\n",
       "\n",
       "    .dataframe tbody tr th {\n",
       "        vertical-align: top;\n",
       "    }\n",
       "\n",
       "    .dataframe thead th {\n",
       "        text-align: right;\n",
       "    }\n",
       "</style>\n",
       "<table border=\"1\" class=\"dataframe\">\n",
       "  <thead>\n",
       "    <tr style=\"text-align: right;\">\n",
       "      <th></th>\n",
       "      <th>Sentence</th>\n",
       "    </tr>\n",
       "  </thead>\n",
       "  <tbody>\n",
       "    <tr>\n",
       "      <th>count</th>\n",
       "      <td>514</td>\n",
       "    </tr>\n",
       "    <tr>\n",
       "      <th>unique</th>\n",
       "      <td>514</td>\n",
       "    </tr>\n",
       "    <tr>\n",
       "      <th>top</th>\n",
       "      <td>SSH COMMUNICATIONS SECURITY CORP STOCK EXCHANG...</td>\n",
       "    </tr>\n",
       "    <tr>\n",
       "      <th>freq</th>\n",
       "      <td>1</td>\n",
       "    </tr>\n",
       "  </tbody>\n",
       "</table>\n",
       "</div>"
      ],
      "text/plain": [
       "                                                 Sentence\n",
       "count                                                 514\n",
       "unique                                                514\n",
       "top     SSH COMMUNICATIONS SECURITY CORP STOCK EXCHANG...\n",
       "freq                                                    1"
      ]
     },
     "execution_count": 12,
     "metadata": {},
     "output_type": "execute_result"
    }
   ],
   "source": [
    "df_repeated.describe()"
   ]
  },
  {
   "cell_type": "code",
   "execution_count": 13,
   "id": "2e6399c6",
   "metadata": {},
   "outputs": [],
   "source": [
    "def text_normalization(text):\n",
    "    #1) converting all characters to lower case\n",
    "    text = text.lower()\n",
    "    #2) removing punctuations\n",
    "    punc = str.maketrans(string.punctuation, ' '*len(string.punctuation))\n",
    "    text = text.translate(punc)\n",
    "    #2) removing extra white spaces\n",
    "    text = re.sub('\\s+', ' ', text).strip()\n",
    "    #4) removing special characters\n",
    "    text = re.sub('[^A-Za-z0-9\\s]+', '', text)\n",
    "    #5) removing numbers\n",
    "    text = re.sub('\\d+', '', text)\n",
    "    ###5) removing punctuations\n",
    "    ###text = re.sub('[%s]' % re.escape(string.punctuation), '', text)\n",
    "    #6) removing links\n",
    "    text = re.sub('https?://\\S+|www\\.\\S+', '', text)\n",
    "    #7) Deleting newlines\n",
    "    text = re.sub('\\n', '', text)\n",
    "    return text"
   ]
  },
  {
   "cell_type": "code",
   "execution_count": 14,
   "id": "0cdbf8db",
   "metadata": {},
   "outputs": [],
   "source": [
    "df['Sentence'] = df['Sentence'].apply(text_normalization)"
   ]
  },
  {
   "cell_type": "code",
   "execution_count": 15,
   "id": "e8df1316",
   "metadata": {},
   "outputs": [],
   "source": [
    "df_repeated['Sentence'] = df_repeated['Sentence'].apply(text_normalization)"
   ]
  },
  {
   "cell_type": "code",
   "execution_count": 16,
   "id": "8b6dde47",
   "metadata": {},
   "outputs": [],
   "source": [
    "lemmatizer = WordNetLemmatizer()\n",
    "Stopwords = set(nltk.corpus.stopwords.words(\"english\")) - set([\"not\"])"
   ]
  },
  {
   "cell_type": "code",
   "execution_count": 17,
   "id": "13b00ac9",
   "metadata": {},
   "outputs": [],
   "source": [
    "def preprocess_text(text):\n",
    "    text = text.lower()\n",
    "    tokens = nltk.word_tokenize(text)\n",
    "    tokens = [token for token in tokens if token not in Stopwords ]\n",
    "    tokens = [lemmatizer.lemmatize(token) for token in tokens]\n",
    "    text = \" \".join(tokens)\n",
    "    return text"
   ]
  },
  {
   "cell_type": "code",
   "execution_count": 18,
   "id": "bf388888",
   "metadata": {},
   "outputs": [],
   "source": [
    "df[\"Sentence\"] = df['Sentence'].apply(preprocess_text)"
   ]
  },
  {
   "cell_type": "code",
   "execution_count": 19,
   "id": "a7b30b2b",
   "metadata": {},
   "outputs": [],
   "source": [
    "df_repeated[\"Sentence\"] = df_repeated['Sentence'].apply(preprocess_text)"
   ]
  },
  {
   "cell_type": "code",
   "execution_count": 23,
   "id": "dff82d06",
   "metadata": {
    "scrolled": true
   },
   "outputs": [],
   "source": [
    "def getPolarity(Clean_reviews):\n",
    "  return TextBlob(Clean_reviews).sentiment.polarity\n",
    "df_repeated['Polarity'] = df_repeated['Sentence'].apply(getPolarity)"
   ]
  },
  {
   "cell_type": "code",
   "execution_count": 24,
   "id": "35e60e50",
   "metadata": {},
   "outputs": [],
   "source": [
    "# Define the threshold values for each sentiment category\n",
    "pos_threshold = 0.1\n",
    "neg_threshold = -0.05 # while taking -0.1 we are getting 8.49%\n",
    "# Define a function to apply the thresholding and return the predicted sentiment\n",
    "def get_sentiment(polarity):\n",
    "    if polarity >= pos_threshold:\n",
    "        return 'positive'\n",
    "    elif polarity <= neg_threshold:\n",
    "        return 'negative'\n",
    "    else:\n",
    "        return 'neutral'"
   ]
  },
  {
   "cell_type": "code",
   "execution_count": 25,
   "id": "dac06819",
   "metadata": {},
   "outputs": [],
   "source": [
    "df_repeated['Sentiment'] = df_repeated['Polarity'].apply(get_sentiment)"
   ]
  },
  {
   "cell_type": "code",
   "execution_count": 26,
   "id": "b7229efa",
   "metadata": {},
   "outputs": [],
   "source": [
    "df_repeated.drop('Polarity',axis=1, inplace=True)"
   ]
  },
  {
   "cell_type": "code",
   "execution_count": 27,
   "id": "dc873016",
   "metadata": {},
   "outputs": [
    {
     "data": {
      "text/html": [
       "<div>\n",
       "<style scoped>\n",
       "    .dataframe tbody tr th:only-of-type {\n",
       "        vertical-align: middle;\n",
       "    }\n",
       "\n",
       "    .dataframe tbody tr th {\n",
       "        vertical-align: top;\n",
       "    }\n",
       "\n",
       "    .dataframe thead th {\n",
       "        text-align: right;\n",
       "    }\n",
       "</style>\n",
       "<table border=\"1\" class=\"dataframe\">\n",
       "  <thead>\n",
       "    <tr style=\"text-align: right;\">\n",
       "      <th></th>\n",
       "      <th>Sentence</th>\n",
       "      <th>Sentiment</th>\n",
       "    </tr>\n",
       "  </thead>\n",
       "  <tbody>\n",
       "    <tr>\n",
       "      <th>0</th>\n",
       "      <td>ssh communication security corp stock exchange...</td>\n",
       "      <td>positive</td>\n",
       "    </tr>\n",
       "    <tr>\n",
       "      <th>2</th>\n",
       "      <td>viking line canceled service</td>\n",
       "      <td>neutral</td>\n",
       "    </tr>\n",
       "    <tr>\n",
       "      <th>4</th>\n",
       "      <td>dolce gabbana asked european union declare mar...</td>\n",
       "      <td>neutral</td>\n",
       "    </tr>\n",
       "    <tr>\n",
       "      <th>6</th>\n",
       "      <td>diluted earnings per share eps fell eur eur</td>\n",
       "      <td>neutral</td>\n",
       "    </tr>\n",
       "    <tr>\n",
       "      <th>8</th>\n",
       "      <td>finnish geosentric net sale decreased eur janu...</td>\n",
       "      <td>negative</td>\n",
       "    </tr>\n",
       "  </tbody>\n",
       "</table>\n",
       "</div>"
      ],
      "text/plain": [
       "                                            Sentence Sentiment\n",
       "0  ssh communication security corp stock exchange...  positive\n",
       "2                       viking line canceled service   neutral\n",
       "4  dolce gabbana asked european union declare mar...   neutral\n",
       "6        diluted earnings per share eps fell eur eur   neutral\n",
       "8  finnish geosentric net sale decreased eur janu...  negative"
      ]
     },
     "execution_count": 27,
     "metadata": {},
     "output_type": "execute_result"
    }
   ],
   "source": [
    "df_repeated.head(5)"
   ]
  },
  {
   "cell_type": "code",
   "execution_count": 28,
   "id": "1bdde2ab",
   "metadata": {},
   "outputs": [],
   "source": [
    "df3 = pd.concat([df, df_repeated])"
   ]
  },
  {
   "cell_type": "code",
   "execution_count": 29,
   "id": "b425f198",
   "metadata": {},
   "outputs": [],
   "source": [
    "df3 = df3.reset_index(drop=True)"
   ]
  },
  {
   "cell_type": "code",
   "execution_count": 30,
   "id": "8af1d0aa",
   "metadata": {},
   "outputs": [],
   "source": [
    "df_pos = df3[df3['Sentiment']=='positive']\n",
    "df_neu = df3[df3[\"Sentiment\"]==\"neutral\"]\n",
    "df_neg = df3[df3['Sentiment']=='negative']"
   ]
  },
  {
   "cell_type": "code",
   "execution_count": 31,
   "id": "1e95ff41",
   "metadata": {},
   "outputs": [],
   "source": [
    "tokenized_text_pos = ' '.join(df_pos['Sentence']).split()"
   ]
  },
  {
   "cell_type": "code",
   "execution_count": 32,
   "id": "2843e12f",
   "metadata": {},
   "outputs": [],
   "source": [
    "from collections import Counter\n",
    "word_counts_pos = Counter(tokenized_text_pos)"
   ]
  },
  {
   "cell_type": "code",
   "execution_count": 33,
   "id": "973f7212",
   "metadata": {},
   "outputs": [],
   "source": [
    "tokenized_text_neu = ' '.join(df_neu['Sentence']).split()\n",
    "word_counts_neu = Counter(tokenized_text_neu)"
   ]
  },
  {
   "cell_type": "code",
   "execution_count": 34,
   "id": "285b8414",
   "metadata": {},
   "outputs": [],
   "source": [
    "tokenized_text_neg = ' '.join(df_neg['Sentence']).split()\n",
    "word_counts_neg = Counter(tokenized_text_neg)"
   ]
  },
  {
   "cell_type": "code",
   "execution_count": 35,
   "id": "a7a2dd6c",
   "metadata": {},
   "outputs": [],
   "source": [
    "df_all = df3[\"Sentence\"]\n",
    "tokenized_text_all = ' '.join(df_all).split()\n",
    "word_counts_all = Counter(tokenized_text_all)"
   ]
  },
  {
   "cell_type": "code",
   "execution_count": 36,
   "id": "b8c12d32",
   "metadata": {},
   "outputs": [
    {
     "name": "stdout",
     "output_type": "stream",
     "text": [
      "['geosolutions', 'technology', 'leverage', 'benefon', 'gps', 'solution', 'providing', 'location', 'based', 'search', 'community', 'platform', 'relevant', 'multimedia', 'content', 'new', 'powerful', 'commercial', 'model', 'last', 'quarter', 'componenta', 'net', 'sale', 'doubled', 'eurm', 'period', 'year', 'earlier', 'moved', 'zero', 'pre', 'tax', 'profit', 'loss', 'spy', 'surprised', 'see', 'green', 'close', 'kone', 'rose', 'first', 'nine', 'month', 'circulation', 'revenue', 'increased', 'finland', 'sweden', 'subdivision', 'made', 'eur', 'million', 'operating', 'fb', 'gone', 'day', 'msft', 'sql', 'server', 'grew', 'double', 'digit', 'premium', 'growing', 'http', 'stks', 'co', 'irf', 'aviva', 'friend', 'life', 'top', 'forecast', 'ahead', 'billion', 'pound', 'merger', 'shire', 'ceo', 'step', 'drive', 'get', 'baxalta', 'board', 'talking', 'costco', 'premier', 'retail', 'dividend', 'play', 'facnhtt', 'cost', 'stockmann', 'swedish', 'sector', 'company', 'ab', 'lindex', 'entered', 'agreement', 'september', 'whereby', 'wholly', 'owned', 'subsidiary', 'make', 'public', 'tender', 'offer', 'issued', 'share', 'pleased', 'welcome', 'tapeks', 'noma', 'cramo', 'group', 'royal', 'dutch', 'shell', 'buy', 'bg', 'nearly', 'item', 'included', 'restructuring', 'diluted', 'eps', 'stood', 'versus', 'per', 'according', 'finnish', 'pension', 'insurance', 'varma', 'recipient', 'two', 'third', 'earnings', 'related', 'cover', 'competitive', 'tendering', 'portion', 'recorded', 'part', 'winning', 'prior', 'patent', 'dispute', 'phone', 'maker', 'nokia', 'oyj', 'also', 'estimate', 'already', 'carried', 'investment', 'lead', 'increase', 'reached', 'six', 'brewery', 'percent', 'growth', 'domestic', 'beer', 'liter', 'sold', 'august', 'october', 'result', 'totalled', 'mn', 'corresponding', 'systeemitiimi', 'project', 'resource', 'strengthened', 'director', 'paul', 'skogberg', 'said', 'tesco', 'price', 'jump', 'q', 'log', 'clearly', 'improved', 'pulpwood', 'vip', 'similar', 'pattern', 'like', 'beginning', 'may', 'u', 'sell', 'go', 'much', 'higher', 'drop', 'rt', 'andrewnyquist', 'chartology', 'yahoo', 'itr', 'yhoo', 'crazy', 'looking', 'chart', 'nearing', 'breakout', 'resistance', 'line', 'bullish', 'stock', 'twitter', 'dip', 'gdx', 'googl', 'stz', 'gold', 'ew', 'vz', 'celg', 'sbux', 'scty', 'iuzjelfwt', 'staff', 'recruited', 'japan', 'complement', 'network', 'service', 'country', 'worldwide', 'however', 'returned', 'april', 'june', 'pekka', 'eloholma', 'brazilian', 'unit', 'security', 'provider', 'f', 'secure', 'signed', 'client', 'online', 'news', 'source', 'reseller', 'web', 'quoted', 'division', 'vladimir', 'brand', 'saying', 'agreed', 'danish', 'poultry', 'combination', 'cash', 'yang', 'bottom', 'aapl', 'becoming', 'tmu', 'hargreaves', 'lansdown', 'buck', 'weak', 'market', 'asset', 'rise', 'aberdeen', 'management', 'gain', 'foothold', 'china', 'sq', 'ft', 'store', 'copenhagen', 'shopping', 'district', 'inaugurated', 'today', 'strengthening', 'presence', 'nordic', 'capital', 'world', 'second', 'largest', 'stainless', 'steel', 'three', 'dec', 'surged', 'euro', 'previous', 'netflix', 'grows', 'effort', 'create', 'loyal', 'customer', 'nflx', 'qxbkobphe', 'nibbling', 'small', 'long', 'via', 'buying', 'min', 'tyc', 'break', 'high', 'lot', 'technical', 'great', 'right', 'facebook', 'near', 'point', 'week', 'face', 'different', 'test', 'cllmpinm', 'fpfbytypuy', 'february', 'broadband', 'data', 'communication', 'system', 'teleste', 'hel', 'tltv', 'wednesday', 'rocketed', 'lifted', 'proposal', 'free', 'ha', 'heeeeeere', 'come', 'pump', 'glad', 'picked', 'k', 'end', 'ready', 'bull', 'ride', 'aspocomp', 'omx', 'helsinki', 'acgv', 'report', 'thursday', 'november', 'posting', 'compared', 'acquisition', 'immediate', 'positive', 'impact', 'financial', 'bman', 'lng', 'look', 'primed', 'eght', 'poised', 'run', 'pct', 'volume', 'weighted', 'average', 'crm', 'sep', 'call', 'since', 'entry', 'bang', 'dedm', 'rapala', 'saving', 'mln', 'centralising', 'french', 'operation', 'one', 'site', 'vmw', 'got', 'nice', 'push', 'following', 'sweeper', 'c', 'morning', 'topped', 'consensus', 'future', 'intends', 'know', 'outside', 'cooperate', 'actor', 'ctrp', 'breaking', 'good', 'vol', 'parser', 'signal', 'noticed', 'bob', 'langs', 'comment', 'fast', 'adjusted', 'change', 'structure', 'amending', 'simplifies', 'proposed', 'plan', 'incentive', 'key', 'employee', 'stay', 'fedday', 'sharp', 'move', 'equity', 'hd', 'low', 'seeing', 'uvxy', 'tvix', 'getting', 'hammered', 'even', 'though', 'totaled', 'erkki', 'j', 'rvinen', 'happy', 'performance', 'comparable', 'expected', 'target', 'transaction', 'lundbeck', 'nalmefene', 'excluding', 'north', 'america', 'mexico', 'turkey', 'south', 'korea', 'respectively', 'commission', 'income', 'lending', 'main', 'strength', 'cooperation', 'lie', 'merging', 'large', 'kazgiprotsvetmet', 'outotec', 'strategic', 'marketing', 'mineral', 'processing', 'metallurgical', 'plant', 'kazakhstan', 'surrounding', 'established', 'g', 'base', 'station', 'foot', 'mount', 'everest', 'enable', 'mountain', 'climber', 'summit', 'surf', 'internet', 'send', 'video', 'exploit', 'pretax', 'business', 'installed', 'elevator', 'deck', 'enables', 'efficient', 'use', 'building', 'core', 'space', 'went', 'ilmn', 'indicator', 'p', 'give', 'nok', 'star', 'ranking', 'ringman', 'paper', 'acquired', 'capacity', 'recycling', 'turned', 'successful', 'strategy', 'poland', 'profitability', 'program', 'launched', 'oborniki', 'frame', 'sandwich', 'panel', 'show', 'tentative', 'recovery', 'continues', 'nuan', 'held', 'well', 'big', 'maybe', 'finally', 'still', 'undervalued', 'major', 'upside', 'london', 'leading', 'jumped', 'almost', 'opened', 'managing', 'kari', 'inkinen', 'say', 'sponda', 'leasing', 'developed', 'highly', 'favourably', 'tsla', 'steaming', 'relentless', 'moment', 'whitbread', 'climb', 'slightly', 'vdw', 'combined', 'lxe', 'device', 'enhances', 'productivity', 'enabling', 'worker', 'single', 'perform', 'voice', 'scanning', 'keyboard', 'function', 'thus', 'method', 'cut', 'working', 'fasten', 'planning', 'process', 'barronsonline', 'apple', 'bdneknl', 'goog', 'testing', 'consolidation', 'hcpj', 'succeeded', 'increasing', 'apartment', 'mr', 'kauniskangas', 'head', 'yit', 'international', 'construction', 'ebit', 'upm', 'kymmene', 'upgraded', 'underperform', 'goldman', 'sachs', 'chairman', 'dixons', 'carphone', 'john', 'allan', 'climbed', 'bln', 'surpassing', 'figure', 'old', 'mutual', 'buoyed', 'emerging', 'furthermore', 'bunge', 'sign', 'licensing', 'sunnuntai', 'carlshamn', 'mejeri', 'kesko', 'corporation', 'exchange', 'release', 'aspo', 'plc', 'acquires', 'kauko', 'telko', 'ltd', 'interest', 'promise', 'boost', 'flagging', 'fiskars', 'strong', 'portfolio', 'include', 'iittala', 'gerber', 'silva', 'buster', 'vegetable', 'oil', 'turn', 'around', 'ensure', 'salomon', 'competitiveness', 'autumn', 'expand', 'st', 'petersburg', 'moscow', 'launch', 'yekaterinburg', 'russia', 'flying', 'time', 'federal', 'secretary', 'transport', 'awarded', 'poyry', 'mexican', 'partner', 'sintra', 'consulting', 'contract', 'connection', 'buenavista', 'cuautitlan', 'suburban', 'railway', 'fda', 'approves', 'astrazeneca', 'drug', 'advanced', 'lung', 'cancer', 'ragutis', 'controlled', 'reported', 'cent', 'litre', 'wpp', 'despite', 'cautious', 'consumer', 'received', 'packed', 'fresh', 'meat', 'tietoenator', 'us', 'intellisync', 'mobile', 'suite', 'wireless', 'email', 'calendar', 'capability', 'extend', 'raute', 'narrowed', 'dgi', 'alert', 'gilligan', 'island', 'setup', 'stochastic', 'lizard', 'hammer', 'candlestick', 'wid', 'cnu', 'h', 'enhance', 'honored', 'recognized', 'gartner', 'specialist', 'modeling', 'analysis', 'many', 'software', 'vendor', 'solteq', 'offering', 'microsoft', 'dynamic', 'product', 'barclays', 'benchmark', 'index', 'bloomberg', 'metal', 'industry', 'supplier', 'dma', 'macd', 'crossover', 'half', 'hair', 'away', 'weekly', 'eod', 'likely', 'priit', 'kasak', 'balti', 'metsamasina', 'owner', 'rakvere', 'wish', 'valmet', 'couple', 'deal', 'closing', 'rule', 'synergy', 'pharma', 'soar', 'phase', 'sgyp', 'jawg', 'vrtx', 'vertex', 'monthly', 'lower', 'hi', 'lo', 'term', 'uptrend', 'intract', 'far', 'th', 'wave', 'hour', 'candle', 'developing', 'sma', 'might', 'spot', 'strongest', 'seen', 'czech', 'republic', 'slovakia', 'measure', 'suominen', 'aim', 'flexible', 'packaging', 'ifhedieshedies', 'bullhorn', 'znga', 'short', 'nervous', 'churned', 'courtship', 'agreeing', 'navteq', 'mapping', 'offered', 'bought', 'ago', 'capman', 'able', 'develop', 'continue', 'focus', 'quality', 'restaurant', 'christopher', 'wynne', 'papa', 'fiber', 'plastic', 'companiesfresnillo', 'silver', 'raisio', 'diagnostics', 'launching', 'dna', 'quick', 'safety', 'food', 'developer', 'basware', 'inc', 'order', 'provide', 'lifecycle', 'unnamed', 'medical', 'dara', 'sure', 'holding', 'breath', 'hoping', 'miracle', 'lol', 'internal', 'goal', 'gnrc', 'finding', 'support', 'bbry', 'bye', 'sammy', 'hello', 'bb', 'sound', 'tomorrow', 'vision', 'movement', 'juu', 'theodosopoulos', 'tellabs', 'could', 'value', 'siemens', 'nortel', 'given', 'supply', 'status', 'verizon', 'along', 'production', 'would', 'meet', 'demand', 'improve', 'raw', 'material', 'therefore', 'pearl', 'plaza', 'llc', 'joint', 'venture', 'srv', 'shanghai', 'industrial', 'concluded', 'decision', 'center', 'saint', 'aktia', 'january', 'olvi', 'posted', 'set', 'wartsila', 'secured', 'deliver', 'four', 'gas', 'fuelled', 'engine', 'propulsion', 'machinery', 'vessel', 'glaxosmithkline', 'across', 'scrap', 'viiv', 'ipo', 'agro', 'lietuva', 'agricultural', 'grain', 'trader', 'another', 'member', 'boosted', 'vat', 'inclusive', 'afx', 'wholesale', 'eliiv', 'yesterday', 'usd', 'manufacturer', 'electronics', 'elcoteq', 'hungary', 'kft', 'announced', 'recruit', 'staffer', 'fulfill', 'nyrstar', 'talvivaara', 'tonne', 'sulphuric', 'acid', 'annum', 'leaching', 'zinc', 'concentrate', 'dasan', 'tmtanalyst', 'mastered', 'chain', 'cornering', 'nand', 'everyone', 'db', 'julius', 'baer', 'emerge', 'potential', 'bidder', 'asia', 'wealth', 'companiestravis', 'perkins', 'lift', 'okmetic', 'tech', 'expertise', 'generates', 'added', 'innovative', 'development', 'extremely', 'save', 'downtrend', 'ly', 'attempt', 'pvt', 'trading', 'investing', 'dnhhgvv', 'amounted', 'bae', 'european', 'typhoon', 'currency', 'tieto', 'energy', 'best', 'idea', 'sustainable', 'saysjouni', 'haikarainen', 'vice', 'president', 'fortum', 'hopeturock', 'yes', 'expectation', 'somewhat', 'priced', 'pop', 'bid', 'real', 'fo', 'sho', 'ilkka', 'sihvo', 'conjunction', 'interim', 'whole', 'alphabet', 'devnlkhqtz', 'buffett', 'berkshire', 'build', 'deere', 'stake', 'dump', 'exxon', 'mxwl', 'oh', 'snap', 'lt', 'gained', 'user', 'better', 'using', 'virgin', 'requires', 'le', 'transportation', 'wood', 'pulp', 'place', 'canada', 'followed', 'level', 'shared', 'gprs', 'existing', 'telecom', 'area', 'add', 'grapevine', 'city', 'official', 'approved', 'rebate', 'grant', 'expansion', 'austin', 'texas', 'sept', 'department', 'award', 'compression', 'distribution', 'equipment', 'extension', 'eight', 'produce', 'mw', 'kndi', 'let', 'rest', 'slow', 'steady', 'estimated', 'contribute', 'balfour', 'beatty', 'reinstate', 'rival', 'national', 'grid', 'centrica', 'viking', 'cargo', 'cargotec', 'press', 'macgregor', 'marine', 'handling', 'offshore', 'load', 'significant', 'crane', 'retrofit', 'optimize', 'operational', 'efficiency', 'julia', 'prohaska', 'additional', 'flight', 'linking', 'mumbai', 'dictated', 'traffic', 'europe', 'thomson', 'exercise', 'option', 'natural', 'power', 'land', 'kyroskoski', 'kyro', 'incap', 'manufacturing', 'private', 'limited', 'inked', 'india', 'glencore', 'fight', 'back', 'debt', 'fear', 'slight', 'runner', 'later', 'recover', 'return', 'action', 'annual', 'eli', 'lilly', 'lly', 'broken', 'collaboration', 'lscc', 'accumulation', 'showing', 'continuing', 'take', 'adpo', 'sport', 'progressed', 'owing', 'prolonged', 'winter', 'season', 'pretty', 'purdy', 'agu', 'hsc', 'receives', 'saudi', 'arabian', 'mill', 'including', 'non', 'recurring', 'sainsbury', 'outperform', 'tough', 'outokumpu', 'several', 'grinding', 'starbucks', 'digital', 'loyalty', 'xklzuik', 'soapstone', 'deposit', 'medvezhyegorsk', 'tulikivi', 'current', 'reserve', 'considerably', 'serco', 'appoint', 'roy', 'gardner', 'ex', 'commencing', 'work', 'russian', 'carmaker', 'hyundai', 'example', 'optimistically', 'course', 'car', 'mean', 'tire', 'acnielsen', 'scantrack', 'study', 'coca', 'cola', 'leader', 'soft', 'drink', 'ymi', 'xyf', 'closed', 'cross', 'catalyst', 'femsa', 'acquire', 'ade', 'soy', 'beverage', 'unilever', 'acknowledged', 'commitment', 'especially', 'pacific', 'remain', 'relatively', 'scandinavia', 'atrium', 'v', 'aet', 'vxx', 'pcln', 'vaahto', 'renovate', 'forest', 'stora', 'enso', 'paperboard', 'machine', 'ingerois', 'kicking', 'negative', 'territory', 'tza', 'rocket', 'ship', 'affecto', 'valued', 'implement', 'next', 'application', 'african', 'interested', 'glaston', 'solar', 'fully', 'electrically', 'driven', 'environmentally', 'friendly', 'expanding', 'quickly', 'bbby', 'jimcramer', 'wrong', 'profitable', 'merchant', 'fair', 'property', 'march', 'union', 'normal', 'finnair', 'spokesman', 'usko', 'maatta', 'osur', 'expect', 'pullback', 'nd', 'abov', 'rally', 'broker', 'highlight', 'preferred', 'pure', 'global', 'container', 'expects', 'active', 'role', 'consolidating', 'retailer', 'kingfisher', 'direct', 'britain', 'persimmon', 'full', 'disposal', 'autotank', 'strengthen', 'commented', 'gustav', 'nyberg', 'receive', 'nomination', 'committee', 'request', 'confidence', 'jon', 'risfelt', 'barron', 'jim', 'cramer', 'lkldmvkbq', 'estate', 'fund', 'ky', 'window', 'fenestra', 'oy', 'forssa', 'southern', 'rate', 'itv', 'pursue', 'takeover', 'entertainment', 'weighing', 'acerta', 'blood', 'hrl', 'sny', 'feedftse', 'mover', 'lse', 'surge', 'ice', 'mulling', 'ashtead', 'tank', 'expanded', 'amrn', 'accumulating', 'think', 'hold', 'peace', 'sysopen', 'digia', 'invested', 'ibm', 'portal', 'successfully', 'implemented', 'supported', 'margin', 'rus', 'catch', 'falling', 'knife', 'coming', 'soon', 'wfm', 'little', 'german', 'code', 'oneworld', 'american', 'airline', 'amr', 'corp', 'nyse', 'borealis', 'infrastructure', 'putting', 'together', 'severn', 'trent', 'cooper', 'sh', 'uk', 'distributor', 'konecranes', 'five', 'involves', 'maintenance', 'fuel', 'fitzstock', 'iyt', 'nbf', 'always', 'way', 'broke', 'dt', 'flag', 'diesel', 'remained', 'ftse', 'stanchart', 'activeness', 'talentum', 'started', 'continued', 'reporting', 'stated', 'oriola', 'kd', 'pharmaceutical', 'endp', 'exit', 'reversal', 'x', 'not', 'follow', 'either', 'side', 'comcast', 'nbcuniversal', 'bidding', 'announcement', 'totaling', 'registered', 'comptel', 'os', 'selected', 'orascom', 'oth', 'provisioning', 'activation', 'amer', 'ameas', 'analyst', 'rated', 'hr', 'orcl', 'cbs', 'ino', 'cpxx', 'view', 'rating', 'iridzdgc', 'update', 'strongly', 'outlook', 'rpt', 'gross', 'beat', 'sharkbiotech', 'anyone', 'selling', 'shorting', 'agn', 'b', 'believe', 'rumor', 'realistic', 'trade', 'pypl', 'flow', 'love', 'turnover', 'productional', 'situation', 'amount', 'depend', 'intake', 'summer', 'amtd', 'twtr', 'longer', 'swing', 'basis', 'improves', 'glass', 'consistency', 'throughput', 'marketwatch', 'hutchison', 'essar', 'consolidated', 'reach', 'addition', 'export', 'lining', 'stone', 'ero', 'uup', 'udn', 'fxe', 'beu', 'bounce', 'mondi', 'barratt', 'achieved', 'australian', 'mirabela', 'nickel', 'sulfide', 'bahia', 'state', 'brazil', 'standard', 'chartered', 'rb', 'escape', 'raising', 'stress', 'margarine', 'put', 'shape', 'making', 'position', 'central', 'northern', 'matti', 'rihko', 'statement', 'found', 'bank', 'downward', 'slide', 'cutting', 'decline', 'consultancy', 'satama', 'interactive', 'infusion', 'tagrisso', 'approval', 'morrison', 'debenhams', 'surprise', 'christmas', 'tripadvisor', 'olwcdxmbr', 'trip', 'word', 'street', 'allergen', 'endo', 'failed', 'pfizer', 'fbr', 'reiterated', 'brcm', 'friday', 'output', 'fuelling', 'worth', 'prudential', 'cee', 'monday', 'vocollect', 'advantage', 'directed', 'warehousing', 'warehouse', 'discounted', 'metso', 'rebuild', 'sabah', 'sfi', 'malaysia', 'ruukki', 'nokian', 'tyre', 'ordabasy', 'astana', 'dinmukhamet', 'idrisov', 'conference', 'neste', 'research', 'africa', 'australia', 'introduce', 'expands', 'transfer', 'certain', 'engineering', 'documentation', 'larox', 'etteplan', 'took', 'vwap', 'guide', 'middle', 'east', 'tecnotree', 'grown', 'recent', 'underlying', 'representing', 'meanwhile', 'electrowatt', 'ekono', 'philippine', 'fr', 'cement', 'elektros', 'pavara', 'completes', 'baltic', 'producer', 'se', 'elqav', 'extensive', 'industrialisation', 'tyo', 'book', 'consecutive', 'marimekko', 'license', 'popular', 'tecnomen', 'december', 'charging', 'messaging', 'fixed', 'brasil', 'companiesunilever', 'cream', 'economy', 'easyjet', 'attracts', 'passenger', 'lag', 'ryanair', 'agenda', 'np', 'northland', 'kaunisvaara', 'iron', 'ore', 'tapuli', 'sahavaara', 'biohit', 'becomes', 'pipettors', 'disposable', 'pipettor', 'tip', 'vwr', 'throughout', 'technopolis', 'government', 'memorandum', 'techno', 'park', 'neudorf', 'zone', 'village', 'strelny', 'suburb', 'fintech', 'cafn', 'cachet', 'surging', 'forward', 'post', 'bjcski', 'jkhy', 'fisv', 'momo', 'recommendable', 'z', 'adac', 'judgement', 'latest', 'automobile', 'association', 'citigroup', 'blockchain', 'sight', 'google', 'icoa', 'nfei', 'basing', 'letting', 'rsi', 'breather', 'gtc', 'mall', 'convenient', 'shop', 'residential', 'nearby', 'jaroszowka', 'wysockiego', 'zgody', 'privately', 'andrew', 'trust', 'accelerated', 'structural', 'reduction', 'bad', 'hyg', 'continuation', 'tqp', 'peroni', 'grolsch', 'inbev', 'sabmiller', 'separately', 'austrian', 'firm', 'e', 'ag', 'germany', 'austria', 'romania', 'southfield', 'mich', 'corporate', 'credit', 'distribute', 'patronage', 'waiving', 'fee', 'incurred', 'july', 'tune', 'favourable', 'effect', 'duty', 'activate', 'harvesting', 'abp', 'glav', 'revolving', 'facility', 'scan', 'bbva', 'pd', 'ntls', 'ngl', 'sbrcy', 'fgl', 'mtnoy', 'ttt', 'www', 'dailystockplays', 'com', 'turun', 'kaupunkin', 'lemminkainen', 'talotekniikka', 'electrical', 'installation', 'gild', 'ibb', 'bib', 'gioofzbkv', 'invoice', 'automation', 'connectivity', 'isrg', 'hearing', 'rumour', 'sony', 'ericsson', 'dominated', 'list', 'handset', 'repeat', 'delhi', 'metro', 'spokeswoman', 'told', 'kauppalehti', 'marketplace', 'led', 'team', 'sanyo', 'manufacture', 'fourth', 'dealer', 'tallink', 'claim', 'watertight', 'door', 'vana', 'tallinn', 'regina', 'baltica', 'resulted', 'adp', 'privacy', 'stonesoft', 'stonegate', 'te', 'repaid', 'bearing', 'liability', 'consideration', 'partially', 'repay', 'liquidity', 'tim', 'cockroft', 'brings', 'excellent', 'track', 'record', 'experience', 'moreover', 'kaupthing', 'singer', 'friedlander', 'involving', 'finance', 'broking', 'mid', 'purchase', 'ton', 'gasoline', 'delivery', 'hamina', 'terminal', 'platts', 'plus', 'dollar', 'pkt', 'momentum', 'trigger', 'exvu', 'number', 'trim', 'merkel', 'deutsche', 'boerse', 'mika', 'vehvil', 'inen', 'foremost', 'lemmink', 'road', 'lithuanian', 'administration', 'rad', 'consider', 'opportunity', 'improving', 'progress', 'qpr', 'representative', 'arabia', 'framework', 'relationship', 'ise', 'recap', 'spinning', 'xbox', 'grind', 'bn', 'breakingviews', 'iag', 'pay', 'aer', 'lingus', 'upon', 'unique', 'approach', 'operates', 'weighs', 'handout', 'beating', 'experiencing', 'become', 'rental', 'latvian', 'projected', 'brokerage', 'true', 'turning', 'pricing', 'carrying', 'brief', 'ratio', 'expe', 'leg', 'trend', 'dsjysyr', 'adbe', 'lxxtknfh', 'proposes', 'tie', 'rationalize', 'success', 'competence', 'taneli', 'hassinen', 'medimmune', 'ink', 'omnis', 'respective', 'oko', 'raiffeisen', 'concerning', 'trlpc', 'crh', 'lafarge', 'holcim', 'bridge', 'loan', 'problem', 'aker', 'yard', 'customised', 'genesis', 'cruise', 'scheduled', 'completed', 'auto', 'leap', 'biggest', 'backed', 'listing', 'vvus', 'w', 'expiration', 'umm', 'hitting', 'hod', 'ooo', 'ilim', 'bratsk', 'dok', 'feeling', 'quite', 'region', 'companiesab', 'hostile', 'iso', 'certification', 'demonstrates', 'moving', 'significance', 'emphasised', 'size', 'rapid', 'tv', 'viewed', 'attractive', 'oct', 'raivv', 'trx', 'kkk', 'balanced', 'broad', 'want', 'latin', 'starting', 'sanoma', 'magazine', 'metsaliitto', 'minor', 'known', 'concept', 'fidelity', 'rolling', 'office', 'ghana', 'premise', 'people', 'sonc', 'amazing', 'obvious', 'tastiness', 'burger', 'factored', 'advance', 'ups', 'insight', 'hire', 'david', 'hillier', 'multi', 'mu', 'vale', 'nbl', 'axp', 'vttzpis', 'liking', 'swks', 'currently', 'updated', 'range', 'dubai', 'music', 'ground', 'introduces', 'enjoy', 'poyv', 'venezuel', 'pohjola', 'motorcyclist', 'accounted', 'nordea', 'sami', 'sarkamies', 'rautaruukki', 'install', 'superstructure', 'partihallsforbindelsen', 'gothenburg', 'western', 'nke', 'gapping', 'qjau', 'tradeideas', 'rjc', 'elisa', 'subscription', 'mainly', 'adopting', 'called', 'generation', 'raise', 'majority', 'control', 'coq', 'published', 'kapiteeli', 'cencorp', 'fti', 'night', 'shrank', 'contracted', 'simdax', 'available', 'authorisation', 'submitted', 'orion', 'relief', 'lewis', 'grow', 'tspt', 'observed', 'stabilisation', 'money', 'pouring', 'direction', 'sowg', 'scania', 'morgan', 'stanley', 'heavy', 'truck', 'bus', 'crown', 'uponor', 'wynn', 'dirk', 'jones', 'institution', 'gts', 'citi', 'custody', 'validating', 'cthv', 'baird', 'upgrade', 'necessary', 'qtrs', 'whose', 'atomic', 'wilson', 'saw', 'watching', 'mir', 'leaning', 'postions', 'waiting', 'gettin', 'ponsse', 'total', 'length', 'harvester', 'uruguayan', 'contractor', 'ap', 'caterpillar', 'steep', 'wall', 'cat', 'compass', 'relacom', 'serving', 'operator', 'textile', 'clothing', 'mmov', 'preliminary', 'aluminium', 'considers', 'ramirent', 'quarterended', 'thesecond', 'dog', 'eastern', 'invest', 'rostelecom', 'rts', 'rtkm', 'ch', 'roark', 'unxl', 'ascending', 'triangle', 'minute', 'atglooks', 'promising', 'fujitsu', 'ntt', 'docomo', 'lte', 'juergen', 'walter', 'converged', 'rory', 'fitzgerald', 'general', 'manager', 'bristol', 'port', 'servicing', 'sensing', 'hydraulics', 'extra', 'consumption', 'avgo', 'stk', 'raised', 'rfh', 'skf', 'alandsbanken', 'recommendation', 'sto', 'sek', 'used', 'upgrading', 'mso', 'activity', 'shareholder', 'estonia', 'overall', 'compensated', 'acting', 'batch', 'asdfllc', 'ya', 'haha', 'funny', 'bring', 'actually', 'story', 'ferry', 'dover', 'calais', 'route', 'shipbuilder', 'rauma', 'timo', 'suistio', 'trendline', 'hurdle', 'imkygocyc', 'manturovo', 'kostroma', 'km', 'northeast', 'silicon', 'wafer', 'okmv', 'siriusxm', 'subscriber', 'siri', 'marketresearch', 'entrepreneur', 'speaker', 'thanksto', 'improvement', 'adjustment', 'theutilization', 'fleet', 'substantiallyimproved', 'vyvanse', 'binge', 'eating', 'disorder', 'computer', 'accessory', 'beltton', 'applies', 'fargo', 'pipeline', 'otev', 'phosphate', 'concentrator', 'siilinjarvi', 'norwegian', 'minera', 'import', 'retailing', 'vv', 'coh', 'gaining', 'ttah', 'investor', 'although', 'cheap', 'affarsvarlden', 'slw', 'chance', 'jmho', 'qfg', 'vacon', 'scandinavian', 'electric', 's', 'ac', 'bore', 'rettig', 'family', 'recently', 'smaller', 'shipping', 'cet', 'bavarian', 'dkk', 'lost', 'past', 'ebita', 'delighted', 'announce', 'intel', 'handheld', 'easier', 'faster', 'kind', 'altr', 'sampo', 'danske', 'xac', 'map', 'daiichi', 'sankyo', 'movantik', 'ability', 'apply', 'adjacent', 'shale', 'rcon', 'thing', 'severe', 'float', 'guy', 'je', 'bouncing', 'finish', 'finger', 'crossed', 'reiterates', 'conviction', 'pt', 'djia', 'hhmxsitwm', 'ouch', 'skinned', 'pg', 'ackman', 'argument', 'betting', 'imporvement', 'huge', 'conglomerate', 'imo', 'tata', 'plug', 'expiring', 'worthless', 'recycled', 'perrigo', 'daily', 'mail', 'considering', 'extzrriyp', 'help', 'eu', 'regulator', 'gsk', 'injectable', 'asthma', 'came', 'local', 'arm', 'contribution', 'abb', 'swiss', 'valeant', 'pearson', 'getinge', 'quarterly', 'mandate', 'clubcard', 'operate', 'leisure', 'strike', 'seminar', 'understanding', 'kemira', 'vietnam', 'chemical', 'generated', 'thirty', 'ebitda', 'sea', 'party', 'allow', 'uh', 'extensively', 'functionality', 'human', 'binkster', 'er', 'correlation', 'aria', 'foreign', 'juha', 'jordan', 'chief', 'engineer', 'reason', 'choosing', 'centre', 'dcth', 'created', 'ctxs', 'powered', 'tdgjedllz', 'access', 'chrome', 'respondent', 'praised', 'reliability', 'finnishness', 'earned', 'competency', 'intelligence', 'specialization', 'recentlyvia', 'fimentor', 'expenditure', 'start', 'pick', 'vesa', 'laisi', 'louiebeene', 'radar', 'navb', 'cdti', 'important', 'lose', 'cmf', 'block', 'lamp', 'harri', 'koskinen', 'light', 'introduced', 'bestseller', 'ever', 'forestry', 'dagens', 'industri', 'san', 'miguel', 'kirin', 'bringing', 'gbx', 'popping', 'proud', 'executive', 'rantanen', 'robbielolz', 'keep', 'sverige', 'subcontractor', 'brinkab', 'scaffolding', 'lkab', 'pellet', 'kiruna', 'resilient', 'withstand', 'kan', 'dahlstr', 'mobility', 'teliasonera', 'fold', 'tb', 'featured', 'ethibel', 'pioneer', 'register', 'innovest', 'relative', 'zurich', 'rsa', 'creates', 'organization', 'stable', 'bo', 'annvik', 'specialty', 'hand', 'stronger', 'gpro', 'brealout', 'reject', 'electriccar', 'feed', 'lately', 'bosse', 'present', 'beneficial', 'partnership', 'telemig', 'celular', 'prepaid', 'mark', 'spencer', 'geographically', 'fertilizer', 'sending', 'seventeen', 'amid', 'stan', 'scotland', 'barc', 'bcs', 'negotiation', 'constructive', 'manner', 'tried', 'find', 'anticipates', 'speaking', 'spokesperson', 'performed', 'namely', 'latvia', 'lithuania', 'cnp', 'ghjc', 'embrace', 'wcqfptn', 'abbv', 'csco', 'wyn', 'caixabank', 'do', 'santos', 'agree', 'bpi', 'angola', 'exposure', 'companiesactelion', 'hit', 'talk', 'due', 'carriage', 'tallinna', 'sadam', 'feedback', 'rpm', 'enterprise', 'forum', 'significantly', 'tulonen', 'amzn', 'pricey', 'mediation', 'citrix', 'mizuho', 'vlkqflp', 'sharestocknews', 'phew', 'coz', 'steam', 'notable', 'hzwdpza', 'combine', 'renew', 'funding', 'thanks', 'wide', 'contact', 'knowledge', 'environment', 'indian', 'tell', 'juhani', 'hanninen', 'ambulance', 'idcc', 'crunching', 'diamond', 'rough', 'wft', 'closng', 'lee', 'hoped', 'pave', 'newly', 'execution', 'atvi', 'ooks', 'perspective', 'sliding', 'entering', 'lockheed', 'martin', 'lmt', 'open', 'exta', 'sd', 'picking', 'speed', 'eik', 'eil', 'longpos', 'thru', 'upper', 're', 'squeeze', 'nr', 'obj', 'stop', 'dipping', 'jeplmzqkgw', 'piper', 'jeffries', 'pierrules', 'skh', 'watch', 'hot', 'producing', 'attract', 'abroad', 'creep', 'sits', 'implementing', 'army', 'unify', 'wac', 'nicely', 'tonight', 'bac', 'adsk', 'initiated', 'palfinger', 'previously', 'eb', 'delivered', 'custom', 'lg', 'commercially', 'spent', 'sphere', 'sawmill', 'garry', 'mcguire', 'rmg', 'breakup', 'benefit', 'materialise', 'library', 'municipality', 'art', 'culture', 'education', 'science', 'participate', 'read', 'reading', 'history', 'conagra', 'name', 'former', 'hillshire', 'farm', 'connolly', 'resolve', 'meego', 'section', 'regional', 'asian', 'measured', 'kilometer', 'compare', 'propose', 'paid', 'fiscal', 'ended', 'mode', 'exact', 'exas', 'flagged', 'rra', 'mt', 'theacsman', 'suddenly', 'touting', 'favorite', 'covered', 'aimed', 'boosting', 'adding', 'predictability', 'poor', 'trustworthy', 'rost', 'nov', 'exp', 'unless', 'ing', 'taking', 'punishing', 'reminder', 'spear', 'herd', 'seems', 'iphone', 'ipad', 'xfnicwebeg', 'analyzed', 'fit', 'peter', 'wiklof', 'winner', 'norway', 'suction', 'anchor', 'kalajoki', 'ia', 'usa', 'placed', 'max', 'tanker', 'dwt', 'glaxo', 'healthcare', 'desano', 'bot', 'priceline', 'royalty', 'accelerate', 'smartphone', 'regains', 'espoon', 'kaupunki', 'personal', 'care', 'bxs', 'bancorpsouth', 'announces', 'spdf', 'win', 'neomarkka', 'kuitu', 'restarts', 'sealed', 'specialised', 'stacker', 'rehu', 'jouko', 'lahtinen', 'stabilise', 'proportion', 'standing', 'peab', 'exclusive', 'extended', 'dax', 'finished', 'yr', 'acquiring', 'rcp', 'knowhow', 'solid', 'kai', 'officer', 'represents', 'milestone', 'telecommunication', 'escalator', 'tuesday', 'sir', 'robert', 'mcalpine', 'watermark', 'luxembourg', 'amber', 'ii', 'final', 'competition', 'council', 'sanitas', 'castle', 'tower', 'acquitted', 'charge', 'participated', 'fixing', 'conspiracy', 'united', 'applauded', 'applying', 'fact', 'clarity', 'petition', 'annually', 'normalises', 'particular', 'professional', 'anal', 'yst', 'mouth', 'endthat', 'hun', 'redtogreen', 'gate', 'vxfuuit', 'decrease', 'indebtedness', 'going', 'roof', 'need', 'preparing', 'czhixtuag', 'zqbxald', 'eln', 'longs', 'congrats', 'complete', 'novartis', 'swap', 'svyturys', 'utenos', 'alus', 'bbh', 'mineracao', 'ltda', 'cumerio', 'med', 'jsco', 'bulgaria', 'intuitiv', 'clne', 'spike', 'california', 'tboi', 'initiative', 'chosen', 'geographic', 'ongoing', 'noting', 'brno', 'divestment', 'segment', 'streamline', 'explained', 'advertising', 'town', 'riihim', 'ki', 'lease', 'occupy', 'travel', 'mhobzurmx', 'beaten', 'ripe', 'linkedin', 'lnkd', 'groupon', 'grpn', 'cell', 'feb', 'afev', 'enthusiasm', 'telecomworldwire', 'tj', 'design', 'edita', 'rnn', 'staying', 'policy', 'extends', 'gazprom', 'statoil', 'etn', 'm', 'overweight', 'leadership', 'hk', 'ruokatalo', 'account', 'recall', 'teflon', 'forever', 'turnaround', 'bhp', 'billiton', 'home', 'pivotal', 'lsahepdqhd', 'stocktrading', 'choose', 'stage', 'carl', 'kirst', 'bmo', 'wmb', 'tsr', 'onemain', 'springleaf', 'rtsil', 'aldata', 'aldv', 'swung', 'kveyt', 'variety', 'suomalainen', 'pekoni', 'marketed', 'outcome', 'sneed', 'supermarket', 'axe', 'tsco', 'bmvhcrwrea', 'approximately', 'litas', 'bilfinger', 'cheered', 'pushing', 'afternoon', 'amazon', 'declares', 'black', 'cyber', 'kindle', 'cetw', 'engadget', 'clear', 'chkp', 'abc', 'uvmmrsrzy', 'nsm', 'traction', 'gbsh', 'hourly', 'possible', 'asahi', 'early', 'jumbo', 'yielder', 'british', 'tobacco', 'bolster', 'kallioranta', 'vahur', 'kraft', 'cooperating', 'ten', 'left', 'table', 'nugt', 'aug', 'radio', 'bts', 'module', 'configured', 'diagnosed', 'remotely', 'tarmo', 'noop', 'submit', 'yomiuri', 'scissors', 'tm', 'learning', 'teacher', 'choice', 'classroom', 'bond', 'lender', 'shore', 'inve', 'estonian', 'bns', 'imperial', 'streaming', 'rapidly', 'outpacing', 'traditional', 'cable', 'gave', 'airbus', 'nonbinding', 'handle', 'wmt', 'mlv', 'esl', 'unprofitable', 'speaks', 'healthier', 'stationery', 'gift', 'tiimari', 'tiiv', 'omxn', 'comprising', 'traded', 'nasdaq', 'concrete', 'hiab', 'loader', 'morna', 'cowie', 'lovely', 'feel', 'strengthens', 'tripled', 'without', 'meantime', 'quench', 'thirst', 'craft', 'roaster', 'cleaning', 'ozk', 'kardzhali', 'smelter', 'vaisala', 'develops', 'electronic', 'measurement', 'efore', 'interesting', 'student', 'dean', 'faculty', 'tkk', 'seal', 'brse', 'briefing', 'hsbc', 'dojiknows', 'sp', 'qnx', 'be', 'bbm', 'assessing', 'travis', 'hike', 'altia', 'rtrks', 'merged', 'kengeter', 'opening', 'nevsky', 'liquid', 'diagnostic', 'advise', 'builder', 'cogeneration', 'kaunas', 'supervise', 'incy', 'renewable', 'feedstock', 'palm', 'animal', 'fat', 'yelp', 'toast', 'red', 'shor', 'scaling', 'r', 'comprised', 'carrier', 'creating', 'predict', 'skanssi', 'visitor', 'connors', 'satisfied', 'implementation', 'geography', 'africaand', 'amcn', 'rejected', 'buyout', 'giving', 'counter', 'blackstone', 'lp', 'telenor', 'asa', 'blinkbox', 'talktalk', 'allstarcharts', 'nv', 'qcom', 'housing', 'brexit', 'alma', 'medium', 'voting', 'ldx', 'clearing', 'descending', 'remaining', 'treatment', 'lifetree', 'founded', 'risen', 'late', 'handelsbanken', 'ranked', 'cooperative', 'renatta', 'frvan', 'kjepeneter', 'rptl', 'plnr', 'pressure', 'dnn', 'hcp', 'gon', 'na', 'drugmaker', 'pursuit', 'buyable', 'intraday', 'brooklynbandit', 'simo', 'qqq', 'panostaja', 'specialising', 'printing', 'consists', 'kopijyva', 'sokonet', 'deputy', 'md', 'silvennoinen', 'economic', 'occupancy', 'marketsshire', 'mformation', 'noted', 'interoperability', 'proven', 'original', 'l', 'changed', 'component', 'comparison', 'commanding', 'vehicle', 'navigation', 'onstar', 'phil', 'magney', 'telematics', 'minnetonka', 'minn', 'accounting', 'bvhealthcare', 'qcor', 'questcor', 'goan', 'galvan', 'avoid', 'laying', 'mind', 'representation', 'garden', 'tool', 'shareholding', 'lule', 'metre', 'reshape', 'drugmakers', 'legal', 'mediacityuk', 'manchester', 'sepp', 'veli', 'mattila', 'covering', 'reflects', 'conservative', 'balance', 'sheet', 'raab', 'qt', 'lgpl', 'hitk', 'resuming', 'historical', 'ntc', 'geographical', 'closer', 'bohemia', 'czechrepublic', 'manages', 'brk', 'awr', 'affirms', 'water', 'golden', 'fp', 'telanne', 'newspaper', 'seat', 'belt', 'buyer', 'eurochem', 'alexander', 'gavrilov', 'confirmed', 'robust', 'inclusion', 'companiesdixons', 'impressed', 'tesla', 'flagship', 'factory', 'sabxcsncd', 'tsrandall', 'unlikely', 'fine', 'cybercom', 'cto', 'esko', 'myllyla', 'rdu', 'cc', 'cfrazierjr', 'fletchtrade', 'anticipated', 'merrill', 'lynch', 'campbell', 'paperlinx', 'neutral', 'lulu', 'oi', 'bounced', 'smi', 'actively', 'towards', 'ervio', 'proving', 'stiff', 'vlzlgvihzv', 'prosition', 'cytx', 'channel', 'finfiz', 'raiso', 'cholesterol', 'lowering', 'benecol', 'wow', 'player', 'qwff', 'gwr', 'watco', 'eyeing', 'ra', 'oxy', 'sophos', 'provides', 'proha', 'fishing', 'tackle', 'vmc', 'rapv', 'hatch', 'bulk', 'chose', 'broadsheet', 'tabloid', 'page', 'collection', 'error', 'fell', 'speeded', 'croda', 'sage', 'ebay', 'tad', 'kinder', 'bp', 'form', 'procurement', 'honkajoki', 'findest', 'protein', 'biodiesel', 'cd', 'porvoo', 'refinery', 'uncoated', 'mcc', 'yinhe', 'intuitive', 'surgical', 'vahhjacbfg', 'hqtqxou', 'refile', 'hikma', 'utsi', 'ur', 'brisk', 'amounting', 'em', 'coupled', 'modern', 'consistent', 'mtd', 'mettler', 'toledo', 'waste', 'lassila', 'tikanoja', 'introducing', 'dubna', 'cib', 'egyptian', 'axa', 'stocktwits', 'kbkiwi', 'exceed', 'guidance', 'amended', 'upward', 'jqw', 'wcdma', 'hspa', 'modular', 'flexi', 'java', 'bali', 'sumatra', 'batam', 'rsh', 'volvo', 'irish', 'chasing', 'vote', 'nears', 'yoku', 'blast', 'qsal', 'toward', 'dpz', 'oaloirijl', 'thestreet', 'ycnclcbimv', 'markedly', 'duo', 'bos', 'diffuse', 'tension', 'jussi', 'pesonen', 'expressed', 'holiday', 'tahko', 'ski', 'spa', 'resort', 'shalkiya', 'ineta', 'zaharova', 'lvl', 'zagg', 'avg', 'lhatn', 'stand', 'bioc', 'favor', 'historically', 'focusing', 'jnk', 'fcm', 'risk', 'appetite', 'borrower', 'roadshow', 'easy', 'matter', 'accrue', 'startup', 'curve', 'patricia', 'dietz', 'trying', 'happen', 'gyadbjsq', 'kpbbcgqxy', 'acinvestorblog', 'gradually', 'eliv', 'cap', 'zjertkch', 'slump', 'pivot', 'jpbn', 'stole', 'tweet', 'really', 'pinned', 'totalguru', 'possibly', 'amgn', 'ucb', 'ph', 'evaluating', 'romosozumab', 'men', 'hboudrb', 'yahoofinance', 'excited', 'maxi', 'deployment', 'master', 'maya', 'joe', 'doering', 'dmasia', 'asmobile', 'digitalmediaasia', 'bjorn', 'wahlroos', 'accepted', 'pill', 'ip', 'siln', 'technik', 'po', 'volatility', 'reluctant', 'yejuscmlc', 'superior', 'centricity', 'apart', 'competitor', 'repeated', 'cooperationand', 'tied', 'ourmachinery', 'mongolia', 'erdenet', 'mining', 'hydrocopper', 'built', 'mine', 'inovio', 'showed', 'sakari', 'tamminen', 'arab', 'emirate', 'qatar', 'johnson', 'matthey', 'rev', 'clean', 'air', 'artv', 'precision', 'mortar', 'cog', 'investigate', 'streamlining', 'tightening', 'charger', 'ge', 'bph', 'alior', 'encourage', 'boater', 'angler', 'newcomer', 'rbff', 'frank', 'peterson', 'ssys', 'tested', 'steadily', 'expecting', 'ee', 'tikkakoski', 'constitute', 'jkuf', 'guided', 'ibio', 'premarket', 'keeping', 'planned', 'certified', 'roundtable', 'rspo', 'stx', 'manage', 'turku', 'stockholm', 'withviking', 'rebuilds', 'designed', 'goodwin', 'scottish', 'prosecution', 'tlsn', 'ownership', 'eesti', 'telekom', 'uplift', 'hammerson', 'jv', 'ireland', 'dundrum', 'gainer', 'among', 'nem', 'wdc', 'gme', 'probably', 'beyond', 'kgc', 'qta', 'oversold', 'wedge', 'divergence', 'pad', 'ross', 'rbc', 'jqt', 'explore', 'moderate', 'cvd', 'chicago', 'database', 'compete', 'tomtom', 'garmin', 'elektrobit', 'renewed', 'ict', 'patja', 'solidium', 'proper', 'enhancing', 'bunzl', 'astx', 'eovw', 'kalmar', 'defense', 'calling', 'innovator', 'specifically', 'locally', 'breed', 'carbon', 'disclosure', 'cdli', 'csx', 'rail', 'eafbvuqgp', 'seek', 'ukraine', 'least', 'fifth', 'deadline', 'loom', 'hang', 'hat', 'yet', 'qe', 'hope', 'fed', 'meeting', 'tecnomens', 'workforse', 'warmly', 'lansio', 'affected', 'realized', 'review', 'spanning', 'kemijoki', 'river', 'mbly', 'jspuszona', 'taylor', 'wimpey', 'fall', 'engulfing', 'fyco', 'ko', 'stahlberg', 'vp', 'lab', 'av', 'comparative', 'madison', 'wi', 'prnewswire', 'trademark', 'granted', 'registration', 'color', 'orange', 'iconic', 'scissor', 'temv', 'convergent', 'fireplace', 'exceeded', 'brisker', 'remainder', 'thetrainline', 'arrival', 'isps', 'recognize', 'purpose', 'effectiveness', 'rip', 'roaring', 'investorplace', 'jrcfcxly', 'diageo', 'ryder', 'cup', 'venue', 'gleneagles', 'hotel', 'ennismore', 'separating', 'tapro', 'sudden', 'optimism', 'oktcwyib', 'txrh', 'megaas', 'mcdonalds', 'bigmac', 'improbe', 'coating', 'stabilised', 'eye', 'abn', 'amro', 'motor', 'faatoqlw', 'plywood', 'operated', 'sveza', 'phonebook', 'inside', 'rec', 'zakaria', 'ticker', 'michael', 'james', 'ent', 'gvp', 'managed', 'accordance', 'establishing', 'rewarded', 'distinguished', 'enb', 'ca', 'shoulder', 'pipleline', 'uso', 'inch', 'handled', 'derive', 'housewares', 'switch', 'converter', 'whilst', 'multiplying', 'wagon', 'malkia', 'vr', 'bs', 'va', 'specifying', 'salcomp', 'salv', 'timing', 'ahs', 'baby', 'ige', 'irdm', 'ewbc', 'phys', 'ulta', 'vnet', 'biv', 'kjzuzmu', 'pkc', 'pkcv', 'man', 'nutzfahrzeuge', 'harness', 'spolka', 'zoo', 'mostly', 'apparent', 'observes', 'perttu', 'puro', 'tradeka', 'chf', 'loaded', 'bsx', 'downside', 'exel', 'composite', 'prospect', 'combining', 'reduced', 'trow', 'bias', 'gls', 'kci', 'mmh', 'morris', 'nnen', 'tehtaat', 'vaias', 'self', 'bigger', 'exploited', 'effectively', 'partihallsf', 'rbindelsen', 'settling', 'lehman', 'bros', 'trustee', 'prime', 'ta', 'vsevolozhsk', 'leningrad', 'kim', 'gran', 'reporter', 'declined', 'ad', 'agency', 'lifting', 'kcrv', 'manipulator', 'knight', 'shipment', 'nil', 'erik', 'eklund', 'megafon', 'repair', 'norske', 'skog', 'suisse', 'boston', 'cfsb', 'nikkei', 'assuming', 'restriction', 'dairy', 'canceled', 'war', 'jdnzxdcmkl', 'hmoegfhgvn', 'pursues', 'healthy', 'focused', 'concentrating', 'employed', 'percentage', 'efov', 'opus', 'dc', 'csr', 'spite', 'accomplish', 'saav', 'payout', 'downgrade', 'dnkn', 'kkd', 'loco', 'hvv', 'rebn', 'spread', 'ranging', 'jan', 'cr', 'laurence', 'tally', 'bbcn', 'bancorp', 'wilshire', 'dragged', 'rising', 'kraftliner', 'ixonos', 'xnsv', 'bullya', 'pollux', 'kor', 'blessing', 'daughter', 'tuition', 'surpass', 'coverage', 'nepal', 'population', 'arvo', 'vuorenmaa', 'loviisa', 'licence', 'procedure', 'confident', 'chase', 'krone', 'rebounding', 'penny', 'nospq', 'papua', 'guinea', 'lihir', 'asx', 'lgl', 'warren', 'defends', 'hathaway', 'admiral', 'akvujxh', 'ocn', 'stuff', 'ponv', 'construct', 'tapiola', 'prosperous', 'changshu', 'hongmei', 'filter', 'sotkamo', 'biobv', 'rebound', 'yndx', 'resist', 'sappi', 'bctmp', 'mississippi', 'logistics', 'gray', 'swoope', 'mda', 'intended', 'thirteen', 'mediterranean', 'lloydspharmacy', 'maintains', 'assumption', 'harmongreg', 'wkly', 'inverse', 'forming', 'ipvj', 'dug', 'stochastics', 'bleaching', 'liner', 'washing', 'klabin', 'tel', 'maco', 'borba', 'paran', 'approve', 'cxahjixd', 'principal', 'denmark', 'terrain', 'handler', 'rtch', 'primark', 'rack', 'longed', 'anheuser', 'busch', 'karppinen', 'frozen', 'fm', 'challendge', 'ema', 'distant', 'poaches', 'thiam', 'feedschroders', 'inverted', 'commodity', 'signaled', 'stockmarket', 'vmdmxi', 'cvkojkxn', 'vinachem', 'occasion', 'growhow', 'normally', 'ministry', 'tanzania', 'sanitation', 'assignment', 'rehabilitation', 'bukoba', 'musoma', 'situated', 'lake', 'victoria', 'ocbc', 'barclay', 'singapore', 'hong', 'kong', 'juhtsm', 'negotiating', 'productive', 'latvenergo', 'ordered', 'tekla', 'xpower', 'information', 'fias', 'leaseback', 'newest', 'aircraft', 'syndication', 'japanese', 'lasse', 'aho', 'mmx', 'beijing', 'xfn', 'listed', 'financing', 'lr', 'ipv', 'pace', 'innovation', 'uoefjlop', 'capable', 'rdc', 'rowan', 'repurchase', 'tnh', 'explosive', 'bsvh', 'babcock', 'kilometre', 'rpk', 'ask', 'intensifying', 'copper', 'xerox', 'teamed', 'tailor', 'igen', 'individual', 'promotion', 'sdlp', 'cpgx', 'bita', 'labu', 'ete', 'sdrl', 'autocharts', 'nxlxesny', 'prlb', 'hanging', 'horizonte', 'neighbouring', 'outperforms', 'lem', 'allows', 'young', 'child', 'statutory', 'regarding', 'onty', 'debate', 'lingers', 'ont', 'mou', 'collaborate', 'field', 'heat', 'environmental', 'protection', 'reorganisation', 'biotie', 'somaxon', 'pilot', 'clinical', 'trial', 'smoking', 'cessation', 'aegn', 'adx', 'crossing', 'qzzx', 'lemcon', 'kaluga', 'turkish', 'doktas', 'dokumculuk', 'ticaret', 'sanayi', 'graphic', 'sense', 'lindsey', 'liddell', 'fitch', 'slowly', 'fio', 'careful', 'owns', 'suunto', 'outlet', 'canadian', 'renews', 'utility', 'brewer', 'laitinen', 'triple', 'proved', 'rifd', 'ideal', 'olli', 'saarinen', 'supervisor', 'yara', 'finnlines', 'sentry', 'formed', 'integration', 'degree', 'immersive', 'camera', 'karputer', 'twig', 'satellite', 'race', 'programmatic', 'essence', 'cypress', 'semiconductor', 'integrated', 'spain', 'banco', 'join', 'eclipse', 'foundation', 'zgczakeu', 'smart', 'gol', 'updating', 'fdmm', 'ethanol', 'investigation', 'intercontinental', 'special', 'achieve', 'yearly', 'wrtv', 'liquefied', 'psv', 'eidesvik', 'osl', 'eiof', 'prepared', 'answer', 'detailed', 'caller', 'explores', 'cien', 'dzu', 'horizontal', 'companiescar', 'insurer', 'hastings', 'driving', 'permit', 'biofuel', 'fired', 'chp', 'vartan', 'harbor', 'chrm', 'loooooongggggg', 'isabel', 'intc', 'dow', 'trending', 'gte', 'lankapaja', 'enter', 'actual', 'continent', 'mo', 'appoints', 'seb', 'soared', 'orphan', 'aspen', 'anaesthetic', 'deep', 'domain', 'asm', 'outsourcing', 'boomed', 'ostrom', 'helped', 'lure', 'issue', 'marilyn', 'monroe', 'leerink', 'manavigator', 'unveils', 'ivrcl', 'krav', 'bom', 'rare', 'disease', 'bag', 'hearst', 'consolidate', 'cameco', 'front', 'maximum', 'uranium', 'extraction', 'circuit', 'poy', 'tanqia', 'dibba', 'fzc', 'wastewater', 'fujairah', 'uae', 'wet', 'wipe', 'argus', 'schmardin', 'try', 'resettlement', 'hilton', 'room', 'iressa', 'moteltan', 'bto', 'apr', 'ish', 'invoicing', 'delivers', 'destia', 'aulasmaa', 'truly', 'height', 'ace', 'streak', 'bue', 'gyrating', 'gap', 'jqfb', 'nevertheless', 'note', 'fundamental', 'gld', 'jr', 'stoch', 'rinkuskiai', 'kauno', 'stabler', 'jnbcvdcu', 'aldi', 'lidl', 'rsol', 'xli', 'intermediate', 'jtdf', 'factor', 'tablet', 'glisten', 'snack', 'negotiate', 'definitive', 'lloyd', 'rescue', 'edge', 'cheer', 'cyn', 'kitd', 'metric', 'scorecard', 'date', 'text', 'adjust', 'annualised', 'permanent', 'effected', 'rentakran', 'authority', 'jarmo', 'laasanen', 'senior', 'totalling', 'skx', 'implies', 'nothing', 'carnival', 'memo', 'ending', 'check', 'dqfuzozylh', 'ggneayzqn', 'establishes', 'kolkata', 'serve', 'postel', 'optimization', 'heating', 'reduce', 'kyronsalmi', 'strait', 'savonlinna', 'atom', 'processor', 'tremendous', 'pankaj', 'kedia', 'ecosystem', 'ultra', 'franc', 'sharpest', 'advice', 'gaming', 'bosnia', 'herzegovina', 'aluminij', 'dd', 'mostar', 'anode', 'tele', 'attack', 'grocery', 'kivimeister', 'deer', 'timberjack', 'sppi', 'sweet', 'justifies', 'sodra', 'stig', 'goran', 'sandberg', 'variant', 'roll', 'royce', 'series', 'cobalt', 'norilsk', 'journal', 'jjvjibia', 'lnt', 'objective', 'pip', 'actelion', 'generate', 'ladle', 'bhushan', 'strip', 'satlan', 'broadcaster', 'iptv', 'catskillfishing', 'recaptured', 'awz', 'biggies', 'must', 'loading', 'airvana', 'umts', 'femto', 'shelf', 'feature', 'savon', 'koulutuskuntayhtyma', 'shimano', 'reel', 'rod', 'sensor', 'norsun', 'mono', 'crystal', 'concern', 'scale', 'newfound', 'wrote', 'isr', 'isoray', 'ifpo', 'biotech', 'gkn', 'fokker', 'pet', 'bottle', 'strapping', 'tape', 'petcore', 'ak', 'dj', 'tzoo', 'rock', 'strand', 'associate', 'headquarters', 'tectia', 'tecv', 'appointed', 'lanlan', 'file', 'gdxj', 'jnug', 'junior', 'miner', 'fill', 'forge', 'leipurin', 'internationalizing', 'efut', 'pm', 'edu', 'brought', 'cnbc', 'heathrow', 'osaka', 'ahlstrom', 'glassfiber', 'reinforcement', 'carolina', 'bergvik', 'earns', 'appreciation', 'residentialconstruction', 'provided', 'surprising', 'jwn', 'sks', 'guess', 'signing', 'bypass', 'kotka', 'maintain', 'else', 'ocwen', 'settlement', 'ppg', 'ony', 'takeda', 'associated', 'portland', 'dunelm', 'bear', 'retake', 'nq', 'ndx', 'lmwxchw', 'subsidy', 'yry', 'cfr', 'adpnews', 'jun', 'outv', 'volc', 'probability', 'rallying', 'kalnapilio', 'tauro', 'grupe', 'kalnapilis', 'tauras', 'unibrew', 'seven', 'activision', 'blizzard', 'esports', 'viewership', 'biqlbtk', 'partnered', 'hdsi', 'tournament', 'dental', 'oral', 'hammaslaakarit', 'bankruptcy', 'blue', 'retirement', 'stg', 'trumpet', 'banking', 'pink', 'pojlf', 'swift', 'cfo', 'andrey', 'ilyin', 'securing', 'potash', 'conditioning', 'cooling', 'munich', 'companiesnew', 'aggreko', 'caprelsa', 'sanofi', 'cnpc', 'unveil', 'alliance', 'hedging', 'solo', 'vegastrader', 'qihu', 'fruit', 'lang', 'evident', 'particularly', 'primarily', 'wittine', 'longbow', 'ntap', 'standardised', 'met', 'reception', 'itella', 'digv', 'nokv', 'battle', 'noon', 'employ', 'borl', 'nge', 'neon', 'mastercard', 'widened', 'scope', 'force', 'det', 'flat', 'riser', 'latter', 'jaemsaenkoski', 'interbank', 'camara', 'interbancaria', 'de', 'pagamentos', 'cip', 'sterling', 'commerce', 'dxcm', 'consolidates', 'seppala', 'hobby', 'hall', 'decreased', 'renovation', 'moulding', 'orhangazi', 'foundry', 'meur', 'leave', 'grocer', 'contrast', 'newswolseley', 'reslilience', 'mixed', 'maglan', 'fairpoint', 'seqc', 'frp', 'booked', 'loser', 'billing', 'freight', 'crk', 'accumulate', 'intu', 'drbanunu', 'modem', 'ea', 'origin', 'game', 'mac', 'aktu', 'macrumors', 'cellphone', 'website', 'colorful', 'canvas', 'expression', 'inspired', 'sentiment', 'sml', 'rut', 'iwc', 'smh', 'sox', 'semi', 'fakeout', 'advisor', 'rubber', 'tyred', 'gantry', 'rtg', 'saigon', 'newport', 'snp', 'lpz', 'lgbrr', 'fi', 'keyword', 'modernisation', 'lunchtime', 'dia', 'iwm', 'aa', 'qualcomm', 'reward', 'patient', 'bright', 'tjjvpqhhqd', 'pnc', 'act', 'pa', 'missed', 'drhf', 'streamlined', 'comply', 'traceability', 'requirement', 'corrected', 'dyax', 'sierra', 'impressive', 'wonderful', 'marriage', 'finlan', 'hkscan', 'mhz', 'bi', 'directional', 'television', 'hundred', 'job', 'alternative', 'novel', 'candidate', 'federation', 'nexbtl', 'produced', 'dmnd', 'mega', 'nsi', 'kalkkuna', 'larger', 'kcg', 'expense', 'onwards', 'hivakuutus', 'fierce', 'storm', 'felled', 'tree', 'kep', 'pull', 'rcet', 'rationalization', 'gdp', 'boat', 'malaysian', 'straddle', 'guaranteed', 'rvi', 'suomen', 'portti', 'bancos', 'xlf', 'backburner', 'sponsorship', 'bone', 'zwe', 'dispels', 'gmbh', 'stadtverwaltung', 'mainz', 'chassis', 'body', 'positioned', 'uruguay', 'volatile', 'anglo', 'aal', 'nen', 'frequency', 'regulatory', 'nod', 'fusioniq', 'imlxzyna', 'please', 'retweet', 'court', 'dismissed', 'instance', 'giant', 'fgvoip', 'symbian', 'accomplishing', 'lietuvos', 'respublikos', 'sveikatos', 'apsaugos', 'ministerija', 'uab', 'package', 'crus', 'alpha', 'fanfare', 'cision', 'trap', 'laid', 'cadbury', 'creme', 'egg', 'easter', 'bunny', 'mikko', 'helander', 'proceed', 'swiftly', 'arrangement', 'treasury', 'sufficient', 'instrument', 'gprzujfc', 'clearer', 'cgrantwsj', 'bubble', 'ppl', 'luv', 'vacv', 'southeastern', 'soaring', 'proceeds', 'gft', 'slid', 'adanac', 'molybdenum', 'columbia', 'employing', 'chime', 'providence', 'geosentric', 'gypsii', 'reservation', 'huhtamaki', 'besides', 'various', 'sausage', 'taste', 'grill', 'shish', 'kebab', 'paavel', 'globe', 'newswire', 'jyvaeskylae', 'ropax', 'print', 'robot', 'housebuilder', 'cairn', 'frei', 'mull', 'alone', 'medically', 'underwritten', 'physical', 'sunrise', 'valley', 'andrius', 'bagdonas', 'contributed', 'cgcbv', 'linkspans', 'morocco', 'required', 'volotinen', 'responsible', 'geenrated', 'gale', 'refining', 'bbl', 'lattelecom', 'melngailis', 'cutlery', 'fisa', 'ren', 'bottoming', 'honkamaa', 'viewpoint', 'flushed', 'branded', 'heikki', 'allonen', 'pointing', 'overlapping', 'heinz', 'speedy', 'lubricant', 'il', 'molub', 'alloy', 'narrow', 'hardware', 'ebgv', 'tailored', 'solel', 'effective', 'highest', 'reflector', 'shifting', 'suspect', 'ggcq', 'imrs', 'pragmatic', 'wind', 'intact', 'evenif', 'within', 'initial', 'sitronics', 'jsc', 'mikron', 'exporter', 'microelectronic', 'fesco', 'nurminen', 'intermodal', 'convert', 'technologically', 'demanding', 'shift', 'indicates', 'slowing', 'lean', 'purchasing', 'lemann', 'complex', 'grimaldi', 'uwe', 'bakosch', 'adobe', 'ljnxpevhzn', 'confirmation', 'fundam', 'quysrqfox', 'mww', 'shipowner', 'grieg', 'prof', 'excellently', 'stability', 'braking', 'veidekke', 'entreprenor', 'setting', 'ttmrnfoxj', 'brianwieser', 'brian', 'tdneoh', 'mon', 'wholesaler', 'tenth', 'preceding', 'done', 'printed', 'pcb', 'helping', 'critical', 'usp', 'roadmap', 'simon', 'button', 'affordable', 'tco', 'coated', 'shaping', 'spx', 'favour', 'ephc', 'firstquarter', 'magnus', 'rosen', 'teva', 'generic', 'version', 'heartburn', 'citing', 'dampened', 'iaci', 'tju', 'kaarstroem', 'tt', 'equipped', 'safe', 'jointly', 'commercialise', 'appointment', 'ordinate', 'bpm', 'ubi', 'italy', 'econ', 'minister', 'admired', 'vivid', 'respiratory', 'underpins', 'correspondingly', 'specialises', 'nonwovens', 'publication', 'favorable', 'qciiyo', 'tradition', 'awaits', 'ssri', 'paas', 'someone', 'thank', 'twofold', 'zahariev', 'fire', 'row', 'neeeeds', 'hail', 'house', 'karhinen', 'op', 'exciting', 'resume', 'tullow', 'telecominvest', 'convincing', 'henning', 'bahr', 'gruppen', 'praise', 'optimisation', 'thereby', 'companieshome', 'considered', 'icis', 'includes', 'inorganic', 'coagulant', 'andhra', 'pradesh', 'insider', 'steve', 'yye', 'mako', 'social', 'rallied', 'wk', 'shot', 'zwhthsvfsf', 'piece', 'stifel', 'greene', 'king', 'festive', 'symantec', 'renewal', 'symc', 'category', 'mechanical', 'oems', 'targeting', 'wimax', 'millercoors', 'located', 'shenzhen', 'yfajcusqa', 'boomeranger', 'rutav', 'cern', 'bwld', 'unspectacular', 'stavo', 'stavokonsult', 'kostiainen', 'divi', 'parent', 'mkmemtadt', 'ssh', 'hurt', 'fennia', 'dropped', 'threatening', 'exploration', 'emsa', 'juri', 'lember', 'heard', 'informed', 'losing', 'lodged', 'prolongation', 'correspond', 'sdav', 'slipped', 'notice', 'workforce', 'needed', 'peer', 'peugeot', 'reference', 'grade', 'challenging', 'complexity', 'routine', 'sharply', 'overshadowed', 'lowered', 'tiev', 'plunged', 'warning', 'faller', 'conciliator', 'salonius', 'decided', 'temporary', 'lay', 'offs', 'impacted', 'perkonoja', 'tornio', 'layoff', 'tacked', 'notably', 'skr', 'hence', 'border', 'guard', 'banned', 'mooring', 'railroad', 'checkpoint', 'stqv', 'peri', 'silja', 'attribute', 'booking', 'taken', 'trailer', 'sky', 'riga', 'foresees', 'projection', 'scanfil', 'kiosk', 'cinema', 'suffered', 'burdened', 'prosecutor', 'seasonal', 'fluctuation', 'weakened', 'backlog', 'write', 'sizable', 'swedbank', 'dnb', 'excess', 'backdrop', 'meltdown', 'affectogenimap', 'halved', 'delayed', 'courthouse', 'saltonstall']\n",
      "['esi', 'low', 'bk', 'real', 'possibility', 'shell', 'billion', 'bg', 'deal', 'meet', 'shareholder', 'skepticism', 'sap', 'q', 'disappoints', 'software', 'license', 'problem', 'cloud', 'growth', 'trail', 'msft', 'orcl', 'goog', 'crm', 'adbe', 'http', 'co', 'jndphllzq', 'aapl', 'afternoon', 'selloff', 'usual', 'brutal', 'get', 'ready', 'lose', 'ton', 'money', 'tsla', 'recalling', 'pretty', 'much', 'every', 'single', 'model', 'x', 'cnnbrk', 'got', 'short', 'even', 'work', 'jump', 'trade', 'intercontinental', 'hotel', 'first', 'quarter', 'global', 'room', 'revenue', 'lag', 'estimate', 'l', 'g', 'still', 'paying', 'price', 'dividend', 'cut', 'crisis', 'chief', 'say', 'astrazeneca', 'profit', 'sale', 'stalwart', 'fade', 'u', 'sanction', 'put', 'gazprom', 'alliance', 'plan', 'jeopardy', 'tesco', 'share', 'grocer', 'face', 'sfo', 'investigation', 'outcome', 'recall', 'googl', 'upper', 'bb', 'overbought', 'tesla', 'car', 'zbkvstl', 'nq', 'hit', 'hard', 'lower', 'look', 'like', 'found', 'support', 'stks', 'sz', 'rt', 'alphatrends', 'vmarkets', 'acting', 'weak', 'agn', 'spy', 'qqq', 'xlf', 'smh', 'iwm', 'johnson', 'matthey', 'slump', 'company', 'post', 'full', 'year', 'result', 'stockdemons', 'think', 'shorting', 'close', 'might', 'play', 'high', 'beta', 'reversing', 'worth', 'shot', 'lnkd', 'daily', 'phase', 'retest', 'experiencing', 'early', 'rejection', 'txx', 'asda', 'fall', 'march', 'discounter', 'continues', 'kantar', 'weir', 'lead', 'ftse', 'record', 'royal', 'mail', 'breached', 'competition', 'law', 'delivery', 'service', 'change', 'ofcom', 'claim', 'fb', 'turn', 'back', 'trading', 'reufpzhbm', 'lulu', 'outlook', 'lost', 'range', 'million', 'not', 'good', 'add', 'reliability', 'issue', 'jvxqdoxnp', 'mcp', 'rolling', 'new', 'intraday', 'bottom', 'picker', 'continue', 'destroyed', 'momentum', 'weakening', 'going', 'talktalk', 'hire', 'bae', 'system', 'investigate', 'cyber', 'attack', 'led', 'glaxosmithkline', 'sainsbury', 'morrison', 'petrol', 'oil', 'bearish', 'outside', 'day', 'tuesday', 'significant', 'resistance', 'intact', 'opinion', 'sd', 'chart', 'ly', 'beyt', 'chessnwine', 'minute', 'small', 'cap', 'threatening', 'descending', 'triangle', 'breakdown', 'rkkm', 'isrg', 'fvvu', 'cqrm', 'britain', 'ashtead', 'commodity', 'pressure', 'analyst', 'view', 'seen', 'recent', 'volatility', 'key', 'watch', 'nflx', 'previous', 'double', 'top', 'reject', 'siyn', 'city', 'spirit', 'sink', 'diageo', 'come', 'slide', 'stanchart', 'rb', 'struggle', 'bank', 'england', 'stress', 'test', 'bhp', 'billiton', 'brazil', 'sue', 'samarco', 'bn', 'easyjet', 'dismisses', 'lufthansa', 'cost', 'contest', 'germany', 'apple', 'break', 'major', 'level', 'jrmw', 'chairman', 'donald', 'brydon', 'set', 'step', 'finance', 'fill', 'gap', 'ceo', 'leaf', 'marchin', 'gmcr', 'lovin', 'hargreaves', 'lansdown', 'mount', 'although', 'pension', 'update', 'bp', 'settle', 'spill', 'related', 'halliburton', 'transocean', 'pickup', 'enough', 'micron', 'technology', 'inc', 'nasdaq', 'mu', 'today', 'since', 'eqqltfuiou', 'rxii', 'tang', 'really', 'toxic', 'keep', 'bringing', 'least', 'could', 'let', 'climb', 'little', 'dragging', 'bad', 'idea', 'make', 'min', 'prediction', 'based', 'faith', 'dandyduct', 'sell', 'signal', 'go', 'next', 'big', 'seems', 'falling', 'towards', 'v', 'potential', 'shark', 'pattern', 'point', 'b', 'taken', 'iggh', 'soullor', 'regular', 'scrappy', 'swy', 'usually', 'present', 'margin', 'debt', 'way', 'trouble', 'brewing', 'legal', 'general', 'group', 'plc', 'aviva', 'quick', 'fio', 'market', 'tanking', 'scaling', 'longs', 'saltwaternurse', 'ino', 'time', 'take', 'hedge', 'netapp', 'downgraded', 'macquarie', 'underperform', 'pt', 'xcngwstq', 'ntap', 'via', 'ratingsnetwork', 'rbi', 'surprise', 'street', 'sensex', 'pares', 'gain', 'hitting', 'k', 'fastenal', 'miss', 'fast', 'nyse', 'jhqpwmn', 'gevo', 'plunging', 'ingenious', 'hsbc', 'ubs', 'coutts', 'sued', 'tax', 'avoidance', 'client', 'atvi', 'sina', 'though', 'report', 'untrue', 'proven', 'unture', 'damage', 'done', 'one', 'want', 'touch', 'companiestesco', 'start', 'xmas', 'standard', 'chartered', 'shift', 'emerging', 'strategy', 'loss', 'suv', 'seat', 'odpranxq', 'xvnbliwpy', 'thfvwtnrps', 'jd', 'hour', 'anyone', 'care', 'explain', 'condition', 'sent', 'tumble', 'week', 'near', 'drop', 'thats', 'lot', 'best', 'hold', 'er', 'lol', 'infection', 'worry', 'prompt', 'regulatory', 'review', 'gilead', 'leukaemia', 'drug', 'gild', 'hvqxpzg', 'yahoofinance', 'kj', 'bounced', 'target', 'buy', 'area', 'bought', 'skf', 'slope', 'slash', 'pcln', 'reversal', 'moving', 'kior', 'god', 'getting', 'crushed', 'ta', 'anything', 'recover', 'tomorrow', 'imagine', 'uk', 'worst', 'far', 'prudential', 'lse', 'deutsche', 'brse', 'dealmakers', 'wrong', 'ignore', 'brexit', 'risk', 'glencore', 'pct', 'fear', 'grow', 'raising', 'capital', 'yet', 'gundlach', 'slam', 'ipad', 'mini', 'see', 'downside', 'bdqv', 'copper', 'may', 'style', 'supply', 'shock', 'closure', 'vehicle', 'volatile', 'tckqznmiqx', 'tech', 'stockmarket', 'femhjtamqj', 'dog', 'stock', 'dropping', 'ea', 'two', 'facebook', 'game', 'accuses', 'znga', 'copyright', 'infringement', 'ga', 'juniper', 'warning', 'cisco', 'also', 'jnpr', 'csco', 'bgvintkh', 'doubt', 'bln', 'return', 'festive', 'twtr', 'scenario', 'forward', 'slowly', 'everyday', 'quite', 'probable', 'window', 'awful', 'force', 'upgrade', 'pc', 'without', 'consent', 'microsoft', 'zsl', 'looking', 'setup', 'drag', 'slashing', 'yelp', 'wayyy', 'overvalued', 'right', 'imo', 'digit', 'po', 'earnings', 'term', 'scottrade', 'available', 'w', 'kingfisher', 'takeover', 'mr', 'bricolage', 'brick', 'wall', 'blame', 'rival', 'creating', 'metal', 'glut', 'credit', 'suisse', 'bos', 'stiff', 'challenge', 'asia', 'pounded', 'business', 'stifel', 'defends', 'tzt', 'marjo', 'buffett', 'percent', 'camt', 'trend', 'mid', 'fund', 'redemption', 'liquidation', 'channel', 'cleared', 'soon', 'solid', 'footing', 'floor', 'july', 'interest', 'increase', 'eh', 'ryandetrick', 'hznp', 'havent', 'vol', 'runup', 'dip', 'starbucks', 'reward', 'program', 'sbux', 'sabmiller', 'weaker', 'em', 'currency', 'nvestor', 'soda', 'float', 'edfp', 'surprised', 'fallen', 'thought', 'around', 'guess', 'motor', 'bfwsdbmu', 'slv', 'budget', 'divest', 'lonmin', 'nxbplje', 'fastjet', 'founder', 'stelios', 'public', 'taking', 'advice', 'letter', 'contractual', 'ruling', 'limit', 'fine', 'hpq', 'breakup', 'saving', 'phz', 'joerazorback', 'generally', 'speaking', 'everyone', 'espn', 'file', 'lawsuit', 'verizon', 'icj', 'vz', 'intertek', 'swing', 'mln', 'higher', 'sign', 'unless', 'philip', 'morris', 'bat', 'branding', 'pack', 'saudi', 'aramco', 'motiva', 'divide', 'asset', 'bumping', 'head', 'declining', 'overhead', 'brother', 'user', 'engagement', 'tqmmtnx', 'sedqrwgdkt', 'gtat', 'enter', 'bounce', 'european', 'plunge', 'roiled', 'hope', 'ecb', 'weekly', 'average', 'vtppzyuy', 'dutch', 'chevron', 'fail', 'find', 'reserve', 'counter', 'refile', 'investor', 'move', 'euro', 'axa', 'arm', 'know', 'sit', 'jgwzzc', 'athn', 'stop', 'position', 'suspend', 'property', 'panic', 'academic', 'google', 'android', 'factor', 'authentication', 'breakable', 'security', 'hacking', 'njxmnrglo', 'statoil', 'withdraw', 'staff', 'algeria', 'following', 'rocket', 'churning', 'volume', 'ipo', 'seller', 'trying', 'consolidate', 'love', 'type', 'article', 's', 'rose', 'cqkr', 'lloyd', 'job', 'part', 'restructuring', 'rimm', 'spx', 'nya', 'compq', 'djia', 'dji', 'axp', 'ba', 'cvx', 'ibm', 'intc', 'wmypnomjf', 'valeant', 'pledge', 'heed', 'critic', 'painful', 'experience', 'finally', 'nice', 'handle', 'nasdboy', 'dnf', 'crew', 'heading', 'balance', 'sheet', 'admits', 'size', 'penalty', 'petrofac', 'book', 'shetland', 'gas', 'terminal', 'delay', 'dlerch', 'fmcn', 'darn', 'chit', 'sherlock', 'hover', 'dialog', 'vivus', 'vvus', 'bear', 'raid', 'effect', 'xdgraexkkz', 'christmas', 'save', 'wave', 'smaller', 'mugatushair', 'buyback', 'trending', 'cpix', 'spending', 'pricier', 'hopefully', 'pull', 'closing', 'vwap', 'mark', 'modelx', 'faulty', 'rd', 'row', 'hsqdovry', 'cscnzebb', 'loading', 'toppy', 'imho', 'iff', 'technical', 'alert', 'stochastic', 'dma', 'pqy', 'british', 'american', 'tobacco', 'pwc', 'pollution', 'scandal', 'sold', 'zone', 'kraft', 'cadbury', 'britvic', 'total', 'pulling', 'product', 'affect', 'bull', 'ended', 'waiting', 'optimistic', 'amzn', 'fundementals', 'poopoo', 'reed', 'elsevier', 'underwhelming', 'disappoint', 'comparative', 'leave', 'bitter', 'taste', 'beat', 'lack', 'sxzuno', 'mflx', 'pre', 'mkt', 'filled', 'lookin', 'opt', 'rejected', 'penny', 'open', 'r', 'within', 'teaexxpe', 'need', 'otherwise', 'headed', 'downgrade', 'loyalty', 'iylcugabc', 'vnoto', 'follow', 'ndx', 'internals', 'ab', 'inbev', 'bid', 'rebuffal', 'diabetes', 'combination', 'fda', 'rebuff', 'xlb', 'weakest', 'sector', 'possible', 'false', 'breakout', 'dlz', 'breaking', 'detail', 'show', 'tullow', 'suspends', 'amid', 'siga', 'reargument', 'denied', 'judge', 'vxx', 'party', 'loaded', 'uvxy', 'slid', 'four', 'opec', 'kept', 'production', 'unchanged', 'aix', 'uso', 'wti', 'brent', 'barclays', 'mcfarlane', 'ax', 'speed', 'strategic', 'qcor', 'pullback', 'era', 'believe', 'manipulation', 'capable', 'unit', 'latch', 'third', 'naturalgas', 'dbo', 'bno', 'dqx', 'fresh', 'evasion', 'order', 'locked', 'miner', 'meltdown', 'rio', 'tinto', 'rout', 'energy', 'failing', 'stand', 'xle', 'neutral', 'reduced', 'implement', 'sad', 'thing', 'rumor', 'component', 'announced', 'supreme', 'court', 'upholds', 'jury', 'award', 'exxonmobil', 'joemccann', 'correleation', 'dollar', 'index', 'simply', 'amazing', 'dx', 'retreat', 'clockwork', 'gpro', 'tue', 'morning', 'casino', 'red', 'bell', 'lvs', 'wynn', 'unusual', 'comibinations', 'running', 'stockoptionexpert', 'mat', 'trader', 'added', 'april', 'contract', 'ago', 'col', 'gakrum', 'distinctive', 'bond', 'resume', 'stx', 'datasecurity', 'emc', 'sndk', 'wdc', 'vkydwpxesn', 'cat', 'hangin', 'thread', 'click', 'away', 'cliff', 'snap', 'vix', 'accused', 'hurting', 'life', 'announce', 'acquisition', 'pride', 'social', 'medium', 'gettin', 'gww', 'slowing', 'timely', 'coincident', 'indicator', 'mbkhbkzk', 'timberrrr', 'mrbgfdhhva', 'extreme', 'win', 'cent', 'bowl', 'cherry', 'great', 'setting', 'aberdeen', 'h', 'outflow', 'remain', 'challenging', 'ugaz', 'cold', 'dent', 'massive', 'horizontal', 'rig', 'pvp', 'abandon', 'video', 'streaming', 'ambition', 'blinkbox', 'edge', 'raise', 'stamp', 'faz', 'mean', 'tank', 'p', 'renn', 'topping', 'tail', 'receives', 'united', 'financial', 'irregularity', 'involving', 'ending', 'supermarket', 'digital', 'gps', 'september', 'comparable', 'store', 'net', 'bwld', 'engulfing', 'candle', 'industry', 'newsmorrisons', 'unveils', 'axe', 'dead', 'bloated', 'valuation', 'czcfkbrlt', 'wish', 'pop', 'hfklqwobv', 'study', 'zmdgfbi', 'criticised', 'disgraceful', 'advert', 'showing', 'domestic', 'worker', 'slapped', 'multi', 'mcd', 'stability', 'questioned', 'coming', 'tell', 'traceyryniec', 'broad', 'wwg', 'kaman', 'well', 'ddd', 'rating', 'jefferies', 'gcqd', 'hod', 'sitting', 'sideline', 'nomura', 'must', 'pay', 'mortgage', 'case', 'buyer', 'pile', 'stocktwits', 'fallondpicks', 'breadth', 'consolidates', 'steady', 'advance', 'slowe', 'trg', 'nke', 'jwn', 'worse', 'kipa', 'giraffe', 'sky', 'news', 'stake', 'heart', 'facing', 'tough', 'cash', 'cow', 'tlt', 'rising', 'rsi', 'macd', 'buying', 'signaling', 'uup', 'overproduction', 'belt', 'fix', 'tkmqvwhqq', 'hk', 'jan', 'sinking', 'ship', 'jlgrprrk', 'fitch', 'london', 'exchange', 'boerse', 'merger', 'threat', 'qcom', 'qualcomm', 'retracement', 'trendline', 'wqqhkoy', 'grid', 'dia', 'capped', 'long', 'rally', 'beyond', 'boost', 'david', 'potts', 'turnaround', 'stall', 'cndo', 'likely', 'bbry', 'actually', 'c', 'per', 'incl', 'ffgj', 'patent', 'asthma', 'invalidated', 'sheryl', 'sandberg', 'vxtamnpk', 'flat', 'whitbread', 'andy', 'harrison', 'blip', 'plug', 'boeing', 'bet', 'expiry', 'tcse', 'half', 'hurt', 'stumbled', 'upon', 'ofix', 'holy', 'guac', 'super', 'epx', 'bizyabue', 'companiesmeggitt', 'military', 'certain', 'doom', 'feb', 'spread', 'cree', 'last', 'yoy', 'rev', 'try', 'costco', 'le', 'stellar', 'held', 'amd', 'dumping', 'would', 'china', 'devaluation', 'burberry', 'mining', 'wkly', 'slip', 'okay', 'therapy', 'adult', 'people', 'calling', 'exit', 'already', 'maybe', 'crash', 'disturbing', 'dairy', 'crest', 'loses', 'milk', 'qqlevvwpmv', 'fpdqjutha', 'end', 'scan', 'jdst', 'free', 'blrx', 'lpg', 'afsi', 'dvax', 'hdge', 'aht', 'alr', 'asmb', 'www', 'dailystockplays', 'com', 'large', 'player', 'selling', 'tvel', 'crox', 'gogo', 'three', 'amrn', 'many', 'rejoicing', 'currently', 'fdxaegi', 'rejecting', 'shortable', 'making', 'endp', 'ftc', 'nobody', 'hanging', 'horrible', 'action', 'yesterday', 'exxon', 'dominance', 'pound', 'rnn', 'bleeding', 'monday', 'qihu', 'totally', 'missed', 'congrats', 'negative', 'broker', 'note', 'shire', 'baxalta', 'owner', 'ice', 'gatecrash', 'changed', 'companieskingfisher', 'run', 'gld', 'ow', 'closer', 'inspection', 'north', 'downward', 'mpwr', 'th', 'meh', 'hlf', 'made', 'killing', 'couple', 'cover', 'toll', 'considering', 'bullish', 'sentiment', 'impressive', 'tajfchqh', 'dish', 'weakness', 'beaten', 'hated', 'etc', 'hhhmm', 'opposite', 'happens', 'yeah', 'ebay', 'e', 'bay', 'working', 'dojis', 'lguybxeze', 'policy', 'isolationism', 'another', 'several', 'jfnnx', 'bac', 'homebuilder', 'ryl', 'axdx', 'bored', 'took', 'proprietary', 'option', 'liquidity', 'lousy', 'subdued', 'forex', 'probe', 'walter', 'investment', 'management', 'corp', 'compass', 'wac', 'civx', 'saying', 'forget', 'ex', 'director', 'illegal', 'tip', 'plumber', 'careful', 'moved', 'government', 'bailout', 'nkwecrba', 'blue', 'fxe', 'dt', 'watchlist', 'voluntary', 'due', 'npakcugs', 'chum', 'meggitt', 'berkshire', 'discloses', 'tie', 'iran', 'grpn', 'ahead', 'russian', 'search', 'engine', 'yndx', 'bkd', 'fined', 'regulator', 'fee', 'wipe', 'wx', 'decent', 'acom', 'gx', 'vetr', 'indicating', 'star', 'vvpzqcxsnj', 'cracking', 'correction', 'amazon', 'surveillance', 'camera', 'infected', 'malware', 'tohleqfk', 'prcbtvvy', 'relative', 'apparent', 'boat', 'prefer', 'empty', 'nine', 'including', 'citi', 'agree', 'month', 'greek', 'concern', 'skid', 'suffers', 'setback', 'fails', 'treat', 'eye', 'cancer', 'fragile', 'fy', 'agency', 'warn', 'slammed', 'handset', 'nihd', 'insider', 'defect', 'yvydncdndi', 'france', 'proposed', 'lng', 'someone', 'shs', 'skeptical', 'mitk', 'dive', 'ffn', 'reuters', 'green', 'mountain', 'mw', 'print', 'foul', 'mood', 'everything', 'sight', 'bobe', 'premarket', 'acad', 'pm', 'db', 'charge', 'settlement', 'finnish', 'geosentric', 'decreased', 'eur', 'january', 'dealer', 'said', 'largely', 'disappointment', 'refining', 'usd', 'barrel', 'performance', 'shipping', 'saw', 'ebit', 'tanker', 'rate', 'exel', 'composite', 'design', 'manufacture', 'profile', 'tube', 'various', 'industrial', 'application', 'second', 'mn', 'corresponding', 'period', 'omx', 'nordic', 'omxn', 'comprising', 'traded', 'closed', 'thursday', 'finland', 'dropped', 'pulp', 'kemij', 'rvi', 'liquidated', 'employee', 'loose', 'matter', 'difficult', 'grappling', 'pushed', 'raw', 'material', 'transportation', 'building', 'home', 'improvement', 'rapid', 'decrease', 'personnel', 'reduction', 'carried', 'wider', 'scale', 'initially', 'expected', 'survey', 'conducted', 'taloustutkimus', 'sampo', 'badly', 'prepared', 'losing', 'member', 'operating', 'turnover', 'compared', 'triggered', 'demand', 'forestry', 'equipment', 'uncertain', 'situation', 'goldman', 'sachs', 'prospect', 'norwegian', 'mobile', 'operation', 'norway', 'telenor', 'asa', 'osl', 'tel', 'sweden', 'teliasonera', 'sto', 'tlsn', 'sanoma', 'advertising', 'construction', 'yit', 'reducing', 'number', 'ups', 'financed', 'residential', 'previously', 'maritime', 'administration', 'ignored', 'icy', 'measure', 'information', 'glass', 'glaston', 'oyj', 'abp', 'adpnews', 'dec', 'cutlery', 'hand', 'tool', 'maker', 'fiskars', 'hel', 'fisa', 'redundant', 'office', 'subsidiary', 'iittala', 'ltd', 'slightly', 'xac', 'earlier', 'according', 'station', 'chain', 'st', 'managing', 'kim', 'wiio', 'forced', 'purchase', 'consumer', 'almost', 'eaten', 'june', 'dark', 'spot', 'horizon', 'however', 'bottled', 'water', 'adp', 'broadband', 'data', 'communication', 'solution', 'teleste', 'tltv', 'impact', 'provider', 'ixonos', 'slipped', 'dragged', 'poor', 'enterprise', 'shipbuilding', 'glisten', 'invested', 'brand', 'team', 'maximum', 'parent', 'finnlines', 'estimated', 'annual', 'meeting', 'financially', 'plumbing', 'heating', 'supplier', 'uponor', 'continuing', 'waste', 'cleaning', 'lassila', 'tikanoja', 'went', 'finnair', 'traffic', 'passenger', 'kilometre', 'consolidated', 'pretax', 'stockmann', 'seven', 'franchising', 'sport', 'nike', 'russia', 'declined', 'mainly', 'increased', 'wood', 'recycled', 'fiber', 'strengthened', 'kemira', 'fourth', 'temporarily', 'lay', 'whole', 'approximately', 'person', 'kirkkonummi', 'nivala', 'factory', 'device', 'payment', 'litas', 'loan', 'provided', 'ragutis', 'majority', 'estonia', 'coq', 'negotiation', 'decided', 'ground', 'ruukki', 'calculates', 'failed', 'project', 'eurm', 'steelmaker', 'explained', 'economic', 'uncertainty', 'mixed', 'current', 'drought', 'lending', 'resulting', 'decline', 'customer', 'increasingly', 'advisory', 'ntsb', 'subsequent', 'testing', 'train', 'detection', 'intermittently', 'lemminkainen', 'lem', 'laid', 'nokia', 'friday', 'slow', 'introduction', 'screen', 'stora', 'enso', 'hardware', 'developer', 'elektrobit', 'ebgv', 'eb', 'aiming', 'achieve', 'flow', 'december', 'fell', 'moment', 'valio', 'worried', 'ban', 'become', 'sawmill', 'packaging', 'producer', 'huhtamaki', 'hampshire', 'manufacturing', 'plant', 'vanhanen', 'strike', 'extremely', 'damaging', 'participant', 'reporter', 'begin', 'arrive', 'eu', 'summit', 'president', 'vladimir', 'putin', 'lahti', 'kilometer', 'mile', 'helsinki', 'slowed', 'journey', 'place', 'northern', 'baltic', 'sea', 'november', 'furniture', 'martela', 'mara', 'permanently', 'activity', 'international', 'local', 'airline', 'cancellation', 'flight', 'airspace', 'process', 'recommencing', 'caused', 'stranded', 'accommodation', 'konecranes', 'thomson', 'cargotec', 'sharply', 'disappointing', 'fireplace', 'especially', 'implementation', 'meiklejohn', 'eps', 'scanfil', 'telecommunication', 'network', 'fluctuated', 'significantly', 'unstable', 'rest', 'snow', 'storm', 'brought', 'tree', 'power', 'line', 'cutting', 'electricity', 'household', 'voiced', 'firm', 'suffering', 'subscription', 'accounting', 'upm', 'mill', 'slashed', 'executive', 'officer', 'olli', 'pekka', 'kallasvuo', 'reshuffled', 'iphone', 'rim', 'blackberry', 'amount', 'slumped', 'snowfall', 'resort', 'winter', 'salcomp', 'phone', 'charger', 'posted', 'national', 'totalling', 'talentum', 'association', 'figure', 'brewery', 'imported', 'beer', 'actual', 'given', 'siemens', 'struggled', 'past', 'kyro', 'main', 'manufacturer', 'processing', 'machine', 'equivalent', 'totaled', 'ferry', 'stockholm', 'archipelago', 'island', 'suominen', 'corporation', 'nonwovens', 'flexible', 'expects', 'reduce', 'wet', 'nearly', 'nokv', 'folded', 'employed', 'roce', 'transaction', 'aggregate', 'holding', 'burrill', 'science', 'vote', 'marketwatch', 'rebound', 'offset', 'broader', 'communicated', 'grimaldi', 'reported', 'latvian', 'register', 'latvia', 'lvl', 'strength', 'learning', 'literature', 'orion', 'raute', 'rutav', 'resource', 'allows', 'fewer', 'smartphones', 'connect', 'portfolio', 'elcoteq', 'recently', 'kroon', 'fifth', 'neteller', 'cheaper', 'left', 'powerless', 'expenditure', 'efficiency', 'unfortunately', 'along', 'economy', 'agreed', 'consumption', 'ramirent', 'black', 'comptel', 'excluding', 'non', 'recurring', 'item', 'representing', 'hobby', 'hall', 'coated', 'magazine', 'printing', 'paper', 'route', 'tallinn', 'percentage', 'commission', 'income', 'tampere', 'nastola', 'managed', 'coca', 'cola', 'resulted', 'employment', 'covered', 'arrangement']\n"
     ]
    },
    {
     "name": "stdout",
     "output_type": "stream",
     "text": [
      "['according', 'finnish', 'russian', 'chamber', 'commerce', 'major', 'construction', 'company', 'finland', 'operating', 'russia', 'swedish', 'buyout', 'firm', 'sold', 'remaining', 'percent', 'stake', 'almost', 'eighteen', 'month', 'taking', 'public', 'stockmann', 'department', 'store', 'total', 'floor', 'space', 'square', 'metre', 'investment', 'project', 'price', 'tag', 'eur', 'million', 'ahlstrom', 'corporation', 'stock', 'exchange', 'announcement', 'new', 'share', 'subscribed', 'option', 'right', 'program', 'ii', 'l', 'nnen', 'tehtaat', 'ceo', 'matti', 'karppinen', 'aim', 'deliver', 'fish', 'product', 'customer', 'day', 'earlier', 'currently', 'quoted', 'nasdaq', 'omx', 'helsinki', 'rautaruukki', 'oyj', 'rtrks', 'elcoteq', 'se', 'listed', 'ltd', 'two', 'contract', 'turntable', 'anode', 'vibrocompactors', 'delivered', 'gansu', 'hualu', 'aluminum', 'co', 'another', 'unnamed', 'costumer', 'stead', 'based', 'soft', 'drink', 'usual', 'teho', 'energy', 'made', 'fresh', 'water', 'plan', 'increase', 'unit', 'specialist', 'staff', 'several', 'dozen', 'depending', 'market', 'situation', 'closed', 'last', 'year', 'turnover', 'four', 'euro', 'five', 'storey', 'eco', 'efficient', 'building', 'gross', 'area', 'sq', 'also', 'include', 'apartment', 'first', 'installment', 'cinema', 'series', 'concludes', 'profile', 'inventor', 'olavi', 'linden', 'whose', 'personal', 'artistic', 'journey', 'work', 'fiskars', 'led', 'design', 'award', 'welcome', 'huhtamaki', 'release', 'capital', 'institutional', 'investor', 'analyst', 'held', 'espoo', 'september', 'starting', 'pm', 'time', 'profit', 'tax', 'financialwire', 'tm', 'not', 'press', 'service', 'receives', 'compensation', 'news', 'opinion', 'distribution', 'assa', 'abloy', 'kaupthing', 'bank', 'gave', 'neutral', 'recommendation', 'target', 'crown', 'lock', 'maker', 'ab', 'posted', 'net', 'lt', 'mn', 'volume', 'phase', 'estimated', 'usd', 'accounted', 'lagardere', 'magazine', 'division', 'revenue', 'usa', 'accounting', 'period', 'fine', 'print', 'thus', 'sysopen', 'digia', 'accordance', 'chapter', 'section', 'act', 'obtained', 'title', 'sentera', 'redeemed', 'p', 'eastern', 'block', 'changed', 'hand', 'bid', 'recent', 'technology', 'delivery', 'refinery', 'anrak', 'aluminium', 'iron', 'ore', 'pelletizing', 'plant', 'tata', 'steel', 'sintering', 'bhushan', 'generated', 'sale', 'mln', 'stora', 'enso', 'meeting', 'labor', 'authority', 'employment', 'economic', 'development', 'centre', 'representative', 'government', 'order', 'find', 'solution', 'cohen', 'steer', 'inc', 'representing', 'voting', 'kauko', 'telko', 'centralized', 'administration', 'dissolved', 'appropriate', 'part', 'transferred', 'activity', 'group', 'end', 'quarter', 'april', 'june', 'amounted', 'bn', 'atrium', 'chose', 'delight', 'attract', 'consumer', 'age', 'range', 'microwaveable', 'meal', 'totaled', 'connection', 'deal', 'employ', 'person', 'nokia', 'oslo', 'silicon', 'valley', 'testament', 'quality', 'lte', 'commitment', 'japanese', 'added', 'finalize', 'negotiation', 'sign', 'start', 'october', 'metso', 'foundry', 'jyvaskyla', 'oy', 'discontinue', 'production', 'line', 'said', 'six', 'polled', 'rated', 'real', 'buy', 'accumulate', 'three', 'hold', 'one', 'sell', 'g', 'engineering', 'install', 'valve', 'liquefied', 'natural', 'gas', 'lng', 'built', 'uae', 'extraction', 'operator', 'gasco', 'ruwais', 'percentage', 'calculated', 'proportion', 'number', 'registered', 'trade', 'register', 'related', 'ground', 'rumor', 'circulating', 'lember', 'matter', 'topical', 'estonia', 'bill', 'drafted', 'social', 'affair', 'ministry', 'would', 'scrap', 'old', 'pension', 'favorable', 'condition', 'moody', 'long', 'term', 'senior', 'unsecured', 'short', 'debt', 'rating', 'lender', 'aktia', 'eurbn', 'medium', 'note', 'emtn', 'march', 'value', 'm', 'laakso', 'responsible', 'hkscan', 'hr', 'function', 'smarket', 'engaged', 'global', 'supply', 'marine', 'equipment', 'associated', 'wartsila', 'dominating', 'rail', 'vr', 'planning', 'set', 'infected', 'passenger', 'distance', 'trip', 'separate', 'carriage', 'november', 'decreased', 'ownership', 'bavelloni', 'nst', 'joint', 'venture', 'tool', 'completes', 'semiproducts', 'produced', 'italy', 'high', 'diapol', 'brand', 'patent', 'pending', 'allows', 'lay', 'entire', 'removable', 'plate', 'using', 'multiple', 'clear', 'stamp', 'kind', 'light', 'curfew', 'curl', 'latest', 'bestseller', 'treat', 'eye', 'perfect', 'reading', 'luceplan', 'prerequisite', 'inclusion', 'receipt', 'gain', 'key', 'employee', 'acquire', 'aspo', 'amount', 'determined', 'board', 'advance', 'maximum', 'mr', 'doring', 'eaton', 'since', 'acted', 'business', 'manager', 'power', 'control', 'january', 'financial', 'statement', 'tikkurila', 'reported', 'discontinued', 'operation', 'name', 'applicant', 'jot', 'automation', 'oyname', 'mammila', 'tuomo', 'piirainen', 'mika', 'kellokoski', 'mikaapplication', 'kolnp', 'adate', 'filing', 'application', 'publication', 'date', 'eero', 'katajavuori', 'vice', 'president', 'human', 'resource', 'take', 'sabbatical', 'whats', 'lulu', 'looked', 'good', 'great', 'think', 'conference', 'call', 'instill', 'confidence', 'adjustment', 'measure', 'carried', 'secure', 'capability', 'alma', 'tyrvaan', 'sanomat', 'paikallissanomat', 'bought', 'suomen', 'local', 'paper', 'appearing', 'sastamala', 'neighbouring', 'municipality', 'stonesoft', 'headquarters', 'italahdenkatu', 'interim', 'report', 'presented', 'ilkka', 'hiidenheimo', 'sampo', 'rosenlew', 'manufacture', 'approximately', 'seven', 'forest', 'machine', 'monthly', 'half', 'exported', 'complex', 'consists', 'office', 'retail', 'totalling', 'planned', 'operational', 'second', 'full', 'stream', 'itg', 'expected', 'enter', 'commercial', 'mid', 'investigated', 'opportunity', 'kaukomarkkinat', 'electronics', 'bg', 'appoints', 'early', 'coke', 'dividend', 'google', 'passive', 'income', 'goog', 'ko', 'http', 'qbsowjxost', 'subsidiary', 'setting', 'facility', 'manufacturing', 'density', 'interconnection', 'printed', 'circuit', 'pcbs', 'special', 'zone', 'sriperumbudur', 'near', 'chennai', 'r', 'loan', 'need', 'ready', 'window', 'open', 'rosberg', 'tonne', 'asphalt', 'mix', 'used', 'pa', 'jpmorgan', 'chase', 'nyse', 'jpm', 'pohjoa', 'lead', 'nordea', 'cheapest', 'couple', 'jussi', 'pesonen', 'member', 'renounce', 'seat', 'expanded', 'task', 'consequence', 'council', 'withdrawn', 'petition', 'suspend', 'reorganisation', 'started', 'putting', 'teliasonera', 'auction', 'bloc', 'go', 'provide', 'detailed', 'ten', 'leading', 'european', 'specialty', 'chemical', 'brief', 'player', 'expects', 'whole', 'previous', 'level', 'headquartered', 'sievi', 'nordic', 'uk', 'consisting', 'london', 'birmingham', 'manchester', 'hampden', 'july', 'wide', 'property', 'casualty', 'arm', 'industrial', 'innova', 'located', 'close', 'downtown', 'immediate', 'vicinity', 'paviljonki', 'travel', 'center', 'within', 'walking', 'heart', 'city', 'thanks', 'fair', 'bridge', 'shareholder', 'put', 'agenda', 'agm', 'item', 'competence', 'general', 'instead', 'proposed', 'state', 'lmt', 'lattelecom', 'due', 'fourth', 'earnings', 'feb', 'avc', 'systemhaus', 'offer', 'renewable', 'raw', 'material', 'make', 'available', 'following', 'analysis', 'cement', 'pakistan', 'malaysia', 'taiwan', 'philippine', 'give', 'overview', 'actual', 'future', 'outlook', 'industry', 'asian', 'country', 'serf', 'afx', 'outokumpu', 'agreed', 'hitura', 'nickel', 'mine', 'canadian', 'belvedere', 'worth', 'networking', 'location', 'trend', 'comprise', 'significant', 'internet', 'traffic', 'today', 'appealing', 'user', 'booked', 'remainder', 'subscription', 'affectogenimap', 'build', 'highly', 'customised', 'baltic', 'closing', 'transaction', 'scheduled', 'place', 'however', 'offering', 'probably', 'current', 'valuation', 'partly', 'derives', 'merged', 'shell', 'n', 'viro', 'operates', 'processing', 'independently', 'well', 'partnership', 'launch', 'tie', 'mobile', 'phone', 'cause', 'dramatic', 'rush', 'outlet', 'split', 'coming', 'essent', 'owning', 'enexis', 'grid', 'official', 'disclose', 'combined', 'pro', 'forma', 'marathon', 'estimate', 'protalix', 'incap', 'went', 'yield', 'guidance', 'u', 'flexibility', 'th', 'copyright', 'logo', 'trademark', 'limited', 'rb', 'reportedly', 'appoint', 'howard', 'davy', 'next', 'chairman', 'version', 'important', 'introduce', 'bim', 'process', 'information', 'model', 'plc', 'jarmo', 'salonen', 'head', 'relation', 'communication', 'tel', 'principal', 'supervisory', 'www', 'com', 'distributed', 'thomson', 'reuters', 'behalf', 'client', 'pharmaceutical', 'poland', 'research', 'data', 'published', 'recently', 'employer', 'together', 'health', 'personnel', 'support', 'quitting', 'pay', 'cost', 'nicotine', 'treatment', 'includes', 'ship', 'crane', 'container', 'feeder', 'wenchong', 'shipyard', 'china', 'join', 'technopolis', 'kone', 'various', 'position', 'director', 'middle', 'completion', 'late', 'february', 'supplier', 'aspocomp', 'perlos', 'announced', 'establish', 'invest', 'crore', 'cooperation', 'involve', 'arena', 'partner', 'buying', 'home', 'vehicle', 'advertising', 'marketplace', 'efore', 'saarijarvi', 'central', 'largest', 'region', 'rental', 'becoming', 'popular', 'device', 'multimedia', 'performance', 'along', 'host', 'productivity', 'including', 'live', 'utah', 'wanted', 'amer', 'sport', 'corp', 'ski', 'payable', 'record', 'wireless', 'broadband', 'provider', 'nok', 'forecast', 'siemens', 'network', 'fixed', 'infrastructure', 'poyry', 'additional', 'heikki', 'malinen', 'expert', 'consulting', 'amanda', 'private', 'equity', 'fund', 'unquoted', 'mainly', 'europe', 'jeder', 'beta', 'tester', 'erh', 'kostenlos', 'sechs', 'monate', 'lang', 'update', 'und', 'hat', 'laut', 'eigener', 'aussage', 'die', 'glichkeit', 'finale', 'zu', 'beeinflussen', 'addition', 'mids', 'always', 'online', 'enable', 'browsing', 'buyer', 'disclosed', 'agreement', 'benefon', 'forthcoming', 'twig', 'integrated', 'gps', 'navigation', 'use', 'jointly', 'developed', 'web', 'tracking', 'outstanding', 'included', 'backlog', 'lieksaare', 'regarded', 'saarelainen', 'individual', 'annual', 'branch', 'portfolio', 'comprises', 'leasable', 'vacancy', 'rate', 'roughly', 'let', 'around', 'tenant', 'ericsson', 'operative', 'remain', 'unchanged', 'corrected', 'entirety', 'different', 'ac', 'cxe', 'amplifier', 'dinh', 'telecom', 'acquired', 'teleste', 'spring', 'heating', 'form', 'hot', 'sawmill', 'ebrd', 'b', 'portion', 'syndicated', 'pohjola', 'stockholm', 'cybercom', 'tech', 'consultancy', 'sourcing', 'milan', 'italian', 'shipping', 'grimaldi', 'increased', 'finnlines', 'pct', 'agency', 'ansa', 'commenting', 'shane', 'lennon', 'svp', 'marketing', 'gypsii', 'intends', 'relocate', 'warehouse', 'loudeac', 'saint', 'marcel', 'morvillars', 'east', 'already', 'hook', 'vantaa', 'southern', 'westpac', 'banking', 'issue', 'benchmark', 'frn', 'category', 'channel', 'commence', 'entered', 'leed', 'internationally', 'recognized', 'green', 'certification', 'system', 'look', 'like', 'booking', 'way', 'ticket', 'week', 'losing', 'chart', 'ly', 'xbhb', 'exercise', 'safran', 'software', 'license', 'maintenance', 'result', 'far', 'indicate', 'capable', 'targeted', 'output', 'per', 'jun', 'boy', 'genius', 'newstex', 'huh', 'come', 'decision', 'preliminary', 'environmental', 'finding', 'karvinen', 'majority', 'owner', 'thailand', 'certain', 'belonging', 'circle', 'present', 'saha', 'pathana', 'inter', 'holding', 'base', 'acquisition', 'paid', 'cash', 'rest', 'ixonos', 'established', 'srv', 'concern', 'sustainability', 'lemiste', 'environment', 'knowledge', 'economy', 'providing', 'people', 'amounting', 'eek', 'lo', 'rnits', 'mainor', 'jacob', 'supporting', 'storengy', 'developing', 'storage', 'site', 'engineer', 'considering', 'strategic', 'struggling', 'low', 'divestment', 'forestry', 'upm', 'kymmene', 'waste', 'management', 'lassila', 'tikanoja', 'jan', 'produce', 'ethanol', 'ism', 'daily', 'cover', 'surface', 'installation', 'structure', 'know', 'sekm', 'reserved', 'operated', 'supported', 'netact', 'sainsbury', 'cfo', 'rogers', 'replace', 'walden', 'plx', 'bloomberg', 'simmons', 'elected', 'dcuc', 'portsmouth', 'h', 'gordon', 'credit', 'union', 'defense', 'czech', 'republic', 'detail', 'telephone', 'content', 'security', 'integration', 'informed', 'follow', 'berkshire', 'hathaway', 'apple', 'recorded', 'invested', 'non', 'restricted', 'tower', 'created', 'degree', 'westward', 'lean', 'inclination', 'leaning', 'pisa', 'diagrid', 'aligned', 'geometrically', 'tekla', 'modeling', 'salomon', 'adidas', 'job', 'cut', 'aimed', 'boosting', 'competitiveness', 'publishing', 'page', 'cargotec', 'world', 'glass', 'egypt', 'invite', 'visitor', 'attend', 'exhibition', 'glassworldex', 'dollar', 'ruble', 'exercising', 'inspects', 'strength', 'weakness', 'provided', 'lemminkainen', 'sector', 'civil', 'contracting', 'technical', 'implementation', 'subject', 'approval', 'competition', 'geosolutions', 'team', 'provides', 'intriguing', 'combining', 'c', 'expo', 'signature', 'show', 'dongguan', 'municipal', 'every', 'featuring', 'computer', 'accessory', 'trading', 'tomorrow', 'dual', 'fuel', 'engine', 'vessel', 'operate', 'emission', 'among', 'traded', 'lower', 'presentation', 'kai', 'telanne', 'tuomas', 'itkonen', 'participant', 'discus', 'change', 'described', 'installed', 'onboard', 'freighter', 'ordered', 'singaporean', 'masterbulk', 'divested', 'generates', 'consolidated', 'annually', 'asset', 'count', 'insurer', 'ilmarinen', 'varma', 'ver', 'corporate', 'tltv', 'wednesday', 'sto', 'nda', 'yesterday', 'hired', 'casper', 'von', 'koskull', 'merchant', 'effective', 'bluewin', 'recurring', 'caused', 'talentum', 'premedia', 'restructuring', 'chain', 'unite', 'thing', 'keep', 'existing', 'stainless', 'rose', 'sweden', 'gallerix', 'accumulated', 'sek', 'denominated', 'citycon', 'nominal', 'decided', 'cathode', 'copper', 'capacity', 'image', 'browser', 'server', 'converted', 'bitmapped', 'sent', 'handset', 'display', 'sanomawsoy', 'sanoma', 'international', 'became', 'gloriya', 'seller', 'founder', 'foodservice', 'served', 'frozen', 'food', 'synergy', 'metsaliitto', 'purchase', 'metsa', 'botnia', 'rockwell', 'collins', 'flight', 'deck', 'cabin', 'aircraft', 'yliopistonrinne', 'manty', 'worked', 'powder', 'coating', 'domino', 'pizza', 'asos', 'must', 'growth', 'alexandria', 'va', 'michael', 'williams', 'newbury', 'park', 'calif', 'complete', 'lcd', 'touch', 'screen', 'selection', 'chosen', 'pound', 'mark', 'k', 'le', 'coq', 'bicentenary', 'brewer', 'highway', 'wording', 'identity', 'document', 'id', 'approved', 'electronic', 'st', 'force', 'alone', 'savcor', 'face', 'cencorp', 'loss', 'yet', 'owing', 'factor', 'consideration', 'received', 'prevailing', 'invoice', 'requisition', 'adpnews', 'dec', 'norwegian', 'sparebank', 'gruppen', 'osl', 'sbgrp', 'appointed', 'jarle', 'haug', 'managing', 'claim', 'collection', 'finans', 'fiber', 'composite', 'segment', 'notification', 'ameriprice', 'represent', 'confirmed', 'issued', 'localisation', 'transfer', 'designated', 'bollore', 'africa', 'logistics', 'terminal', 'societe', 'exploitation', 'du', 'de', 'vridi', 'setv', 'abidjan', 'ivory', 'coast', 'hybrid', 'tv', 'component', 'delivering', 'video', 'creation', 'access', 'hfc', 'fibre', 'coaxial', 'xdsl', 'etth', 'ftth', 'eurm', 'novator', 'supposed', 'experience', 'serving', 'componenta', 'cthv', 'tuesday', 'opening', 'prague', 'celebrated', 'may', 'final', 'diligence', 'tiimari', 'core', 'friday', 'hornborg', 'organization', 'merely', 'criticised', 'raisio', 'weak', 'honkarakenne', 'raise', 'awareness', 'encourage', 'recycle', 'run', 'regular', 'recycling', 'campaign', 'merger', 'completed', 'summary', 'website', 'address', 'geov', 'developer', 'winning', 'availability', 'free', 'download', 'via', 'samsung', 'trying', 'slavery', 'perspective', 'balance', 'story', 'say', 'deramus', 'formerly', 'writer', 'detroit', 'divided', 'hull', 'ruukki', 'progressed', 'reason', 'petersburg', 'status', 'chikunov', 'saying', 'upon', 'proha', 'get', 'artemis', 'talvivaara', 'mining', 'hel', 'tlvv', 'thursday', 'picked', 'bofa', 'merrill', 'lynch', 'bookrunners', 'convertible', 'usdm', 'panostaja', 'tampere', 'focusing', 'small', 'sized', 'traditional', 'corresponding', 'capman', 'jukka', 'ruuska', 'later', 'arrangement', 'responsibility', 'become', 'regional', 'study', 'evaluated', 'safety', 'tolerability', 'pharmacokinetics', 'repeated', 'dos', 'intravenously', 'administered', 'antibody', 'patient', 'active', 'plaque', 'psoriasis', 'registration', 'basware', 'move', 'foot', 'withdrawing', 'december', 'named', 'henry', 'gilchrist', 'sponda', 'renovate', 'estate', 'develop', 'merisatama', 'corner', 'asfaltti', 'osakeyhti', 'lemmink', 'inen', 'master', 'builder', 'subcontractor', 'cad', 'receive', 'interest', 'beef', 'import', 'fell', 'slightly', 'kilo', 'serve', 'broad', 'household', 'fortum', 'electricity', 'without', 'carbon', 'dioxide', 'lem', 'construct', 'toolonlahti', 'disclosing', 'whitehall', 'street', 'principally', 'mortgage', 'worldwide', 'exit', 'publishes', 'newspaper', 'across', 'negotiated', 'amendment', 'covenant', 'regard', 'paychex', 'payroll', 'nationwide', 'neomarkka', 'nembv', 'furlough', 'reka', 'cable', 'filmiteollisuus', 'olli', 'pekka', 'laine', 'erkki', 'pehu', 'lehtonen', 'affecto', 'participated', 'euronext', 'fully', 'owned', 'north', 'america', 'llc', 'sna', 'norway', 'danske', 'denmark', 'american', 'giving', 'cap', 'interesting', 'export', 'scandinavia', 'publ', 'chilled', 'meat', 'poultry', 'cumulative', 'review', 'aldata', 'optimization', 'vision', 'apollo', 'association', 'unveil', 'combine', 'intelligence', 'lehdentekijat', 'latvia', 'lithuania', 'smartphone', 'running', 'maemo', 'replaced', 'meego', 'intel', 'source', 'community', 'locally', 'cornerstone', 'focus', 'reduction', 'implemented', 'margin', 'zanadvorov', 'given', 'chance', 'deutsche', 'answer', 'question', 'many', 'conversation', 'big', 'problem', 'intercontinental', 'hotel', 'denies', 'starwood', 'talk', 'modem', 'renesas', 'awarded', 'expenditure', 'justified', 'pas', 'budget', 'hurdle', 'believe', 'rop', 'help', 'easier', 'practitioner', 'case', 'acquiring', 'enabling', 'invention', 'released', 'pressurized', 'mill', 'wood', 'outotec', 'metallurgical', 'basic', 'assurance', 'winner', 'win', 'kausta', 'guder', 'reach', 'rinkuskiai', 'beer', 'cent', 'litre', 'kauno', 'alus', 'jumped', 'drive', 'protect', 'barclays', 'recommend', 'f', 'halonen', 'acknowledged', 'receiving', 'letter', 'declined', 'comment', 'boomeranger', 'boat', 'specialises', 'rigid', 'inflatable', 'rib', 'primarily', 'sea', 'renovation', 'check', 'deka', 'showroom', 'fortitude', 'known', 'pulkovo', 'entirely', 'concept', 'creating', 'growing', 'commercially', 'funded', 'science', 'intensive', 'maintains', 'jp', 'morgan', 'pt', 'extracted', 'filtrate', 'clarity', 'dried', 'filter', 'cake', 'meet', 'required', 'transport', 'moisture', 'limit', 'tmls', 'grade', 'book', 'deployment', 'danish', 'continues', 'population', 'cramo', 'specialising', 'machinery', 'modular', 'bangalore', 'avista', 'advisory', 'mumbai', 'united', 'assigned', 'germany', 'caverion', 'gmbh', 'yit', 'size', 'type', 'earn', 'payment', 'intellibis', 'showed', 'streamlining', 'dinner', 'viewed', 'audio', 'webcast', 'founded', 'quatrocon', 'clientele', 'inspected', 'damage', 'permission', 'continue', 'tallinn', 'sten', 'carrying', 'ton', 'oil', 'manned', 'filipino', 'crew', 'odell', 'contacted', 'bring', 'mw', 'estimation', 'meter', 'spend', 'proceeds', 'strengthening', 'sheet', 'selling', 'consortium', 'managed', 'oko', 'bio', 'divests', 'rumilly', 'france', 'finance', 'repayment', 'repurchase', 'deriving', 'uruguay', 'pohjolan', 'voima', 'utilising', 'financing', 'offered', 'marimekko', 'sort', 'colorful', 'little', 'impulse', 'umbrella', 'baby', 'bib', 'purse', 'better', 'advantage', 'shopper', 'ca', 'commit', 'furniture', 'want', 'piece', 'action', 'basis', 'point', 'swap', 'drug', 'distributor', 'wholesaler', 'oriola', 'kd', 'anne', 'kariniemi', 'turnkey', 'roro', 'cruise', 'viking', 'tallink', 'advertisement', 'skier', 'helmet', 'scanfil', 'jorma', 'j', 'takanen', 'abroad', 'element', 'conversion', 'file', 'updated', 'adding', 'converting', 'message', 'format', 'understood', 'noora', 'niiininoski', 'explains', 'fit', 'timeless', 'style', 'ntsb', 'investigator', 'conduct', 'sight', 'test', 'train', 'similar', 'involved', 'accident', 'scope', 'proprietary', 'sinter', 'grate', 'effect', 'simultaneously', 'extended', 'legal', 'student', 'universiti', 'sains', 'expand', 'refurbish', 'kersberga', 'shopping', 'participating', 'allotted', 'cant', 'understand', 'theyre', 'impressive', 'watch', 'hit', 'ball', 'speed', 'examining', 'benefit', 'transferring', 'governed', 'law', 'motorola', 'came', 'shipment', 'followed', 'south', 'korea', 'minimum', 'organized', 'treating', 'pilanesberg', 'platinum', 'tyrv', 'ssh', 'main', 'authentication', 'signing', 'branded', 'tectia', 'mobileid', 'e', 'mail', 'ssl', 'vpn', 'sharepoint', 'examines', 'medical', 'history', 'enterprise', 'fray', 'bentos', 'pulp', 'forestal', 'oriental', 'billion', 'companiesandmarkets', 'allocated', 'money', 'inventory', 'versatile', 'valkama', 'newly', 'cps', 'plastic', 'marketsbp', 'promotes', 'upstream', 'bos', 'deputy', 'loudeye', 'digital', 'music', 'transportation', 'megawatt', 'wind', 'farm', 'raahe', 'offshore', 'front', 'expansion', 'finalized', 'autumn', 'konecranes', 'fantuzzi', 'manufacturer', 'gantry', 'stacker', 'ya', 'ulitsa', 'yamskogo', 'polya', 'ext', 'unimilk', 'egm', 'xvi', 'summit', 'evraz', 'lanebrook', 'beneficiary', 'millhouse', 'billionaire', 'roman', 'abramovich', 'executive', 'alexander', 'abramov', 'frolov', 'eriikka', 'derstr', 'previously', 'acting', 'controller', 'pricing', 'interconnected', 'mega', 'length', 'height', 'kesko', 'belarus', 'turkish', 'doktas', 'making', 'turkey', 'ecb', 'inflation', 'initiate', 'minority', 'ragutis', 'sole', 'incorporates', 'convergent', 'charging', 'voice', 'gprs', 'sm', 'mm', 'wap', 'particular', 'remains', 'strong', 'ongoing', 'vashi', 'insteel', 'pvt', 'iivrcl', 'cidco', 'zloty', 'electrical', 'kw', 'powered', 'generating', 'virent', 'catalytic', 'biofuels', 'defined', 'strategy', 'secured', 'addus', 'care', 'assistance', 'living', 'skilled', 'nursing', 'rehabilitative', 'therapy', 'adult', 'aviation', 'temporarily', 'reopen', 'airport', 'monday', 'reporting', 'meanwhile', 'expecting', 'retain', 'niklas', 'skogster', 'employed', 'abb', 'concerning', 'gmo', 'soy', 'twelve', 'ending', 'nation', 'box', 'discount', 'retailer', 'midnighttrader', 'realtime', 'delayed', 'derogating', 'pre', 'emptive', 'comprising', 'holder', 'professional', 'tielinja', 'karachi', 'sept', 'leader', 'handheld', 'implementing', 'interface', 'atom', 'processor', 'zxx', 'smartphones', 'despite', 'tesco', 'caution', 'recovery', 'bumpy', 'hardware', 'licence', 'spokesman', 'could', 'supermarket', 'smaller', 'niche', 'firmed', 'consultation', 'regarding', 'us', 'occupier', 'bond', 'maturity', 'millercoors', 'gavin', 'hattersley', 'airbus', 'attempt', 'evacuate', 'interested', 'nonwovens', 'asahi', 'kasei', 'buckeye', 'ei', 'least', 'correspond', 'participate', 'tender', 'privatization', 'goal', 'profitability', 'einvoices', 'parent', 'fiscal', 'kemira', 'nordalu', 'producing', 'liquid', 'solid', 'chartered', 'accountant', 'british', 'columbia', 'alberta', 'certified', 'washington', 'flow', 'exel', 'mantyharju', 'casing', 'side', 'vat', 'pivotable', 'rotation', 'axis', 'treasury', 'metal', 'producer', 'primary', 'zinc', 'bioheapleaching', 'extract', 'specifically', 'designed', 'ict', 'mind', 'seppo', 'parvi', 'prior', 'kotikokki', 'likely', 'either', 'differ', 'mainstream', 'noav', 'august', 'choose', 'giant', 'countdown', 'red', 'rainbow', 'trout', 'shad', 'rap', 'perch', 'color', 'novotel', 'tvo', 'olkiluoto', 'twh', 'ratio', 'reactor', 'standard', 'wore', 'black', 'beanie', 'jacket', 'inspires', 'life', 'potential', 'acquirer', 'entity', 'sav', 'cba', 'persistently', 'predefined', 'schedule', 'philip', 'laying', 'stone', 'pavement', 'underground', 'drainage', 'terminator', 'lure', 'subcontract', 'mexico', 'rapala', 'factory', 'shenzhen', 'changing', 'geosentric', 'rival', 'beverage', 'saku', 'attention', 'efficiency', 'requirement', 'class', 'applied', 'orange', 'scissors', 'iconic', 'symbol', 'excellent', 'ergonomic', 'superior', 'apply', 'outside', 'tieto', 'send', 'absentee', 'commission', 'found', 'evidence', 'cartel', 'brussels', 'restaurant', 'discussed', 'corrensponds', 'okmetic', 'paint', 'tikv', 'solidium', 'runway', 'visual', 'assessment', 'pilot', 'see', 'abn', 'amro', 'designer', 'homeware', 'iittala', 'crosstown', 'feed', 'rehu', 'tecnomen', 'prepaid', 'post', 'billing', 'eps', 'platform', 'framework', 'symbian', 'specified', 'pankki', 'suomi', 'forward', 'chief', 'officer', 'hautaniemi', 'vaahto', 'coated', 'steek', 'bordeaux', 'southwestern', 'eijkens', 'publisher', 'much', 'publish', 'colourful', 'individualising', 'wafer', 'okmv', 'sensor', 'assignment', 'possession', 'tenth', 'pine', 'upgrade', 'kymi', 'inbev', 'sabmiller', 'snow', 'marubeni', 'downstream', 'encompassing', 'variety', 'field', 'mineral', 'others', 'expertise', 'play', 'role', 'uruguayan', 'bovine', 'slaughtering', 'cutting', 'kuopio', 'kauhajoki', 'slaughterhouse', 'japan', 'pursuit', 'permanent', 'improvement', 'whilst', 'adjusting', 'extra', 'issuing', 'intended', 'cooperative', 'continued', 'prothious', 'large', 'detailing', 'warrant', 'scheme', 'schwalm', 'eila', 'paatela', 'trainer', 'house', 'attributed', 'oxyview', 'pulse', 'oximeter', 'common', 'blood', 'oxygen', 'saturation', 'litas', 'owns', 'paulig', 'oscar', 'puljonki', 'alandsbanken', 'iceland', 'troubled', 'kronor', 'employing', 'rise', 'remodeled', 'cannon', 'station', 'original', 'enables', 'html', 'en', 'enhanced', 'language', 'takeover', 'launched', 'personally', 'almaty', 'kazakhstan', 'decorative', 'teks', 'link', 'flexiblebaseloadoperation', 'thewartsilagenerating', 'gasconversions', 'shorter', 'bylander', 'johan', 'ponten', 'fredrik', 'lundberg', 'jorgen', 'mukkavilli', 'krishna', 'kiran', 'sabharwal', 'ashutosh', 'aazhang', 'behnaam', 'elektrobit', 'asia', 'return', 'stuttgart', 'morning', 'evening', 'departure', 'sunday', 'bunge', 'keiju', 'makuisa', 'pyszny', 'duet', 'whether', 'agrees', 'estonian', 'salcomp', 'allure', 'identical', 'sister', 'oasis', 'territory', 'ramirent', 'countryelements', 'patricia', 'burt', 'distinctive', 'hooked', 'rug', 'recycled', 'dyed', 'dye', 'stage', 'working', 'telecommunication', 'packaging', 'hear', 'insight', 'sunk', 'depth', 'bottom', 'mud', 'vacuum', 'berling', 'umo', 'veikko', 'biggest', 'ultrascan', 'cracker', 'able', 'password', 'text', 'beginning', 'lifecycle', 'calcination', 'fluid', 'bed', 'calciners', 'raute', 'yearly', 'remuneration', 'shall', 'aker', 'yard', 'begin', 'chinese', 'magnetite', 'deposit', 'karara', 'metric', 'smith', 'confirms', 'appointment', 'consolidation', 'kapuli', 'district', 'mantsala', 'beside', 'hanko', 'porvoo', 'road', 'direct', 'lahti', 'jarvenpaa', 'grew', 'proline', 'plus', 'adjustable', 'single', 'multichannel', 'micro', 'ml', 'outcome', 'vaisala', 'propose', 'body', 'fall', 'bochum', 'ulm', 'dusseldorf', 'munich', 'frankfurt', 'em', 'mandatory', 'casting', 'dokumculuk', 'plywood', 'lesprom', 'manufactured', 'workshop', 'hollola', 'aforementioned', 'besides', 'lassi', 'noponen', 'tex', 'organic', 'otherwise', 'olvi', 'retained', 'altogether', 'mildly', 'elevated', 'cholesterol', 'intervention', 'still', 'max', 'comptel', 'sami', 'ervio', 'dynamic', 'os', 'flexibly', 'charge', 'effectively', 'absolut', 'exploring', 'possibility', 'borrowing', 'kara', 'raiguel', 'hilton', 'kalinisky', 'prospect', 'difficulty', 'carry', 'grapevine', 'lot', 'weight', 'continuous', 'alloy', 'ferro', 'chrome', 'molybdenum', 'manganese', 'rautakesko', 'figure', 'comparable', 'impacting', 'longer', 'needed', 'bm', 'layer', 'headbox', 'equipped', 'dilution', 'genuine', 'wooden', 'sponsoring', 'crosscountry', 'virpi', 'kuitunen', 'bearing', 'vendor', 'ebitda', 'compatible', 'talo', 'suominen', 'wipe', 'flexible', 'warsaw', 'excerpt', 'article', 'citing', 'internal', 'polish', 'brazil', 'chile', 'argentina', 'adoption', 'ethernet', 'adopter', 'carrier', 'backhaul', 'infra', 'netcom', 'turbo', 'rvi', 'portti', 'reduce', 'sodium', 'nitrite', 'foreign', 'feature', 'bar', 'quick', 'favorite', 'photo', 'youtube', 'ovi', 'log', 'karelia', 'christmas', 'satin', 'bow', 'shift', 'dress', 'styled', 'outfit', 'worn', 'victoria', 'beckham', 'paris', 'prom', 'unaudited', 'ifrs', 'rad', 'flashing', 'oversold', 'valued', 'qpr', 'qprv', 'third', 'eet', 'rme', 'telcontar', 'calculate', 'best', 'route', 'navigability', 'multi', 'modal', 'routing', 'ferry', 'switchboard', 'directory', 'significantly', 'contact', 'colleague', 'directly', 'insurance', 'policy', 'simple', 'capcom', 'resident', 'evil', 'degeneration', 'gage', 'indicated', 'domestic', 'janno', 'reiljan', 'eesti', 'energia', 'narva', 'wish', 'mg', 'kg', 'generally', 'tolerated', 'pharmacokinetic', 'characteristic', 'btt', 'consistent', 'observed', 'rheumatoid', 'arthritis', 'ra', 'honka', 'marko', 'oneworld', 'alliance', 'airline', 'airway', 'pirila', 'volatility', 'squeeze', 'aapl', 'hope', 'resolved', 'upside', 'delist', 'rhine', 'westphalia', 'seen', 'malware', 'attack', 'donation', 'granted', 'aalto', 'university', 'turku', 'jyv', 'skyl', 'oulu', 'vaasa', 'polytechnic', 'neste', 'utility', 'shed', 'list', 'fallen', 'completely', 'hayward', 'casual', 'footwear', 'boot', 'sandal', 'land', 'family', 'microsoft', 'preferably', 'transmission', 'appliance', 'module', 'achieve', 'technically', 'advanced', 'improve', 'pledged', 'render', 'appear', 'desktop', 'slovakia', 'statistic', 'imported', 'niam', 'turn', 'code', 'eliv', 'gratuitous', 'elisa', 'tgk', 'view', 'daxtum', 'continuing', 'diversify', 'india', 'mnc', 'sought', 'topic', 'spark', 'approach', 'creativity', 'emerging', 'autotank', 'commissioned', 'reception', 'blocking', 'northwestern', 'reisholz', 'djsi', 'stoxx', 'controlling', 'apiece', 'validation', 'rule', 'verifying', 'administrator', 'fulfil', 'evli', 'epi', 'extraordinary', 'rautalinko', 'resposnible', 'mobility', 'marek', 'hintze', 'method', 'smelt', 'spout', 'separated', 'shielding', 'wall', 'arranged', 'movable', 'numerous', 'panies', 'boardman', 'lasse', 'kurkilahti', 'structural', 'expense', 'distributes', 'hiab', 'fcc', 'kevin', 'martin', 'extending', 'deregulatory', 'subscriber', 'tap', 'pocketable', 'netbooks', 'tablet', 'mediaphones', 'connected', 'infotainment', 'satama', 'independent', 'otto', 'henrik', 'bernhard', 'nyberg', 'please', 'maija', 'liisa', 'friman', 'marked', 'relatively', 'caput', 'consumption', 'distinctly', 'scale', 'legrand', 'maturing', 'course', 'fun', 'downloading', 'clarify', 'gray', 'motlanthe', 'leasing', 'liising', 'ended', 'argentine', 'agricultural', 'calafate', 'tapped', 'compatriot', 'finnegans', 'latter', 'jvc', 'stop', 'dvd', 'amzn', 'upper', 'break', 'direction', 'roshan', 'procurement', 'sum', 'applicable', 'pleased', 'thebault', 'plyland', 'ucell', 'nd', 'empresa', 'desarrollo', 'urbano', 'quito', 'innovar', 'uio', 'ecuador', 'prepare', 'feasibility', 'urban', 'rapid', 'mass', 'transit', 'rsa', 'going', 'archived', 'cerner', 'copying', 'republication', 'redistribution', 'framing', 'mean', 'expressly', 'prohibited', 'written', 'consent', 'biotherapeutics', 'amex', 'prospectus', 'eletric', 'ev', 'tunnel', 'request', 'jari', 'kaivo', 'oja', 'school', 'economics', 'drawn', 'scenario', 'national', 'denver', 'provisional', 'retailed', 'finished', 'iphone', 'wo', 'game', 'verizon', 'ivan', 'seidenberg', 'separation', 'filtration', 'pipeline', 'saudi', 'arabia', 'represented', 'blond', 'unlike', 'notably', 'scandinavian', 'vibe', 'impact', 'warmly', 'reijo', 'maihaniemi', 'respective', 'zte', 'glaston', 'reflects', 'truly', 'kyro', 'seitovirta', 'profiling', 'ostrava', 'relocated', 'bigger', 'hungary', 'romania', 'ft', 'aspect', 'initiative', 'resulting', 'taxpayer', 'wait', 'filed', 'tietoenator', 'alise', 'card', 'outsourcing', 'uponor', 'latin', 'account', 'tecnotree', 'mertano', 'told', 'bnamericas', 'manage', 'votorantim', 'celulose', 'papel', 'vcp', 'brazilian', 'conglomerate', 'mt', 'biodiesel', 'singapore', 'margarine', 'follows', 'bioethanol', 'lkab', 'lulea', 'upgraded', 'info', 'event', 'veneer', 'dimension', 'iterating', 'peeling', 'ax', 'simulating', 'ukraine', 'bakery', 'formed', 'merging', 'reader', 'remained', 'yvonne', 'jones', 'chameleon', 'interior', 'downloadable', 'instruction', 'instructional', 'idea', 'everywhere', 'punch', 'q', 'intertek', 'testing', 'inspection', 'natlabs', 'etteplan', 'winded', 'roving', 'kuzaj', 'sanna', 'paivaniemi', 'dedicated', 'balanced', 'biohit', 'incorporate', 'diagnostics', 'virala', 'air', 'liquide', 'exempted', 'left', 'associate', 'wholly', 'indital', 'fork', 'lift', 'truck', 'undisclosed', 'cabot', 'slovak', 'tire', 'barum', 'continental', 'matador', 'cameco', 'typically', 'spot', 'throughout', 'cycle', 'utilise', 'huge', 'reserve', 'done', 'calendar', 'broke', 'descending', 'moscow', 'objective', 'tsla', 'x', 'recall', 'excuse', 'guide', 'spin', 'indian', 'salo', 'hong', 'kong', 'meadville', 'subscribe', 'janis', 'arbidans', 'celtnieciba', 'housing', 'auditor', 'reimbursed', 'kalmar', 'espana', 'oct', 'aaron', 'moss', 'hampshire', 'britain', 'ornamental', 'parliament', 'grant', 'nuclear', 'enp', 'newswire', 'establishes', 'george', 'adam', 'dairy', 'edible', 'fat', 'ice', 'cream', 'multinational', 'phosphorous', 'removal', 'storing', 'dosing', 'patch', 'compared', 'ftse', 'index', 'relative', 'krakeroy', 'bascule', 'pile', 'foundation', 'alnv', 'recruitment', 'monster', 'lehtiyhtyma', 'listing', 'convenience', 'textile', 'shoe', 'mcdonald', 'solo', 'career', 'doobie', 'brother', 'song', 'met', 'mixed', 'sarantel', 'wellingborough', 'antenna', 'portable', 'agn', 'pypl', 'pressure', 'bullish', 'xgwnont', 'nederland', 'bv', 'cnl', 'dutch', 'jaston', 'groep', 'port', 'throughput', 'teus', 'cargo', 'frame', 'load', 'roof', 'partition', 'inculding', 'television', 'imaging', 'rt', 'arna', 'enough', 'driving', 'fly', 'secondary', 'signal', 'radar', 'calibrate', 'broker', 'sappi', 'equal', 'holmen', 'norske', 'skog', 'underweight', 'controlled', 'op', 'eq', 'spanning', 'strait', 'risk', 'exposure', 'moving', 'excluding', 'rendered', 'allocation', 'eukor', 'car', 'roll', 'wallhamn', 'destia', 'maintaining', 'designing', 'pertti', 'salmi', 'hanna', 'vuolteenaho', 'viitasaari', 'grow', 'generation', 'chs', 'freight', 'culture', 'taken', 'velta', 'former', 'supplying', 'particularly', 'require', 'hour', 'copy', 'customized', 'custom', 'watermark', 'temporary', 'pellet', 'kiruna', 'northern', 'bs', 'precision', 'tube', 'automotive', 'carl', 'froh', 'german', 'arques', 'voluntary', 'promoting', 'sustainable', 'salt', 'plccompany', 'pursuant', 'contains', 'hallberg', 'ivarsson', 'macgregor', 'gothenburg', 'cross', 'alpine', 'pole', 'floorball', 'stick', 'radome', 'unilever', 'turun', 'sinappi', 'goodwill', 'affect', 'executed', 'vianor', 'patrick', 'jeambar', 'innovation', 'hsea', 'strand', 'mechanical', 'wisconsin', 'alabama', 'illinois', 'indiana', 'kentucky', 'ohio', 'purpose', 'possible', 'pkc', 'focused', 'bps', 'bnpp', 'ubs', 'top', 'efi', 'behavioural', 'scoring', 'migration', 'legacy', 'url', 'choice', 'wrote', 'rik', 'ferguson', 'expire', 'theft', 'protection', 'positioning', 'ncc', 'implement', 'krona', 'commissioner', 'kurt', 'svensson', 'alternative', 'geographical', 'federation', 'diversified', 'tape', 'telpak', 'printing', 'serial', 'refinance', 'landed', 'offs', 'frequency', 'metropolitan', 'pattern', 'koduextra', 'ky', 'rukax', 'scan', 'tukka', 'uranium', 'naturally', 'occurring', 'sense', 'party', 'globally', 'fulfillment', 'clothing', 'timetable', 'negotiating', 'lease', 'charting', 'cablevision', 'cvc', 'madison', 'garden', 'york', 'knickerbockers', 'basketball', 'ranger', 'hockey', 'liberty', 'woman', 'hartford', 'wolf', 'pack', 'input', 'vegetable', 'animal', 'eseries', 'promise', 'email', 'stylised', 'package', 'dave', 'grannan', 'flagship', 'boomerang', 'andalusia', 'competitor', 'demerger', 'niemi', 'invitation', 'annulled', 'necessary', 'strengthen', 'succeeds', 'walter', 'nter', 'bavaria', 'industriekapital', 'ag', 'barley', 'functionality', 'layoff', 'lifted', 'veil', 'stereotyping', 'art', 'entertainment', 'determining', 'fitness', 'workout', 'pleasurable', 'chore', 'brian', 'wilson', 'precor', 'dissolve', 'zao', 'scandic', 'northwest', 'rmrv', 'stavebni', 'doprava', 'mechanizace', 'sdm', 'governance', 'committee', 'brokerage', 'automated', 'handling', 'larger', 'pipette', 'revised', 'gulf', 'laboratory', 'disposable', 'tip', 'institution', 'hospital', 'directed', 'tailor', 'bench', 'litter', 'receptacle', 'toilet', 'bus', 'shelter', 'charger', 'tamil', 'nadu', 'summer', 'originally', 'fl', 'manages', 'icelandair', 'bluebird', 'sterling', 'corresponds', 'biomass', 'sourced', 'peat', 'aleksandri', 'intent', 'fact', 'tank', 'antwerp', 'belgium', 'super', 'calendered', 'recovered', 'wgo', 'bod', 'reject', 'mismanagement', 'anything', 'risto', 'jalo', 'dormus', 'meur', 'copenhagen', 'mezzanine', 'wayne', 'greensmith', 'something', 'back', 'uncertainty', 'exist', 'alfred', 'palmberg', 'finishing', 'ever', 'plumbing', 'bathroom', 'refurbishment', 'vuosaari', 'twenty', 'prepares', 'proposal', 'noted', 'weather', 'detector', 'visibility', 'km', 'precipitation', 'intensity', 'mature', 'shareholding', 'exceed', 'fifth', 'unicom', 'chu', 'hkse', 'shse', 'nav', 'everyday', 'flooring', 'label', 'residential', 'highrises', 'virsuliskes', 'modern', 'sizing', 'erection', 'supervision', 'training', 'edgar', 'edmonds', 'christian', 'fischer', 'austrian', 'winter', 'poaches', 'paul', 'compton', 'barleycorn', 'rugv', 'concluded', 'separately', 'might', 'partial', 'ovako', 'create', 'behind', 'ntt', 'solteq', 'repurchased', 'cbd', 'bangkok', 'straddle', 'vary', 'volkswagen', 'audi', 'issuance', 'notice', 'kroon', 'revealed', 'minister', 'asks', 'entitled', 'fee', 'room', 'modify', 'lettable', 'plot', 'ratasmaki', 'purchased', 'forssa', 'interaction', 'intuitive', 'movie', 'immersive', 'realistic', 'graphic', 'merges', 'express', 'neither', 'genetically', 'engineered', 'moment', 'kirsi', 'rantanen', 'hk', 'ruokatalo', 'tom', 'successful', 'rally', 'authorized', 'consulate', 'worker', 'spoke', 'took', 'concerned', 'stood', 'eua', 'eu', 'allowance', 'underlying', 'approx', 'par', 'john', 'deere', 'documentation', 'dokumentori', 'contractor', 'measuring', 'driver', 'organisational', 'quarterly', 'biotie', 'licensing', 'somaxon', 'iii', 'clinical', 'suffering', 'pathological', 'gambling', 'addiction', 'smoking', 'cessation', 'cv', 'viewing', 'onwards', 'ir', 'platen', 'edge', 'band', 'seal', 'protrusion', 'towards', 'exert', 'maintain', 'village', 'scott', 'tallon', 'walker', 'premise', 'kolorit', 'constitute', 'cold', 'canada', 'australia', 'selected', 'yaroslavl', 'dwa', 'skeptical', 'cheer', 'mmov', 'pit', 'produkt', 'podcast', 'harple', 'someone', 'demographic', 'contextual', 'separating', 'hameenlinna', 'thousand', 'sab', 'seek', 'moved', 'texas', 'gardening', 'especially', 'martela', 'runner', 'innovative', 'establishment', 'rfid', 'radio', 'identification', 'called', 'intelligent', 'whereby', 'read', 'saved', 'remotely', 'nielsen', 'fired', 'combination', 'spruce', 'bark', 'chipped', 'logging', 'residue', 'milled', 'samas', 'pohs', 'svenska', 'handelsbanken', 'shb', 'entitles', 'totalled', 'eqt', 'nordstjernan', 'ipo', 'altimo', 'alfa', 'evidentiary', 'hearing', 'investigation', 'retirement', 'rio', 'tinto', 'equilibrium', 'replay', 'caller', 'stena', 'poseidon', 'panamax', 'tanker', 'narrow', 'passage', 'panama', 'canal', 'multistorey', 'carpark', 'planmill', 'depositor', 'preference', 'rank', 'consolidating', 'depot', 'uniontown', 'pennsylvania', 'louis', 'missouri', 'durham', 'carolina', 'emergency', 'closure', 'steady', 'weigh', 'currency', 'relocation', 'ragot', 'waterqueen', 'tortue', 'vmc', 'worm', 'activate', 'corrupt', 'companieslse', 'add', 'ex', 'sec', 'schapiro', 'stretch', 'vladivostok', 'targeting', 'agent', 'tour', 'cncv', 'guess', 'pushed', 'maybe', 'crazy', 'feel', 'leaked', 'maggie', 'ramsey', 'oregon', 'angler', 'flock', 'frequent', 'seminar', 'nearly', 'indication', 'handoff', 'comprehensive', 'slitting', 'allow', 'example', 'respecta', 'samuel', 'koivisto', 'compagnie', 'financement', 'foncier', 'covered', 'develops', 'measurement', 'meteorology', 'obligated', 'isk', 'vote', 'peigs', 'sardus', 'latta', 'maltider', 'heikkil', 'refreshment', 'soon', 'reiterates', 'interrupted', 'refiner', 'discussion', 'harold', 'w', 'young', 'closely', 'ahold', 'basket', 'bj', 'wholesale', 'club', 'hannaford', 'cumberland', 'raised', 'popularity', 'vostok', 'mosenergosbytbody', 'rts', 'mssb', 'altaienergosbyt', 'saratovenergo', 'sare', 'tambov', 'tasb', 'ofbodywhich', 'germanwings', 'disaster', 'easyjet', 'bp', 'disclosure', 'climate', 'ascs', 'qt', 'earned', 'lat', 'announces', 'outlining', 'meggitt', 'tough', 'opk', 'represents', 'kel', 'demanding', 'lightning', 'extensive', 'sanofi', 'astrazeneca', 'scientist', 'essential', 'pntz', 'pervorouralsky', 'placed', 'gama', 'endustri', 'tesisleri', 'imalat', 'montaj', 'ago', 'teva', 'phillip', 'frost', 'tase', 'mara', 'approve', 'koistinen', 'interference', 'noise', 'advised', 'away', 'rabbit', 'formadehyde', 'dispose', 'auto', 'adequacy', 'basel', 'kept', 'depository', 'purchasing', 'outright', 'generate', 'additionally', 'automate', 'preparation', 'constructor', 'shock', 'excellence', 'oldest', 'historic', 'pensionable', 'salary', 'organise', 'mo', 'rana', 'suyv', 'nov', 'aho', 'elimaki', 'apparatus', 'conjunction', 'handled', 'museum', 'philadelphia', 'zapadnye', 'vorota', 'tulikivi', 'klo', 'vaalipalvelu', 'intellectual', 'relates', 'hydrocarbon', 'suitable', 'jet', 'blending', 'consist', 'panel', 'weatherdeck', 'hatch', 'ranging', 'fast', 'propertos', 'den', 'bosch', 'tomtom', 'cayman', 'island', 'garmin', 'overall', 'kostroma', 'lumberman', 'timber', 'exporter', 'neya', 'disclaims', 'liability', 'although', 'dealer', 'rugby', 'lutterworth', 'adjust', 'steve', 'jackson', 'ebusiness', 'aboavista', 'mold', 'analytics', 'belgian', 'heat', 'spread', 'eronen', 'forwarded', 'unknown', 'logged', 'vacon', 'chambersburg', 'san', 'francisco', 'marketwatch', 'cell', 'la', 'vega', 'thin', 'folding', 'kuitu', 'cellulose', 'valeant', 'pearson', 'hospitalized', 'pentik', 'emphasis', 'forever', 'dopplr', 'privately', 'highlight', 'stay', 'eat', 'explore', 'issuer', 'solely', 'stichting', 'pensioenfonds', 'abp', 'bawag', 'vuokatti', 'prototype', 'ramp', 'coherent', 'search', 'matrix', 'correlation', 'reiterated', 'comparative', 'considered', 'mentioned', 'recognize', 'browse', 'select', 'prefer', 'activating', 'connectivity', 'outsourced', 'capture', 'proposes', 'pipettors', 'ce', 'ivd', 'warranty', 'blyk', 'launching', 'consultant', 'town', 'borl', 'nge', 'relinquishing', 'competitive', 'lappeenranta', 'preparing', 'mwe', 'kroksberg', 'railway', 'track', 'harnosand', 'veda', 'forming', 'bothnia', 'jarvinen', 'rautakirja', 'leave', 'speciality', 'zip', 'warned', 'picture', 'blog', 'surcharge', 'hankkija', 'maatalous', 'earliest', 'unc', 'charlotte', 'deploy', 'connector', 'surfing', 'appears', 'pick', 'romanian', 'lei', 'radiation', 'delhi', 'korteniemi', 'anneli', 'helokunnas', 'tuija', 'peltola', 'marjo', 'keskinen', 'salminen', 'tusa', 'kia', 'janhonen', 'koff', 'karhu', 'pge', 'belchatow', 'gw', 'coal', 'intention', 'cc', 'demonstration', 'teollisuuden', 'meri', 'pori', 'decide', 'netherlands', 'eight', 'empty', 'handler', 'normal', 'switzerland', 'hard', 'thermal', 'spraying', 'undertaking', 'lookout', 'volunteer', 'helping', 'restoration', 'bulletin', 'extends', 'ponsse', 'divide', 'even', 'bit', 'higher', 'yara', 'shortlisted', 'mitsubishi', 'heavy', 'apwr', 'areva', 'toshiba', 'ge', 'hitachi', 'hydro', 'eligible', 'rakvere', 'concentrated', 'packing', 'fleet', 'nine', 'pusher', 'barge', 'complemented', 'instrument', 'financed', 'jon', 'risfelt', 'europolitan', 'sa', 'nyman', 'schultz', 'vodafone', 'gambro', 'renal', 'involves', 'refurbishing', 'sewer', 'pipe', 'duration', 'fabric', 'retaining', 'soapstone', 'ceramic', 'fireplace', 'digicel', 'distribute', 'tent', 'haiti', 'maarten', 'boute', 'elect', 'hannu', 'krogerus', 'unrivalled', 'twtr', 'doomed', 'fb', 'mpylireqjh', 'nlczawdohp', 'vehvilainen', 'finnair', 'canned', 'preserved', 'shape', 'saving', 'kontturi', 'rajamaki', 'ylinen', 'hyvinkaa', 'finn', 'rushydro', 'oesk', 'ercs', 'trust', 'rao', 'kaleva', 'kustannus', 'markku', 'hangasjarvi', 'resignation', 'mat', 'eriksson', 'aladdin', 'kaspersky', 'marshal', 'mcafee', 'panda', 'proofpoint', 'sophos', 'symantec', 'tumbleweed', 'websense', 'ro', 'scrapped', 'insolvency', 'regulates', 'borrower', 'permitted', 'write', 'presently', 'financially', 'feasible', 'relating', 'headquarter', 'rent', 'leased', 'aviva', 'shuts', 'friend', 'alumina', 'english', 'processguide', 'standalone', 'xpress', 'expired', 'statutory', 'anticipated', 'affected', 'karlstad', 'chargz', 'korean', 'lg', 'atlas', 'bidding', 'ooo', 'kitai', 'stroi', 'bullet', 'revolving', 'automatically', 'diagnostic', 'healthcare', 'chaim', 'katzman', 'dialing', 'quote', 'boost', 'expensive', 'spent', 'studying', 'pellissier', 'increasing', 'shop', 'randgold', 'poor', 'gold', 'weighing', 'nancheng', 'pacific', 'highest', 'weakening', 'demand', 'wintek', 'west', 'cosco', 'peter', 'dohle', 'cido', 'refused', 'swot', 'categorization', 'coker', 'supplied', 'tesoro', 'golden', 'eagle', 'martinez', 'california', 'castell', 'spain', 'counter', 'inaugurates', 'inaugurating', 'parnu', 'aside', 'hectare', 'mikkonen', 'flange', 'privacy', 'tecv', 'scaffolding', 'generator', 'hoist', 'gdf', 'suez', 'helasto', 'omitted', 'substantial', 'rightfully', 'responsive', 'evaluation', 'learn', 'interdigital', 'twice', 'kiikoinen', 'juha', 'haapakoski', 'editor', 'pc', 'guatemala', 'telgua', 'cdma', 'gsm', 'mutual', 'hemphill', 'immediately', 'mursula', 'tried', 'gather', 'macro', 'watchtower', 'ireland', 'galeria', 'podlaska', 'mall', 'wysockiego', 'bia', 'ystok', 'maximizes', 'resilience', 'seamless', 'finish', 'dragonfly', 'love', 'shot', 'explained', 'ehitus', 'priit', 'sauk', 'hobby', 'hall', 'trial', 'quartal', 'interactive', 'poised', 'sir', 'mike', 'rake', 'coo', 'excise', 'duty', 'liter', 'diesel', 'gasoline', 'hsbc', 'shake', 'ridge', 'justin', 'bao', 'yiliang', 'karczewicz', 'marta', 'ipad', 'attach', 'covering', 'globe', 'israel', 'itonut', 'delhaize', 'lion', 'vocal', 'pda', 'wt', 'antonio', 'domestically', 'neighboring', 'organically', 'elite', 'residence', 'tameer', 'dubai', 'marina', 'ecommerce', 'lazada', 'alibaba', 'pearl', 'cjsc', 'shanghai', 'nursery', 'tomi', 'laamanen', 'chic', 'cheerful', 'sending', 'geometric', 'past', 'guangdong', 'sinocast', 'qingyuan', 'province', 'palm', 'reflected', 'schroders', 'depresses', 'shale', 'enefit', 'scopi', 'eng', 'commissioning', 'vasantha', 'extension', 'mediation', 'ibm', 'federal', 'deadline', 'salaried', 'respectively', 'packet', 'determine', 'processed', 'altona', 'stated', 'maloney', 'tulla', 'entitlement', 'okhta', 'architecture', 'petrochemical', 'catering', 'bakman', 'helisnki', 'claiming', 'toward', 'introduced', 'hspa', 'wi', 'fi', 'harvester', 'forwarders', 'loader', 'edging', 'wagon', 'seinajoki', 'welding', 'assembly', 'distinct', 'supermercado', 'premium', 'benelux', 'harkonen', 'pentti', 'sipponen', 'osmo', 'suovaniemi', 'tapani', 'tiusanen', 'wave', 'passed', 'delta', 'nsn', 'wellness', 'syndicate', 'involving', 'alternately', 'vacant', 'occupied', 'constantly', 'signaling', 'crash', 'metro', 'coverage', 'baked', 'biscuit', 'breakfast', 'cereal', 'megafon', 'turkcell', 'cukurova', 'successor', 'french', 'normandy', 'refining', 'concentrating', 'clean', 'rmb', 'cosmetic', 'decoration', 'leisure', 'looking', 'brista', 'chp', 'vartan', 'kansa', 'poznan', 'pestka', 'rosendal', 'larox', 'deducted', 'modification', 'effluent', 'follum', 'yhoo', 'fishy', 'dailymail', 'bounce', 'retreat', 'thought', 'dwt', 'rolling', 'announce', 'tackle', 'rl', 'raiffeisen', 'austria', 'companieshoward', 'limiting', 'heterogenous', 'potato', 'streamline', 'spokeswoman', 'trygvesta', 'kari', 'kallio', 'retire', 'usmanov', 'svyazinvest', 'rostelecom', 'arabized', 'battery', 'categorically', 'wahlroos', 'asked', 'competency', 'tietoenators', 'verification', 'cast', 'election', 'woodworking', 'sheksna', 'vologda', 'collated', 'mercator', 'jyvaeskylae', 'mylan', 'ranjan', 'ray', 'chaudhuri', 'comtex', 'tekmanni', 'lemcon', 'forssan', 'betoni', 'suonenjoen', 'betonituote', 'disappear', 'orion', 'tumkur', 'apart', 'ergo', 'competing', 'synonymous', 'universal', 'sony', 'warner', 'emi', 'rotana', 'mazzika', 'melody', 'aggregator', 'orchard', 'forex', 'recession', 'agriculture', 'helir', 'valdor', 'seeder', 'visit', 'counterpart', 'sirkka', 'anttila', 'communicated', 'accommodate', 'grc', 'fabrication', 'seeking', 'luumaki', 'signed', 'lahden', 'lampokasittely', 'heatmasters', 'companiesdiageo', 'boardroom', 'turmoil', 'oriented', 'karttakeskus', 'geographic', 'exempting', 'anti', 'dumping', 'pact', 'convergence', 'headboxes', 'consistency', 'ensure', 'plasterboard', 'citigroup', 'db', 'bertrand', 'sciard', 'straight', 'juhani', 'fragmented', 'hoped', 'capped', 'achievement', 'dnb', 'nord', 'citadele', 'pietiek', 'stakeholder', 'greatest', 'importance', 'tyre', 'relationship', 'matching', 'kpi', 'suite', 'sponsor', 'endowment', 'institute', 'library', 'midwest', 'challenge', 'hansen', 'typical', 'ceiling', 'visible', 'fencing', 'formwork', 'concrete', 'pourings', 'intangible', 'mechanic', 'latvijas', 'finieris', 'mformation', 'configuration', 'decker', 'husqvarna', 'outdoor', 'ryobi', 'miracle', 'gro', 'van', 'button', 'placement', 'gallup', 'wire', 'width', 'min', 'boxboard', 'cue', 'playbook', 'dillon', 'hitting', 'jean', 'tummy', 'cowboy', 'cider', 'strawberry', 'rhubarb', 'pear', 'bottle', 'jensen', 'njastein', 'critch', 'dovre', 'toivola', 'appeal', 'lodged', 'extend', 'ttmv', 'repeating', 'slo', 'kiilto', 'toptronics', 'normark', 'pellonpaja', 'mansner', 'parameter', 'rig', 'who', 'pushing', 'suspended', 'turning', 'blow', 'buyback', 'lol', 'hal', 'bull', 'lucky', 'enuff', 'gap', 'fill', 'stks', 'ru', 'backup', 'protects', 'stored', 'hydrogen', 'peroxide', 'pb', 'facade', 'riga', 'ytyv', 'han', 'dalborg', 'nomination', 'lowest', 'criterion', 'spokesperson', 'wwd', 'expect', 'decor', 'authorisation', 'repeal', 'scheduling', 'reportable', 'crecent', 'reel', 'congress', 'ingen', 'respiratory', 'telenor', 'float', 'aeronautic', 'eads', 'v', 'collect', 'calculates', 'rvr', 'rohwedder', 'annum', 'seppala', 'greater', 'extent', 'photonium', 'akseli', 'lahtinen', 'marela', 'handle', 'comparison', 'wherever', 'reorganised', 'apetit', 'jam', 'z', 'standing', 'md', 'dino', 'retired', 'eos', 'innovationsmanagement', 'getting', 'supercalendered', 'satisfactorily', 'restarting', 'older', 'newsprint', 'ahlv', 'spunlace', 'chirnside', 'furthermore', 'cyclone', 'molten', 'particle', 'neudorf', 'castecka', 'formal', 'statistical', 'therapeutic', 'coordinated', 'therefore', 'avena', 'papua', 'guinea', 'lihir', 'flurry', 'double', 'checked', 'sure', 'aberration', 'talvik', 'hp', 'gunneflo', 'mp', 'snapper', 'nothing', 'else', 'mba', 'arto', 'ryymin', 'born', 'kaisanlahti', 'evp', 'welfare', 'remote', 'ghz', 'tdd', 'isoprene', 'tree', 'specie', 'hevea', 'brasiliensis', 'rubber', 'costanza', 'washable', 'shade', 'white', 'pistachio', 'blue', 'lsc', 'raffle', 'archer', 'exploration', 'spreader', 'finbow', 'enclosed', 'authorization', 'haakon', 'skaarer', 'average', 'maine', 'xac', 'bag', 'cdp', 'countervalue', 'thomas', 'hoyer', 'nikkei', 'hang', 'seng', 'allowed', 'quantity', 'sari', 'baldauf', 'tapio', 'hintikka', 'westerlund', 'utilises', 'waterborne', 'ultra', 'painting', 'coat', 'exterior', 'primer', 'pirkka', 'brewery', 'iisalmi', 'girder', 'ylivieska', 'oversee', 'brings', 'skandinaviska', 'enskilda', 'banken', 'yhtyma', 'fulfilled', 'variant', 'mpra', 'kraski', 'entitle', 'anasmotet', 'junction', 'marieholm', 'veidekke', 'protein', 'quickly', 'incident', 'happened', 'avenue', 'airbaltic', 'finncomm', 'dc', 'inverter', 'incorporating', 'ervi', 'parallel', 'compulsory', 'ashley', 'dig', 'rebuilt', 'outdoors', 'birch', 'coaster', 'magnet', 'converter', 'preferred', 'turbine', 'finger', 'friendly', 'really', 'authorise', 'locatrix', 'locate', 'kennedy', 'laguardia', 'newark', 'teterboro', 'stewart', 'peab', 'conducted', 'cliffton', 'entreprenad', 'valmet', 'shifted', 'simonson', 'resolution', 'royce', 'compliance', 'petrobras', 'bribery', 'critical', 'politician', 'failure', 'differentiate', 'beleaguered', 'skandinavian', 'sailed', 'crisis', 'roundtable', 'rspo', 'depends', 'yhtym', 'ban', 'unloader', 'totally', 'conveying', 'hienonen', 'step', 'euribor', 'goldman', 'sachs', 'sunrise', 'shore', 'surveyed', 'innofactor', 'scene', 'exists', 'artemyev', 'county', 'hosted', 'florida', 'rock', 'southeastern', 'hauling', 'motor', 'dry', 'bulk', 'commodity', 'app', 'hunting', 'fortune', 'interview', 'bjorn', 'certainly', 'confirming', 'coordinate', 'swedbank', 'hypotek', 'emailed', 'elsewhere', 'tendency', 'seikku', 'actor', 'stonegate', 'unified', 'shared', 'auditing', 'slide', 'newest', 'seismic', 'compressor', 'succeed', 'krister', 'kylas', 'demanded', 'overcharging', 'western', 'inspectorate', 'debenture', 'irrevocable', 'subordinated', 'gb', 'classic', 'navigator', 'xm', 'trained', 'assistant', 'locator', 'searching', 'replacement', 'kallasvuo', 'constructed', 'fki', 'jiang', 'cu', 'dart', 'dallas', 'fcu', 'merge', 'ameas', 'schuldschein', 'pool', 'inaugural', 'eurobond', 'perpendicular', 'breadth', 'draught', 'bretagne', 'fishing', 'hanoi', 'tamglass', 'eb', 'sverige', 'perform', 'prohouse', 'effected', 'cancellation', 'meantime', 'assumed', 'rantakari', 'coffee', 'programming', 'etc', 'postponement', 'dsov', 'transported', 'whereas', 'moorestown', 'clausen', 'consider', 'genvec', 'biopharmaceutical', 'novel', 'vaccine', 'attached', 'haavisto', 'race', 'onto', 'creates', 'garner', 'joined', 'saarioinen', 'excess', 'ugglarp', 'sk', 'ne', 'liechtenstein', 'manhattan', 'flatiron', 'toy', 'goodyear', 'bridgestone', 'michelin', 'pirelli', 'stefan', 'portal', 'unveiled', 'resurrect', 'ailing', 'outplacement', 'reduced', 'monospace', 'elevator', 'collision', 'concentrate', 'bounced', 'reached', 'nugget', 'initial', 'tokyo', 'ufj', 'paijat', 'hame', 'virkkala', 'semiconductor', 'enhance', 'raivv', 'wrapped', 'painted', 'resin', 'treble', 'cm', 'deep', 'cs', 'ppmi', 'dealership', 'drawing', 'silver', 'door', 'altima', 'scheck', 'identifying', 'frenzy', 'royal', 'envisages', 'gatehouse', 'empt', 'mohammed', 'zainalabedin', 'zain', 'bahrain', 'hosting', 'optionally', 'assist', 'learning', 'literature', 'eleven', 'poser', 'impress', 'lisle', 'ill', 'opened', 'chicago', 'los', 'angeles', 'relevant', 'optimising', 'indosat', 'weckstr', 'esa', 'interavanti', 'lippupiste', 'ct', 'eventim', 'unbelievably', 'thorwoste', 'charter', 'blast', 'furnace', 'forging', 'nurminen', 'forwarding', 'ionphase', 'aura', 'committed', 'gogol', 'crossing', 'voip', 'speaker', 'shdsl', 'syrj', 'nen', 'grown', 'internationalised', 'messaging', 'telecomms', 'match', 'grows', 'gathered', 'sihvonen', 'recruit', 'trainee', 'qualified', 'glav', 'kenneth', 'bower', 'vista', 'swiss', 'suisse', 'locomotive', 'astana', 'span', 'hospitality', 'performing', 'restructurings', 'seventy', 'archestra', 'wonderware', 'contempus', 'budapest', 'egeszsegbolt', 'krav', 'facilitate', 'envisaged', 'uv', 'wastewater', 'drinking', 'trojan', 'logical', 'rtsil', 'ballast', 'geneva', 'tero', 'aaltonen', 'osuuskauppa', 'suur', 'savo', 'tweeple', 'cautious', 'clicking', 'tinyurls', 'timo', 'kohtam', 'ki', 'nevertheless', 'designation', 'speculative', 'lakeville', 'technological', 'specialize', 'formation', 'technoparks', 'hi', 'latvian', 'crushed', 'renewing', 'jortikka', 'assumption', 'etera', 'session', 'rimvesta', 'ell', 'nekilnojamas', 'turtas', 'merko', 'gemalto', 'fastest', 'delivers', 'reliable', 'provisioning', 'activation', 'fulfilment', 'pop', 'imap', 'meant', 'soosalu', 'bracing', 'promised', 'lotus', 'traveler', 'priced', 'recoil', 'regeneration', 'hamina', 'synosia', 'lukkoexpert', 'kimmo', 'uusimaki', 'yitgroup', 'nwc', 'weekend', 'freezing', 'bonus', 'permit', 'round', 'kuula', 'composition', 'respect', 'dna', 'reftele', 'maskinservice', 'spare', 'talking', 'myllykoski', 'creditor', 'cph', 'realprojekti', 'advise', 'och', 'inrikes', 'tidningar', 'dagens', 'industri', 'nastola', 'pursue', 'hervy', 'denied', 'ovum', 'burning', 'korpinen', 'apac', 'demonstrating', 'salv', 'twist', 'dial', 'minute', 'uutislehti', 'drying', 'grading', 'saunalahti', 'kahonen', 'juuka', 'fire', 'curator', 'theme', 'continent', 'reflect', 'shuweihat', 'got', 'desalination', 'destination', 'parity', 'plaza', 'varesvuo', 'sub', 'sitra', 'oras', 'leaving', 'modelling', 'scanning', 'sokopro', 'courier', 'ahola', 'decrease', 'auburn', 'piloting', 'gained', 'telco', 'teaming', 'bullying', 'fight', 'child', 'teenager', 'glisten', 'logistic', 'slovenia', 'quadriga', 'lewa', 'pump', 'nikkiso', 'reding', 'bratislava', 'surveillance', 'camera', 'sukhraj', 'dulai', 'boni', 'sue', 'court', 'cul', 'sac', 'inside', 'garage', 'maritim', 'inking', 'sludge', 'ink', 'removed', 'stadigh', 'arteva', 'esl', 'wig', 'chip', 'mc', 'poundstretcher', 'integrate', 'divestments', 'redelivery', 'tonnage', 'mode', 'tournament', 'multiplayer', 'actually', 'glaxosmithkline', 'hunt', 'witty', 'wife', 'paycheck', 'quipped', 'knot', 'swirled', 'anchored', 'heavily', 'sponsored', 'sled', 'herttaassa', 'flagging', 'electrification', 'lundmark', 'reliance', 'upcoming', 'jamnagar', 'conceptual', 'gradually', 'proof', 'pharmacodynamic', 'corroborate', 'dose', 'watching', 'boh', 'dramatically', 'penttil', 'delisted', 'nm', 'accordingly', 'linked', 'tutkimuksen', 'tahdet', 'viii', 'star', 'minimize', 'ensuring', 'beneath', 'saimaa', 'undisturbed', 'vintage', 'cushion', 'pot', 'dish', 'cocktail', 'kershaw', 'sankey', 'smelter', 'nsr', 'royalty', 'viscaria', 'adak', 'avalon', 'asx', 'avi', 'tomhend', 'mu', 'broken', 'flush', 'kyroskoski', 'powerplant', 'innovator', 'happens', 'megamart', 'eataly', 'meaning', 'kid', 'hu', 'ubnt', 'trouble', 'resistance', 'resolve', 'cheri', 'strattonite', 'csu', 'johnson', 'matthey', 'byline', 'tim', 'moran', 'cellular', 'map', 'navteq', 'bedroom', 'cool', 'makeover', 'originated', 'writing', 'continuation', 'collaboration', 'antti', 'tuuri', 'myspace', 'submission', 'emmy', 'effort', 'identify', 'aspiring', 'artist', 'imsm', 'unlisted', 'biologicals', 'disease', 'specific', 'supplement', 'diabetes', 'hepatitis', 'asthma', 'cardiovascular', 'ailment', 'restructured', 'stand', 'packed', 'millilitre', 'screw', 'holiday', 'bargain', 'audience', 'ahms', 'franchise', 'pan', 'enjoy', 'often', 'experimenting', 'seahawkdrilling', 'tab', 'reproduction', 'aug', 'curbed', 'racked', 'sidewalk', 'noop', 'recalling', 'tourist', 'gran', 'turnaround', 'proving', 'outsource', 'bns', 'miniature', 'readership', 'lanxess', 'cw', 'actively', 'petrofac', 'karkkila', 'weert', 'orhangazi', 'acquires', 'rf', 'robot', 'valkeakoski', 'enters', 'smart', 'traveller', 'delegation', 'finnfund', 'alteams', 'ignatius', 'hacking', 'classified', 'riskware', 'sepa', 'raty', 'archicad', 'workflow', 'showcase', 'entice', 'favor', 'governemtn', 'commiting', 'noticeable', 'airtel', 'mostly', 'singulase', 'inge', 'larsen', 'headed', 'lynn', 'shanahan', 'sculptural', 'rabochy', 'kolkhoznitsa', 'collective', 'farmer', 'melting', 'implies', 'parking', 'demonstrated', 'aava', 'veliky', 'ustjug', 'oblast', 'sveza', 'overlaid', 'savvy', 'gill', 'hyun', 'chang', 'dow', 'newswires', 'pietinalho', 'doctor', 'motivate', 'smoke', 'provision', 'scfv', 'kitron', 'asa', 'kit', 'tier', 'interchange', 'circulation', 'vijver', 'weekly', 'humo', 'saav', 'defence', 'attacker', 'detect', 'capturing', 'grabbing', 'keylogging', 'injection', 'independence', 'individually', 'speech', 'kyrolainen', 'ambassador', 'equaling', 'glencore', 'tripoli', 'noc', 'libyan', 'sporting', 'peltonen', 'weighs', 'kilogram', 'centimeter', 'pcmag', 'lived', 'continually', 'nokian', 'vsevolozhsk', 'leningrad', 'tomas', 'offset', 'lvl', 'cableway', 'rimi', 'magistral', 'cruising', 'rev', 'bioview', 'automates', 'cancer', 'glad', 'stopped', 'blind', 'vantage', 'unbroken', 'limestone', 'breeze', 'sintered', 'lump', 'scholarship', 'recipient', 'difference', 'stt', 'flat', 'microwave', 'inaugurated', 'varkaus', 'utilizing', 'costly', 'thinly', 'populated', 'balloon', 'admits', 'incur', 'panfish', 'bluegill', 'catch', 'vap', 'iran', 'iraq', 'highlighted', 'constitutes', 'aggregate', 'marietta', 'ga', 'reorganization', 'leipurin', 'innovational', 'beginner', 'spectrum', 'matkatoimisto', 'smt', 'brick', 'mortar', 'presence', 'offenburg', 'legislative', 'protocol', 'technopark', 'lumene', 'lawmaker', 'yakima', 'downturn', 'assume', 'maritime', 'furusund', 'normally', 'condominium', 'iso', 'omena', 'matinkyla', 'lcs', 'tailored', 'tyumen', 'chelyabinsk', 'khanty', 'mansi', 'autonomous', 'nekoski', 'filling', 'boring', 'muling', 'kemian', 'album', 'streaming', 'restriction', 'heated', 'therein', 'reinforced', 'petri', 'ailus', 'isto', 'hantila', 'sata', 'flexo', 'substitute', 'loviisa', 'leaf', 'returned', 'lee', 'man', 'campofrio', 'groupe', 'smithfield', 'sfd', 'lacquered', 'clock', 'stripy', 'crocheted', 'possibly', 'msn', 'adp', 'vaias', 'reference', 'radiosonde', 'observation', 'nitrogen', 'nitrate', 'patrik', 'flykt', 'alakoski', 'suihko', 'nadarajah', 'asokan', 'agj', 'luna', 'beatriz', 'recari', 'martina', 'eberl', 'welsh', 'becky', 'brewerton', 'finisher', 'sharing', 'seventh', 'shooting', 'turned', 'onemed', 'workday', 'ingredient', 'contain', 'nutritional', 'solar', 'crystal', 'ruin', 'bb', 'bc', 'gild', 'sandbagged', 'cautiously', 'optimistic', 'til', 'er', 'confirmation', 'si', 'intouch', 'hmi', 'industrialsql', 'historian', 'dt', 'qi', 'spc', 'penttila', 'readychex', 'investrend', 'broadcast', 'firstalert', 'oefirstalert', 'tekes', 'stuk', 'proposition', 'resting', 'comfortably', 'shivakumar', 'reporter', 'galvan', 'liquor', 'jaakko', 'vilo', 'calibration', 'antniemi', 'refuted', 'reorganizing', 'liljeholmen', 'hedging', 'projektivuokraus', 'vtm', 'rakennuskonevuokraamo', 'monitoring', 'oka', 'logistical', 'crude', 'barrel', 'keith', 'skeoch', 'david', 'nish', 'quits', 'grain', 'lonnfors', 'rihko', 'benecol', 'heading', 'tobacco', 'altadis', 'tomsk', 'premature', 'procedure', 'contribute', 'cymed', 'lgu', 'kauhajoen', 'teurastamokiinteistot', 'itikka', 'hire', 'towergate', 'egan', 'usually', 'shadow', 'lip', 'gloss', 'mascara', 'embarked', 'fidelity', 'ghana', 'unbanked', 'banked', 'mikko', 'saavalainen', 'gibtelecom', 'illustration', 'regulatory', 'facing', 'reaffirmed', 'voltage', 'winder', 'inform', 'johanna', 'koskinen', 'participation', 'jim', 'heindlmeyer', 'beyond', 'oblivion', 'recording', 'marinated', 'olive', 'pate', 'vdw', 'aqua', 'multifunctional', 'rosen', 'inregard', 'ekaterinburg', 'kazan', 'rostov', 'serbia', 'portugal', 'alpina', 'lebanon', 'wax', 'everything', 'donate', 'diameter', 'ietf', 'rfc', 'basement', 'weber', 'convinced', 'ostrom', 'lake', 'challenger', 'logset', 'bk', 'optiflex', 'kdg', 'bi', 'directionality', 'investlesprom', 'admiral', 'soar', 'termination', 'ofcom', 'postal', 'regulation', 'discipline', 'deepwater', 'baba', 'wks', 'mrkt', 'washout', 'stalk', 'sahlberg', 'teppo', 'mustonen', 'marking', 'tomato', 'carrot', 'egg', 'happening', 'mar', 'ukonaho', 'vnh', 'trailing', 'czg', 'roofing', 'felt', 'moskovia', 'surrounding', 'exceeds', 'repo', 'symphony', 'expires', 'initially', 'honolulu', 'diego', 'phoenix', 'galerie', 'valid', 'ivrcl', 'inorganic', 'coagulant', 'vishakapatnam', 'vizag', 'andhra', 'pradesh', 'kick', 'seem', 'pekkarinen', 'gawker', 'wackiness', 'activision', 'atvi', 'cardona', 'slowed', 'intersection', 'cpps', 'undertaken', 'eou', 'khopoli', 'collaborative', 'valga', 'lihatoostus', 'mak', 'moorits', 'harbour', 'exactly', 'weekday', 'baker', 'brought', 'remind', 'easter', 'tradition', 'wheat', 'rice', 'pie', 'lse', 'talv', 'derived', 'crucially', 'etsi', 'backed', 'dvb', 'opting', 'vie', 'wellmont', 'investing', 'ea', 'reng', 'heineken', 'hartwall', 'altia', 'osuuskunta', 'kpy', 'voimatel', 'happen', 'overnight', 'reward', 'earning', 'laasanen', 'hiring', 'differs', 'carton', 'lighter', 'mosmetro', 'magnetic', 'indigo', 'somoncom', 'erp', 'rn', 'wellbeing', 'survey', 'barc', 'bcs', 'agricole', 'epa', 'aca', 'cagr', 'quite', 'redundant', 'luxury', 'commerzbank', 'hamburg', 'arranger', 'ing', 'am', 'inga', 'strictly', 'regulated', 'substation', 'netapp', 'strategically', 'repositioning', 'relaunch', 'gerber', 'silva', 'buster', 'knife', 'compass', 'lighting', 'pedometer', 'cf', 'pty', 'renison', 'nl', 'ogden', 'ukmerge', 'newpage', 'stricter', 'prgn', 'pietarsaari', 'propeller', 'gear', 'instrumentation', 'inha', 'omeo', 'explosively', 'era', 'kazakh', 'jsc', 'rubin', 'vauramo', 'lifting', 'igor', 'oleg', 'yankov', 'moron', 'vitim', 'desk', 'veracel', 'clarification', 'judgement', 'communal', 'electric', 'pfizer', 'funding', 'pde', 'phosphodiesterase', 'inhibitor', 'discovered', 'compound', 'flexi', 'multiradio', 'mhz', 'complement', 'burton', 'telecominvest', 'payphones', 'servis', 'minor', 'lightweight', 'connecting', 'fusing', 'personalized', 'try', 'icis', 'click', 'paperboard', 'reclaimed', 'suggest', 'dash', 'shelved', 'nvda', 'sideways', 'principle', 'definitely', 'ahead', 'privatisation', 'redesigned', 'crushing', 'excessive', 'slice', 'parquet', 'plyfa', 'hassela', 'pressuring', 'slash', 'dinosaur', 'disk', 'multimediacard', 'physical', 'invented', 'ahvenainen', 'ruutana', 'ues', 'reform', 'mayawas', 'ufa', 'fremantlemedia', 'advertised', 'maxi', 'endp', 'entry', 'push', 'compnay', 'toppled', 'semi', 'trailer', 'barstow', 'merchandise', 'identified', 'sacanfil', 'loyal', 'yhteishyv', 'helsingin', 'niina', 'nenonen', 'homeowner', 'huhtam', 'moisio', 'reaching', 'vostochny', 'objectively', 'retrieving', 'typed', 'keyboard', 'keyloggers', 'mechanism', 'arrived', 'phishing', 'pharming', 'odd', 'nevsky', 'vosstaniya', 'practically', 'except', 'vimpelcom', 'kyivstar', 'salvor', 'fim', 'alpro', 'homepage', 'kauppalehti', 'vtb', 'gram', 'inch', 'vga', 'megabyte', 'memory', 'expandable', 'slot', 'capitex', 'alike', 'ask', 'practice', 'organize', 'wtc', 'marski', 'aleksanterinkatu', 'lunch', 'organised', 'viable', 'reino', 'tammela', 'downplay', 'brexit', 'threat', 'ghg', 'overseas', 'westend', 'nationally', 'regionally', 'success', 'lie', 'maintained', 'moreover', 'kito', 'intend', 'mhs', 'fancy', 'dans', 'fab', 'glasgow', 'gift', 'hikauppa', 'lidl', 'tele', 'mets', 'liitto', 'invenergy', 'sterv', 'ostroleka', 'mi', 'pohjantahti', 'projected', 'prosecutor', 'proceeded', 'aol', 'weblogs', 'upstaged', 'premier', 'promo', 'laavainen', 'leif', 'quarto', 'degerfors', 'castle', 'willich', 'pressplate', 'prefab', 'avesta', 'luxembourg', 'seafood', 'willingness', 'sullivan', 'aspokem', 'underutilisation', 'barcelona', 'catalyst', 'polyolefin', 'markka', 'oksanen', 'harald', 'kaaja', 'salokannel', 'kangasala', 'palin', 'viiala', 'conducting', 'dukat', 'palace', 'uzbek', 'coscom', 'interfax', 'hacker', 'virus', 'spyware', 'promising', 'unless', 'loading', 'chf', 'breaking', 'abbott', 'canceled', 'dolce', 'gabbana', 'declare', 'unikko', 'floral', 'invalid', 'dispute', 'diluted', 'negative', 'shedding', 'afev', 'slipped', 'tougher', 'substantially', 'bread', 'kauhava', 'liquidity', 'affecting', 'workforce', 'versus', 'orkola', 'growhow', 'phosphate', 'depressed', 'irish', 'bodily', 'injury', 'quadrupled', 'swung', 'strike', 'pretax', 'dropped', 'hbos', 'plummeted', 'penny', 'ford', 'slowing', 'suv', 'surfeit', 'ta', 'flsmidth', 'violated', 'scala', 'nobel', 'biocare', 'kesbv', 'yea', 'external', 'hs', 'shrank', 'acando', 'acanb', 's', 'diminished', 'drop', 'arcelormittal', 'lakshmi', 'mittal', 'landsbanken', 'burdened', 'lorry', 'otev', 'embroiled', 'disagreement', 'qualcomm', 'patented', 'dismissed', 'settled', 'warning', 'saw', 'execute', 'headcount', 'poorest', 'biobv', 'ilk', 'declining', 'ebit', 'falling', 'damaged', 'criticising', 'cry', 'ornav', 'till', 'axa', 'slid', 'slashed', 'freenet', 'drillisch', 'breakup', 'jouko', 'tariff', 'hike', 'weakened', 'bln', 'norvestia', 'finton', 'utilisation', 'considerably', 'weaker', 'coca', 'cola', 'distributable', 'stoppage', 'boycotting', 'wage', 'lye', 'leak', 'occurred', 'halted', 'kapthing', 'surmise', 'comfort', 'stuck', 'bay', 'thicker', 'aaland', 'depositary', 'cerberus', 'lp', 'cloud', 'upset', 'geberit', 'blaming', 'rutav', 'amsterdam', 'belief', 'reservation', 'maaseudun', 'tulevaisuus', 'fined', 'oao', 'lidskoe', 'pivo', 'grodno', 'decaliter', 'kcrv', 'fh', 'seawind', 'regal', 'kapellskar', 'paldiski', 'aero', 'decline', 'gone', 'uncommonly', 'roger', 'talermo', 'jul', 'thief', 'stealing', 'latv', 'nausea', 'widened', 'lowered', 'sel', 'hasten', 'bargaining', 'gmt', 'leakage', 'gypsum', 'pond', 'detected', 'posting', 'administrative', 'tightened', 'laid', 'arokarhu', 'scanned', 'disappeared', 'pressed', 'ease', 'alholma', 'ojala', 'snag', 'rejected', 'sep', 'clerical', 'baltimore', 'police', 'lost', 'madoff', 'ponzi', 'worse', 'spending', 'downgraded', 'upmv', 'underperf', 'stationery', 'tiiv', 'thyssenkrupp', 'otis', 'schindler', 'alleged', 'collar', 'terminated', 'roi', 'projection', 'sun', 'suitor', 'ruled', 'hack', 'nefarious', 'tweet', 'activated', 'clicked', 'surfer', 'mouse', 'cursor', 'productional', 'impairment', 'imputed', 'hardest', 'occupies', 'dropping', 'cet', 'faller', 'oversupply', 'pharmacy', 'xa', 'sufficient', 'trace', 'toxic', 'osmium', 'tetroxide', 'northernmost', 'repeat', 'newsroom', 'keywords', 'compare', 'mti', 'pecs', 'zoltan', 'krippl', 'fewer', 'varpaisj', 'initiated', 'flew']\n"
     ]
    }
   ],
   "source": [
    "# here we get output type is list\n",
    "\n",
    "# finding unique items for postive sentiment\n",
    "tokenized_text_pos\n",
    "unique_items_pos = []\n",
    "for item in tokenized_text_pos:\n",
    "    if item not in unique_items_pos:\n",
    "        unique_items_pos.append(item)\n",
    "print(unique_items_pos)\n",
    "# finding unique items for negative sentiment\n",
    "tokenized_text_neg\n",
    "unique_items_neg = []\n",
    "for item in tokenized_text_neg:\n",
    "    if item not in unique_items_neg:\n",
    "        unique_items_neg.append(item)\n",
    "print(unique_items_neg)\n",
    "# finding unique items for neutral sentiment\n",
    "tokenized_text_neu\n",
    "unique_items_neu = []\n",
    "for item in tokenized_text_neu:\n",
    "    if item not in unique_items_neu:\n",
    "        unique_items_neu.append(item)\n",
    "print(unique_items_neu)\n",
    "# the words which are common in the neutral, negative, sentiment\n",
    "common_words = []\n",
    "for word in unique_items_pos:\n",
    "    if word in unique_items_neg and word in unique_items_neu:\n",
    "        common_words.append(word)"
   ]
  },
  {
   "cell_type": "code",
   "execution_count": 37,
   "id": "24400eb6",
   "metadata": {},
   "outputs": [],
   "source": [
    "word_counts_all = Counter(tokenized_text_all)"
   ]
  },
  {
   "cell_type": "code",
   "execution_count": 38,
   "id": "3bab12c8",
   "metadata": {},
   "outputs": [],
   "source": [
    "counts_dict_all = dict(word_counts_all)"
   ]
  },
  {
   "cell_type": "code",
   "execution_count": 39,
   "id": "a30d23d0",
   "metadata": {},
   "outputs": [],
   "source": [
    "# converting dictonary to data frames for all words\n",
    "df_1 = pd.DataFrame.from_dict(counts_dict_all, orient = 'index', columns = ['count of words'])\n",
    "df_1.reset_index(inplace= True)"
   ]
  },
  {
   "cell_type": "code",
   "execution_count": 40,
   "id": "cc86bfe8",
   "metadata": {},
   "outputs": [],
   "source": [
    "df_1.rename(columns={'index':'words'}, inplace = True)"
   ]
  },
  {
   "cell_type": "code",
   "execution_count": 41,
   "id": "4d918f87",
   "metadata": {},
   "outputs": [],
   "source": [
    "df_1 = df_1.sort_values('count of words', ascending = False)"
   ]
  },
  {
   "cell_type": "code",
   "execution_count": 42,
   "id": "9c4529a2",
   "metadata": {},
   "outputs": [],
   "source": [
    "#  filtering the words\n",
    "filtered_df = df_1[df_1[\"words\"].isin(common_words)]"
   ]
  },
  {
   "cell_type": "code",
   "execution_count": 43,
   "id": "4e23bbbf",
   "metadata": {},
   "outputs": [],
   "source": [
    "df_2 = filtered_df.head(75)"
   ]
  },
  {
   "cell_type": "code",
   "execution_count": 44,
   "id": "c17e44c8",
   "metadata": {},
   "outputs": [],
   "source": [
    "df_2 = df_2.drop('count of words', axis=1)"
   ]
  },
  {
   "cell_type": "code",
   "execution_count": 45,
   "id": "d73354fd",
   "metadata": {},
   "outputs": [],
   "source": [
    "words_75 = df_2['words'].tolist()"
   ]
  },
  {
   "cell_type": "code",
   "execution_count": 46,
   "id": "a31cb9ab",
   "metadata": {},
   "outputs": [],
   "source": [
    "# removing the 75 words in pos\n",
    "pos_words = [word for word in words_75 if word not in tokenized_text_pos] + [word for word in tokenized_text_pos if word not in words_75]\n",
    "# removing the 75 words in neg\n",
    "neg_words = [word for word in words_75 if word not in tokenized_text_neg] + [word for word in tokenized_text_neg if word not in words_75]\n",
    "# removing the 75 words in neu\n",
    "neu_words = [word for word in words_75 if word not in tokenized_text_neu] + [word for word in tokenized_text_neu if word not in words_75]\n",
    "# removing the 75 words in all\n",
    "all_words = [word for word in words_75 if word not in tokenized_text_all] + [word for word in tokenized_text_all if word not in words_75]"
   ]
  },
  {
   "cell_type": "code",
   "execution_count": 47,
   "id": "0dd374c0",
   "metadata": {},
   "outputs": [],
   "source": [
    "tokens_pos = [word_tokenize(review) for review in pos_words]\n",
    "pos_tokens = [[word for word in item if len(word) > 2] for item in tokens_pos]\n",
    "last_token = list(itertools.chain(*pos_tokens)) "
   ]
  },
  {
   "cell_type": "code",
   "execution_count": 49,
   "id": "72032462",
   "metadata": {},
   "outputs": [],
   "source": [
    "tokens_neg = [word_tokenize(review) for review in neg_words]\n",
    "neg_tokens = [[word for word in item if len(word) > 2] for item in tokens_neg]\n",
    "last_token = list(itertools.chain(*neg_tokens))"
   ]
  },
  {
   "cell_type": "code",
   "execution_count": 50,
   "id": "7d0a659f",
   "metadata": {},
   "outputs": [],
   "source": [
    "tokens_neu = [word_tokenize(review) for review in neu_words]\n",
    "neu_tokens = [[word for word in item if len(word) > 2] for item in tokens_neu]\n",
    "last_token = list(itertools.chain(*neu_tokens)) "
   ]
  },
  {
   "cell_type": "code",
   "execution_count": 51,
   "id": "977bc796",
   "metadata": {},
   "outputs": [],
   "source": [
    "wc_pos_words = Counter(pos_words)"
   ]
  },
  {
   "cell_type": "code",
   "execution_count": 52,
   "id": "dbd77082",
   "metadata": {},
   "outputs": [],
   "source": [
    "wc_neg_words = Counter(neg_words)"
   ]
  },
  {
   "cell_type": "code",
   "execution_count": 53,
   "id": "b8b8ab23",
   "metadata": {},
   "outputs": [],
   "source": [
    "wc_neu_words = Counter(neu_words)"
   ]
  },
  {
   "cell_type": "code",
   "execution_count": 54,
   "id": "1a3a34fc",
   "metadata": {},
   "outputs": [],
   "source": [
    "wc_all_words = Counter(all_words)"
   ]
  },
  {
   "cell_type": "code",
   "execution_count": 55,
   "id": "94a4051c",
   "metadata": {},
   "outputs": [],
   "source": [
    "#removing the words after removing 75 words\n",
    "def remove_words_not_in_set(sentence, word_set):\n",
    "    # Split sentence into list of words\n",
    "    words = sentence.split()\n",
    "    # Filter out words not in set\n",
    "    filtered_words = [word for word in words if word in word_set]\n",
    "    # Join filtered words back into a sentence\n",
    "    filtered_sentence = ' '.join(filtered_words)\n",
    "    return filtered_sentence"
   ]
  },
  {
   "cell_type": "code",
   "execution_count": 56,
   "id": "0d818f61",
   "metadata": {},
   "outputs": [],
   "source": [
    "# Apply function to each sentence in data\n",
    "filtered_sentences = []\n",
    "for sentence, sentiment in zip(df3['Sentence'], df3['Sentiment']):\n",
    "    if sentiment == 'positive':\n",
    "        filtered_sentence = remove_words_not_in_set(sentence, pos_words)# any dupicates found change this pos_words = uni_pos\n",
    "    elif sentiment == 'negative':\n",
    "        filtered_sentence = remove_words_not_in_set(sentence, neg_words)\n",
    "    else:\n",
    "        filtered_sentence = remove_words_not_in_set(sentence, neu_words)\n",
    "    filtered_sentences.append(filtered_sentence)"
   ]
  },
  {
   "cell_type": "code",
   "execution_count": 57,
   "id": "7a4657d3",
   "metadata": {},
   "outputs": [],
   "source": [
    "df3['Filtered_Sentence'] = filtered_sentences"
   ]
  },
  {
   "cell_type": "code",
   "execution_count": 58,
   "id": "16fc7208",
   "metadata": {},
   "outputs": [],
   "source": [
    "df3 = df3[[\"Filtered_Sentence\", \"Sentiment\"]]"
   ]
  },
  {
   "cell_type": "code",
   "execution_count": 59,
   "id": "9a673620",
   "metadata": {},
   "outputs": [],
   "source": [
    "# Convert sentiment labels to numerical values\n",
    "df3[\"Sentiment\"] = df3[\"Sentiment\"].map({\"negative\": 0, \"positive\": 1, \"neutral\": 2})"
   ]
  },
  {
   "cell_type": "code",
   "execution_count": 60,
   "id": "533b4353",
   "metadata": {},
   "outputs": [],
   "source": [
    "X = df3['Filtered_Sentence']\n",
    "y = df3['Sentiment']"
   ]
  },
  {
   "cell_type": "code",
   "execution_count": 61,
   "id": "1344e6b2",
   "metadata": {},
   "outputs": [],
   "source": [
    "# Split the data into training and testing sets\n",
    "X_train_t_xg, X_test_t_xg, y_train_t_xg, y_test_t_xg = train_test_split(X, y, test_size=0.2, random_state=42)"
   ]
  },
  {
   "cell_type": "code",
   "execution_count": 62,
   "id": "578bdfe8",
   "metadata": {},
   "outputs": [],
   "source": [
    "from xgboost import XGBClassifier"
   ]
  },
  {
   "cell_type": "code",
   "execution_count": 66,
   "id": "096b6491",
   "metadata": {},
   "outputs": [
    {
     "name": "stdout",
     "output_type": "stream",
     "text": [
      "y_pred shape: (1065,)\n",
      "Accuracy: 0.6938967136150235\n",
      "Precision: 0.7095212937534215\n",
      "Recall: 0.6938967136150235\n",
      "              precision    recall  f1-score   support\n",
      "\n",
      "           0       0.55      0.53      0.54        95\n",
      "           1       0.58      0.70      0.64       372\n",
      "           2       0.81      0.71      0.76       598\n",
      "\n",
      "    accuracy                           0.69      1065\n",
      "   macro avg       0.65      0.65      0.65      1065\n",
      "weighted avg       0.71      0.69      0.70      1065\n",
      "\n",
      "------------------------\n"
     ]
    }
   ],
   "source": [
    "shapes_t_xg = {}\n",
    "# Vectorize the features using a CountVectorizer with the current ngram_range and max_features=10000\n",
    "tfidf_vectorizer  = TfidfVectorizer(ngram_range=(1,3), max_features=10000)\n",
    "X_train_transformed_t_xg = tfidf_vectorizer.fit_transform(X_train_t_xg)\n",
    "X_test_transformed_t_xg = tfidf_vectorizer.transform(X_test_t_xg)\n",
    "    \n",
    "    # Store the shape of the transformed features in the shapes dictionary\n",
    "shapes_t_xg[(1,3)] = X_train_transformed_t_xg.shape\n",
    "    \n",
    "    # Calculate the class weights\n",
    "class_weights = {\n",
    "    2: 1.0,  # Neutral class weight\n",
    "    1: len(y_train_t_xg) / sum(y_train_t_xg==1),  # Positive class weight\n",
    "    0: len(y_train_t_xg) / sum(y_train_t_xg==0)  # Negative class weight\n",
    "}\n",
    "    # Initialize a Naive Bayes model with weighted loss function\n",
    "model = XGBClassifier(learning_rate=0.2,max_depth=30, n_estimators=1000, gamma=0.5, reg_alpha=0.5)\n",
    "\n",
    "    # Fit the model with weighted loss function\n",
    "model.fit(X_train_transformed_t_xg, y_train_t_xg, sample_weight=[class_weights[c] for c in y_train_t_xg])\n",
    "\n",
    "    # Predict the sentiment for the testing set\n",
    "y_pred_t_xg = model.predict(X_test_transformed_t_xg)\n",
    "print(f\"y_pred shape: {y_pred_t_xg.shape}\")\n",
    "    # Calculate evaluation metrics\n",
    "accuracy = accuracy_score(y_test_t_xg, y_pred_t_xg)\n",
    "precision = precision_score(y_test_t_xg, y_pred_t_xg, average='weighted')\n",
    "recall = recall_score(y_test_t_xg, y_pred_t_xg, average='weighted')\n",
    "\n",
    "print(f'Accuracy: {accuracy}')\n",
    "print(f'Precision: {precision}')\n",
    "print(f'Recall: {recall}')\n",
    "print(metrics.classification_report(y_test_t_xg, y_pred_t_xg))    \n",
    "print('------------------------')"
   ]
  },
  {
   "cell_type": "code",
   "execution_count": 67,
   "id": "de3bedee",
   "metadata": {},
   "outputs": [],
   "source": [
    "import pickle"
   ]
  },
  {
   "cell_type": "code",
   "execution_count": 68,
   "id": "774c0e7a",
   "metadata": {},
   "outputs": [],
   "source": [
    "pickle_out = open(\"xgrab.pkl\",\"wb\")\n",
    "pickle.dump(model, pickle_out)\n",
    "pickle_out.close()"
   ]
  },
  {
   "cell_type": "code",
   "execution_count": 69,
   "id": "6409e54d",
   "metadata": {},
   "outputs": [],
   "source": [
    "pickle_out = open(\"termf.pkl\",\"wb\")\n",
    "pickle.dump(tfidf_vectorizer, pickle_out)\n",
    "pickle_out.close()"
   ]
  },
  {
   "cell_type": "code",
   "execution_count": null,
   "id": "b8db6f99",
   "metadata": {},
   "outputs": [],
   "source": []
  },
  {
   "cell_type": "code",
   "execution_count": null,
   "id": "6ed2ca96",
   "metadata": {},
   "outputs": [],
   "source": []
  },
  {
   "cell_type": "code",
   "execution_count": null,
   "id": "96220e6a",
   "metadata": {},
   "outputs": [],
   "source": []
  },
  {
   "cell_type": "code",
   "execution_count": null,
   "id": "e1675c56",
   "metadata": {},
   "outputs": [],
   "source": []
  },
  {
   "cell_type": "code",
   "execution_count": null,
   "id": "6465feb5",
   "metadata": {},
   "outputs": [],
   "source": []
  },
  {
   "cell_type": "code",
   "execution_count": null,
   "id": "77a9a123",
   "metadata": {},
   "outputs": [],
   "source": []
  },
  {
   "cell_type": "code",
   "execution_count": null,
   "id": "40fd5cae",
   "metadata": {},
   "outputs": [],
   "source": []
  },
  {
   "cell_type": "code",
   "execution_count": null,
   "id": "925ba0db",
   "metadata": {},
   "outputs": [],
   "source": []
  },
  {
   "cell_type": "code",
   "execution_count": null,
   "id": "5599b522",
   "metadata": {},
   "outputs": [],
   "source": []
  },
  {
   "cell_type": "code",
   "execution_count": null,
   "id": "423958f3",
   "metadata": {},
   "outputs": [],
   "source": []
  },
  {
   "cell_type": "code",
   "execution_count": null,
   "id": "f17a4973",
   "metadata": {},
   "outputs": [],
   "source": []
  },
  {
   "cell_type": "code",
   "execution_count": null,
   "id": "5f94d70f",
   "metadata": {},
   "outputs": [],
   "source": []
  },
  {
   "cell_type": "code",
   "execution_count": null,
   "id": "3e682335",
   "metadata": {},
   "outputs": [],
   "source": []
  },
  {
   "cell_type": "code",
   "execution_count": null,
   "id": "b179e064",
   "metadata": {},
   "outputs": [],
   "source": []
  },
  {
   "cell_type": "code",
   "execution_count": null,
   "id": "e1ecc01a",
   "metadata": {},
   "outputs": [],
   "source": []
  },
  {
   "cell_type": "code",
   "execution_count": null,
   "id": "780ed28f",
   "metadata": {},
   "outputs": [],
   "source": []
  },
  {
   "cell_type": "code",
   "execution_count": null,
   "id": "f6b8c2ef",
   "metadata": {},
   "outputs": [],
   "source": []
  },
  {
   "cell_type": "code",
   "execution_count": null,
   "id": "40174cc4",
   "metadata": {},
   "outputs": [],
   "source": []
  },
  {
   "cell_type": "code",
   "execution_count": null,
   "id": "29c8cefa",
   "metadata": {},
   "outputs": [],
   "source": []
  },
  {
   "cell_type": "code",
   "execution_count": null,
   "id": "54ea8e83",
   "metadata": {},
   "outputs": [],
   "source": []
  },
  {
   "cell_type": "code",
   "execution_count": null,
   "id": "a4718c50",
   "metadata": {},
   "outputs": [],
   "source": []
  },
  {
   "cell_type": "code",
   "execution_count": null,
   "id": "81112aeb",
   "metadata": {},
   "outputs": [],
   "source": []
  },
  {
   "cell_type": "code",
   "execution_count": null,
   "id": "e7bc0ced",
   "metadata": {},
   "outputs": [],
   "source": []
  },
  {
   "cell_type": "code",
   "execution_count": null,
   "id": "23e68588",
   "metadata": {},
   "outputs": [],
   "source": []
  },
  {
   "cell_type": "code",
   "execution_count": null,
   "id": "f705a5bf",
   "metadata": {},
   "outputs": [],
   "source": []
  },
  {
   "cell_type": "code",
   "execution_count": null,
   "id": "a29eeed4",
   "metadata": {},
   "outputs": [],
   "source": []
  },
  {
   "cell_type": "code",
   "execution_count": null,
   "id": "1a12a38d",
   "metadata": {},
   "outputs": [],
   "source": []
  },
  {
   "cell_type": "code",
   "execution_count": null,
   "id": "de649e18",
   "metadata": {},
   "outputs": [],
   "source": []
  },
  {
   "cell_type": "code",
   "execution_count": null,
   "id": "7ed3330f",
   "metadata": {},
   "outputs": [],
   "source": []
  },
  {
   "cell_type": "code",
   "execution_count": null,
   "id": "221a477b",
   "metadata": {},
   "outputs": [],
   "source": []
  },
  {
   "cell_type": "code",
   "execution_count": null,
   "id": "6e8e7263",
   "metadata": {},
   "outputs": [],
   "source": []
  },
  {
   "cell_type": "code",
   "execution_count": null,
   "id": "371830af",
   "metadata": {},
   "outputs": [],
   "source": []
  },
  {
   "cell_type": "code",
   "execution_count": null,
   "id": "0e98134d",
   "metadata": {},
   "outputs": [],
   "source": []
  },
  {
   "cell_type": "code",
   "execution_count": null,
   "id": "a841b0ab",
   "metadata": {},
   "outputs": [],
   "source": []
  },
  {
   "cell_type": "code",
   "execution_count": null,
   "id": "e2934cc2",
   "metadata": {},
   "outputs": [],
   "source": []
  }
 ],
 "metadata": {
  "kernelspec": {
   "display_name": "Python 3 (ipykernel)",
   "language": "python",
   "name": "python3"
  },
  "language_info": {
   "codemirror_mode": {
    "name": "ipython",
    "version": 3
   },
   "file_extension": ".py",
   "mimetype": "text/x-python",
   "name": "python",
   "nbconvert_exporter": "python",
   "pygments_lexer": "ipython3",
   "version": "3.9.12"
  }
 },
 "nbformat": 4,
 "nbformat_minor": 5
}
